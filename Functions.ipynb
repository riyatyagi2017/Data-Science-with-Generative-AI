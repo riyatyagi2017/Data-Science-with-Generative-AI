{
 "cells": [
  {
   "cell_type": "code",
   "execution_count": 1,
   "id": "45de0e4c",
   "metadata": {},
   "outputs": [
    {
     "name": "stdout",
     "output_type": "stream",
     "text": [
      "Hello World\n"
     ]
    }
   ],
   "source": [
    "print(\"Hello World\")"
   ]
  },
  {
   "cell_type": "code",
   "execution_count": 2,
   "id": "5a3d0487",
   "metadata": {},
   "outputs": [
    {
     "data": {
      "text/plain": [
       "8"
      ]
     },
     "execution_count": 2,
     "metadata": {},
     "output_type": "execute_result"
    }
   ],
   "source": [
    "len(\"pwskills\")"
   ]
  },
  {
   "cell_type": "code",
   "execution_count": 3,
   "id": "d754dc2b",
   "metadata": {},
   "outputs": [
    {
     "data": {
      "text/plain": [
       "int"
      ]
     },
     "execution_count": 3,
     "metadata": {},
     "output_type": "execute_result"
    }
   ],
   "source": [
    "type(5)"
   ]
  },
  {
   "cell_type": "code",
   "execution_count": 4,
   "id": "073b5f47",
   "metadata": {},
   "outputs": [
    {
     "data": {
      "text/plain": [
       "float"
      ]
     },
     "execution_count": 4,
     "metadata": {},
     "output_type": "execute_result"
    }
   ],
   "source": [
    "type(6.7)"
   ]
  },
  {
   "cell_type": "code",
   "execution_count": 5,
   "id": "c2906986",
   "metadata": {},
   "outputs": [],
   "source": [
    "# function >> print, len, type >> inbuilt python function\n",
    "#ceil >> roof >> nearest highest whole no value\n",
    "#floor >> ground >> nearest lowest whole no value"
   ]
  },
  {
   "cell_type": "code",
   "execution_count": 6,
   "id": "b15f9a9e",
   "metadata": {},
   "outputs": [],
   "source": [
    "import math as m #math(library) is a collection of function"
   ]
  },
  {
   "cell_type": "code",
   "execution_count": 7,
   "id": "809c3c84",
   "metadata": {},
   "outputs": [
    {
     "data": {
      "text/plain": [
       "7"
      ]
     },
     "execution_count": 7,
     "metadata": {},
     "output_type": "execute_result"
    }
   ],
   "source": [
    "m.ceil(6.5)"
   ]
  },
  {
   "cell_type": "code",
   "execution_count": 8,
   "id": "4eee5052",
   "metadata": {},
   "outputs": [
    {
     "data": {
      "text/plain": [
       "6"
      ]
     },
     "execution_count": 8,
     "metadata": {},
     "output_type": "execute_result"
    }
   ],
   "source": [
    "m.floor(6.5)"
   ]
  },
  {
   "cell_type": "code",
   "execution_count": 9,
   "id": "a756a7eb",
   "metadata": {},
   "outputs": [],
   "source": [
    "# function >> inbuilt function\n",
    "# user defined function"
   ]
  },
  {
   "cell_type": "code",
   "execution_count": 10,
   "id": "fd226b42",
   "metadata": {},
   "outputs": [],
   "source": [
    "# syntax of function\n",
    "# def func():\n",
    "    # do something >> body of function"
   ]
  },
  {
   "cell_type": "code",
   "execution_count": 11,
   "id": "e30a0568",
   "metadata": {},
   "outputs": [],
   "source": [
    "# function is a block of code which performs some specific task or computation\n",
    "# why function >> functions(code) are reusable,neat, clean and organized, save your time"
   ]
  },
  {
   "cell_type": "code",
   "execution_count": 12,
   "id": "88956dfa",
   "metadata": {},
   "outputs": [
    {
     "name": "stdout",
     "output_type": "stream",
     "text": [
      "Welcome ro the office Rahul\n",
      "Welcome ro the office Shyam\n",
      "Welcome ro the office Anshika\n"
     ]
    }
   ],
   "source": [
    "print(\"Welcome ro the office Rahul\")\n",
    "print(\"Welcome ro the office Shyam\")\n",
    "print(\"Welcome ro the office Anshika\")"
   ]
  },
  {
   "cell_type": "code",
   "execution_count": 13,
   "id": "339f1bf0",
   "metadata": {},
   "outputs": [],
   "source": [
    "def greetings():\n",
    "    print(\"Welcome to the office\")"
   ]
  },
  {
   "cell_type": "code",
   "execution_count": 14,
   "id": "c82ec008",
   "metadata": {},
   "outputs": [
    {
     "name": "stdout",
     "output_type": "stream",
     "text": [
      "Hello world\n"
     ]
    }
   ],
   "source": [
    "print(\"Hello world\") # in print you call function by name and provide a value"
   ]
  },
  {
   "cell_type": "code",
   "execution_count": 15,
   "id": "ff9b9f2a",
   "metadata": {},
   "outputs": [
    {
     "name": "stdout",
     "output_type": "stream",
     "text": [
      "Welcome to the office\n"
     ]
    }
   ],
   "source": [
    "greetings()"
   ]
  },
  {
   "cell_type": "code",
   "execution_count": 16,
   "id": "9992fa77",
   "metadata": {},
   "outputs": [],
   "source": [
    "def greetings(name):# a variable inside a function >> name is a positional argument\n",
    "    print(\"Welcome to the office\", name)"
   ]
  },
  {
   "cell_type": "code",
   "execution_count": 17,
   "id": "962fd576",
   "metadata": {},
   "outputs": [
    {
     "name": "stdout",
     "output_type": "stream",
     "text": [
      "Welcome to the office Ajay\n"
     ]
    }
   ],
   "source": [
    "greetings(\"Ajay\")"
   ]
  },
  {
   "cell_type": "code",
   "execution_count": 18,
   "id": "08b594a4",
   "metadata": {},
   "outputs": [
    {
     "name": "stdout",
     "output_type": "stream",
     "text": [
      "Welcome to the office Vijay\n"
     ]
    }
   ],
   "source": [
    "greetings(\"Vijay\")"
   ]
  },
  {
   "cell_type": "code",
   "execution_count": 19,
   "id": "124ed6f9",
   "metadata": {},
   "outputs": [
    {
     "name": "stdout",
     "output_type": "stream",
     "text": [
      "Welcome to the office Sanjay\n"
     ]
    }
   ],
   "source": [
    "greetings(\"Sanjay\")"
   ]
  },
  {
   "cell_type": "code",
   "execution_count": 20,
   "id": "024eca6a",
   "metadata": {},
   "outputs": [
    {
     "ename": "TypeError",
     "evalue": "greetings() missing 1 required positional argument: 'name'",
     "output_type": "error",
     "traceback": [
      "\u001b[1;31m---------------------------------------------------------------------------\u001b[0m",
      "\u001b[1;31mTypeError\u001b[0m                                 Traceback (most recent call last)",
      "Cell \u001b[1;32mIn[20], line 1\u001b[0m\n\u001b[1;32m----> 1\u001b[0m greetings()\n",
      "\u001b[1;31mTypeError\u001b[0m: greetings() missing 1 required positional argument: 'name'"
     ]
    }
   ],
   "source": [
    "greetings() # it will through an error"
   ]
  },
  {
   "cell_type": "code",
   "execution_count": 21,
   "id": "4b09d765",
   "metadata": {},
   "outputs": [],
   "source": [
    "def greetings(ajay):\n",
    "    print(\"Welcome to the office\", ajay)"
   ]
  },
  {
   "cell_type": "code",
   "execution_count": 22,
   "id": "af31fefe",
   "metadata": {},
   "outputs": [
    {
     "name": "stdout",
     "output_type": "stream",
     "text": [
      "Welcome to the office Bijay\n"
     ]
    }
   ],
   "source": [
    "greetings(\"Bijay\")"
   ]
  },
  {
   "cell_type": "code",
   "execution_count": 23,
   "id": "b009e5a6",
   "metadata": {},
   "outputs": [
    {
     "name": "stdout",
     "output_type": "stream",
     "text": [
      "Welcome to the office Sanjay\n"
     ]
    }
   ],
   "source": [
    "greetings(\"Sanjay\")"
   ]
  },
  {
   "cell_type": "code",
   "execution_count": 24,
   "id": "0d0eae16",
   "metadata": {},
   "outputs": [
    {
     "name": "stdout",
     "output_type": "stream",
     "text": [
      "This is my first function\n"
     ]
    }
   ],
   "source": [
    "def func():\n",
    "    print(\"This is my first function\")\n",
    "func()"
   ]
  },
  {
   "cell_type": "code",
   "execution_count": 25,
   "id": "b01f571b",
   "metadata": {},
   "outputs": [
    {
     "data": {
      "text/plain": [
       "'This is my first function in python'"
      ]
     },
     "execution_count": 25,
     "metadata": {},
     "output_type": "execute_result"
    }
   ],
   "source": [
    "\"This is my first function\"+ \" in python\""
   ]
  },
  {
   "cell_type": "code",
   "execution_count": 26,
   "id": "dfba0af7",
   "metadata": {},
   "outputs": [
    {
     "name": "stdout",
     "output_type": "stream",
     "text": [
      "This is my first function\n"
     ]
    },
    {
     "ename": "TypeError",
     "evalue": "unsupported operand type(s) for +: 'NoneType' and 'str'",
     "output_type": "error",
     "traceback": [
      "\u001b[1;31m---------------------------------------------------------------------------\u001b[0m",
      "\u001b[1;31mTypeError\u001b[0m                                 Traceback (most recent call last)",
      "Cell \u001b[1;32mIn[26], line 1\u001b[0m\n\u001b[1;32m----> 1\u001b[0m func()\u001b[38;5;241m+\u001b[39m\u001b[38;5;124m\"\u001b[39m\u001b[38;5;124m in python\u001b[39m\u001b[38;5;124m\"\u001b[39m\n",
      "\u001b[1;31mTypeError\u001b[0m: unsupported operand type(s) for +: 'NoneType' and 'str'"
     ]
    }
   ],
   "source": [
    "func()+\" in python\" # through an error"
   ]
  },
  {
   "cell_type": "code",
   "execution_count": 27,
   "id": "46a633ec",
   "metadata": {},
   "outputs": [
    {
     "name": "stdout",
     "output_type": "stream",
     "text": [
      "This is my first function\n"
     ]
    },
    {
     "data": {
      "text/plain": [
       "NoneType"
      ]
     },
     "execution_count": 27,
     "metadata": {},
     "output_type": "execute_result"
    }
   ],
   "source": [
    "type(func())"
   ]
  },
  {
   "cell_type": "code",
   "execution_count": 28,
   "id": "fe28597d",
   "metadata": {},
   "outputs": [
    {
     "data": {
      "text/plain": [
       "'This is my first function'"
      ]
     },
     "execution_count": 28,
     "metadata": {},
     "output_type": "execute_result"
    }
   ],
   "source": [
    "def func():# return output of a function\n",
    "    return \"This is my first function\"\n",
    "func()"
   ]
  },
  {
   "cell_type": "code",
   "execution_count": 29,
   "id": "80c4b946",
   "metadata": {},
   "outputs": [
    {
     "data": {
      "text/plain": [
       "str"
      ]
     },
     "execution_count": 29,
     "metadata": {},
     "output_type": "execute_result"
    }
   ],
   "source": [
    "type(func())"
   ]
  },
  {
   "cell_type": "code",
   "execution_count": 30,
   "id": "ccb9ee81",
   "metadata": {},
   "outputs": [
    {
     "data": {
      "text/plain": [
       "'This is my first function in python'"
      ]
     },
     "execution_count": 30,
     "metadata": {},
     "output_type": "execute_result"
    }
   ],
   "source": [
    "func() + ' in python'"
   ]
  },
  {
   "cell_type": "code",
   "execution_count": 31,
   "id": "972e4686",
   "metadata": {},
   "outputs": [],
   "source": [
    "def func():\n",
    "    return 'this is my first function',1,2.2,True,3+7j"
   ]
  },
  {
   "cell_type": "code",
   "execution_count": 32,
   "id": "02057edb",
   "metadata": {},
   "outputs": [
    {
     "data": {
      "text/plain": [
       "('this is my first function', 1, 2.2, True, (3+7j))"
      ]
     },
     "execution_count": 32,
     "metadata": {},
     "output_type": "execute_result"
    }
   ],
   "source": [
    "func()"
   ]
  },
  {
   "cell_type": "code",
   "execution_count": 33,
   "id": "7f89b9f6",
   "metadata": {},
   "outputs": [
    {
     "data": {
      "text/plain": [
       "tuple"
      ]
     },
     "execution_count": 33,
     "metadata": {},
     "output_type": "execute_result"
    }
   ],
   "source": [
    "type(func())"
   ]
  },
  {
   "cell_type": "code",
   "execution_count": 34,
   "id": "811775ce",
   "metadata": {},
   "outputs": [
    {
     "data": {
      "text/plain": [
       "('this is my first function', 1, 2.2, True, (3+7j))"
      ]
     },
     "execution_count": 34,
     "metadata": {},
     "output_type": "execute_result"
    }
   ],
   "source": [
    "func()"
   ]
  },
  {
   "cell_type": "code",
   "execution_count": 35,
   "id": "450eb9ca",
   "metadata": {},
   "outputs": [],
   "source": [
    "a,b,c,d,e = func()"
   ]
  },
  {
   "cell_type": "code",
   "execution_count": 36,
   "id": "57635d24",
   "metadata": {},
   "outputs": [
    {
     "data": {
      "text/plain": [
       "'this is my first function'"
      ]
     },
     "execution_count": 36,
     "metadata": {},
     "output_type": "execute_result"
    }
   ],
   "source": [
    "a"
   ]
  },
  {
   "cell_type": "code",
   "execution_count": 37,
   "id": "4a360254",
   "metadata": {},
   "outputs": [
    {
     "data": {
      "text/plain": [
       "1"
      ]
     },
     "execution_count": 37,
     "metadata": {},
     "output_type": "execute_result"
    }
   ],
   "source": [
    "b"
   ]
  },
  {
   "cell_type": "code",
   "execution_count": 38,
   "id": "be796f48",
   "metadata": {},
   "outputs": [
    {
     "data": {
      "text/plain": [
       "2.2"
      ]
     },
     "execution_count": 38,
     "metadata": {},
     "output_type": "execute_result"
    }
   ],
   "source": [
    "c"
   ]
  },
  {
   "cell_type": "code",
   "execution_count": 39,
   "id": "ba6f8f8a",
   "metadata": {},
   "outputs": [
    {
     "data": {
      "text/plain": [
       "True"
      ]
     },
     "execution_count": 39,
     "metadata": {},
     "output_type": "execute_result"
    }
   ],
   "source": [
    "d"
   ]
  },
  {
   "cell_type": "code",
   "execution_count": 40,
   "id": "0da46beb",
   "metadata": {},
   "outputs": [
    {
     "data": {
      "text/plain": [
       "(3+7j)"
      ]
     },
     "execution_count": 40,
     "metadata": {},
     "output_type": "execute_result"
    }
   ],
   "source": [
    "e"
   ]
  },
  {
   "cell_type": "code",
   "execution_count": 41,
   "id": "0e87d8ee",
   "metadata": {},
   "outputs": [
    {
     "ename": "ValueError",
     "evalue": "too many values to unpack (expected 4)",
     "output_type": "error",
     "traceback": [
      "\u001b[1;31m---------------------------------------------------------------------------\u001b[0m",
      "\u001b[1;31mValueError\u001b[0m                                Traceback (most recent call last)",
      "Cell \u001b[1;32mIn[41], line 1\u001b[0m\n\u001b[1;32m----> 1\u001b[0m a,b,c,d, \u001b[38;5;241m=\u001b[39m func()\n",
      "\u001b[1;31mValueError\u001b[0m: too many values to unpack (expected 4)"
     ]
    }
   ],
   "source": [
    "a,b,c,d, = func()"
   ]
  },
  {
   "cell_type": "code",
   "execution_count": 42,
   "id": "d009af3d",
   "metadata": {},
   "outputs": [
    {
     "data": {
      "text/plain": [
       "('this is my first function', 1, 2.2, True, (3+7j))"
      ]
     },
     "execution_count": 42,
     "metadata": {},
     "output_type": "execute_result"
    }
   ],
   "source": [
    "a = func()\n",
    "a"
   ]
  },
  {
   "cell_type": "code",
   "execution_count": 43,
   "id": "fd2307d6",
   "metadata": {},
   "outputs": [
    {
     "data": {
      "text/plain": [
       "'this is my first function'"
      ]
     },
     "execution_count": 43,
     "metadata": {},
     "output_type": "execute_result"
    }
   ],
   "source": [
    "a[0]"
   ]
  },
  {
   "cell_type": "code",
   "execution_count": 44,
   "id": "56039d85",
   "metadata": {},
   "outputs": [
    {
     "data": {
      "text/plain": [
       "1"
      ]
     },
     "execution_count": 44,
     "metadata": {},
     "output_type": "execute_result"
    }
   ],
   "source": [
    "a[1]"
   ]
  },
  {
   "cell_type": "code",
   "execution_count": 45,
   "id": "b55b4d50",
   "metadata": {},
   "outputs": [
    {
     "data": {
      "text/plain": [
       "2.2"
      ]
     },
     "execution_count": 45,
     "metadata": {},
     "output_type": "execute_result"
    }
   ],
   "source": [
    "a[2]"
   ]
  },
  {
   "cell_type": "code",
   "execution_count": 46,
   "id": "41faff2a",
   "metadata": {},
   "outputs": [
    {
     "data": {
      "text/plain": [
       "True"
      ]
     },
     "execution_count": 46,
     "metadata": {},
     "output_type": "execute_result"
    }
   ],
   "source": [
    "a[3]"
   ]
  },
  {
   "cell_type": "code",
   "execution_count": 47,
   "id": "39edebf3",
   "metadata": {},
   "outputs": [
    {
     "data": {
      "text/plain": [
       "(3+7j)"
      ]
     },
     "execution_count": 47,
     "metadata": {},
     "output_type": "execute_result"
    }
   ],
   "source": [
    "a[4]"
   ]
  },
  {
   "cell_type": "code",
   "execution_count": 48,
   "id": "72af64ac",
   "metadata": {},
   "outputs": [],
   "source": [
    "def func():\n",
    "    calc = 2+3+6*5\n",
    "    return calc"
   ]
  },
  {
   "cell_type": "code",
   "execution_count": 49,
   "id": "24946a91",
   "metadata": {},
   "outputs": [
    {
     "data": {
      "text/plain": [
       "35"
      ]
     },
     "execution_count": 49,
     "metadata": {},
     "output_type": "execute_result"
    }
   ],
   "source": [
    "func()"
   ]
  },
  {
   "cell_type": "code",
   "execution_count": 51,
   "id": "937d80de",
   "metadata": {},
   "outputs": [
    {
     "data": {
      "text/plain": [
       "int"
      ]
     },
     "execution_count": 51,
     "metadata": {},
     "output_type": "execute_result"
    }
   ],
   "source": [
    "type(func())"
   ]
  },
  {
   "cell_type": "code",
   "execution_count": 52,
   "id": "410e2c8a",
   "metadata": {},
   "outputs": [],
   "source": [
    "def square_no(a): # a is called as an argument\n",
    "    return a*a"
   ]
  },
  {
   "cell_type": "code",
   "execution_count": 53,
   "id": "7a61f8ce",
   "metadata": {},
   "outputs": [
    {
     "data": {
      "text/plain": [
       "25"
      ]
     },
     "execution_count": 53,
     "metadata": {},
     "output_type": "execute_result"
    }
   ],
   "source": [
    "square_no(5)"
   ]
  },
  {
   "cell_type": "code",
   "execution_count": 54,
   "id": "c3afb76b",
   "metadata": {},
   "outputs": [
    {
     "data": {
      "text/plain": [
       "1000000"
      ]
     },
     "execution_count": 54,
     "metadata": {},
     "output_type": "execute_result"
    }
   ],
   "source": [
    "square_no(1000)"
   ]
  },
  {
   "cell_type": "code",
   "execution_count": 56,
   "id": "677c6a4f",
   "metadata": {},
   "outputs": [
    {
     "data": {
      "text/plain": [
       "11236"
      ]
     },
     "execution_count": 56,
     "metadata": {},
     "output_type": "execute_result"
    }
   ],
   "source": [
    "def square_no(args):\n",
    "    return args*args\n",
    "square_no(106)"
   ]
  },
  {
   "cell_type": "code",
   "execution_count": 57,
   "id": "9b091d6c",
   "metadata": {},
   "outputs": [
    {
     "data": {
      "text/plain": [
       "11"
      ]
     },
     "execution_count": 57,
     "metadata": {},
     "output_type": "execute_result"
    }
   ],
   "source": [
    "def addition(a,b):\n",
    "    return a+b\n",
    "\n",
    "addition(5,6)"
   ]
  },
  {
   "cell_type": "code",
   "execution_count": 58,
   "id": "5fb842f2",
   "metadata": {},
   "outputs": [
    {
     "data": {
      "text/plain": [
       "31"
      ]
     },
     "execution_count": 58,
     "metadata": {},
     "output_type": "execute_result"
    }
   ],
   "source": [
    "addition(11,20)"
   ]
  },
  {
   "cell_type": "code",
   "execution_count": 60,
   "id": "e3e570ea",
   "metadata": {},
   "outputs": [
    {
     "data": {
      "text/plain": [
       "'pwskills'"
      ]
     },
     "execution_count": 60,
     "metadata": {},
     "output_type": "execute_result"
    }
   ],
   "source": [
    "addition(\"pw\",\"skills\")"
   ]
  },
  {
   "cell_type": "code",
   "execution_count": 61,
   "id": "96c26c40",
   "metadata": {},
   "outputs": [
    {
     "data": {
      "text/plain": [
       "[1, 2, 3, 4, 5, 6]"
      ]
     },
     "execution_count": 61,
     "metadata": {},
     "output_type": "execute_result"
    }
   ],
   "source": [
    "addition([1,2,3],[4,5,6])"
   ]
  },
  {
   "cell_type": "code",
   "execution_count": 62,
   "id": "fac78f67",
   "metadata": {},
   "outputs": [
    {
     "data": {
      "text/plain": [
       "[1, 2, 3, 4, 5, 6]"
      ]
     },
     "execution_count": 62,
     "metadata": {},
     "output_type": "execute_result"
    }
   ],
   "source": [
    "[1,2,3]+[4,5,6]"
   ]
  },
  {
   "cell_type": "code",
   "execution_count": 64,
   "id": "f034ca8c",
   "metadata": {},
   "outputs": [
    {
     "data": {
      "text/plain": [
       "'skillspw'"
      ]
     },
     "execution_count": 64,
     "metadata": {},
     "output_type": "execute_result"
    }
   ],
   "source": [
    "addition(\"skills\",\"pw\")"
   ]
  },
  {
   "cell_type": "code",
   "execution_count": 65,
   "id": "4cab5515",
   "metadata": {},
   "outputs": [
    {
     "data": {
      "text/plain": [
       "'pwskills'"
      ]
     },
     "execution_count": 65,
     "metadata": {},
     "output_type": "execute_result"
    }
   ],
   "source": [
    "addition(\"pw\",\"skills\")"
   ]
  },
  {
   "cell_type": "code",
   "execution_count": 68,
   "id": "a2a4fb5c",
   "metadata": {},
   "outputs": [],
   "source": [
    "# a and b arguments in a function are positional arguments, it maintains the order"
   ]
  },
  {
   "cell_type": "code",
   "execution_count": 69,
   "id": "98c263ad",
   "metadata": {},
   "outputs": [
    {
     "data": {
      "text/plain": [
       "'pwskills'"
      ]
     },
     "execution_count": 69,
     "metadata": {},
     "output_type": "execute_result"
    }
   ],
   "source": [
    "addition(b = \"skills\",a = \"pw\")"
   ]
  },
  {
   "cell_type": "code",
   "execution_count": 70,
   "id": "f89669ee",
   "metadata": {},
   "outputs": [],
   "source": [
    "def sum1(a,b,c):\n",
    "    return a+b+c"
   ]
  },
  {
   "cell_type": "code",
   "execution_count": 71,
   "id": "6d56e05e",
   "metadata": {},
   "outputs": [
    {
     "data": {
      "text/plain": [
       "6"
      ]
     },
     "execution_count": 71,
     "metadata": {},
     "output_type": "execute_result"
    }
   ],
   "source": [
    "sum1(1,2,3)"
   ]
  },
  {
   "cell_type": "code",
   "execution_count": 75,
   "id": "fec5a297",
   "metadata": {},
   "outputs": [],
   "source": [
    "# default argument\n",
    "def sum1(b=0,c=0,a = 0):\n",
    "    return a+b+c"
   ]
  },
  {
   "cell_type": "code",
   "execution_count": 76,
   "id": "be1839e4",
   "metadata": {},
   "outputs": [
    {
     "data": {
      "text/plain": [
       "13"
      ]
     },
     "execution_count": 76,
     "metadata": {},
     "output_type": "execute_result"
    }
   ],
   "source": [
    "sum1(b = 3, c= 5,a = 5)"
   ]
  },
  {
   "cell_type": "code",
   "execution_count": 77,
   "id": "727968e5",
   "metadata": {},
   "outputs": [
    {
     "data": {
      "text/plain": [
       "8"
      ]
     },
     "execution_count": 77,
     "metadata": {},
     "output_type": "execute_result"
    }
   ],
   "source": [
    "sum1(b=3, c= 5)"
   ]
  },
  {
   "cell_type": "code",
   "execution_count": 78,
   "id": "3a22091e",
   "metadata": {},
   "outputs": [
    {
     "data": {
      "text/plain": [
       "0"
      ]
     },
     "execution_count": 78,
     "metadata": {},
     "output_type": "execute_result"
    }
   ],
   "source": [
    "sum1()"
   ]
  },
  {
   "cell_type": "code",
   "execution_count": 80,
   "id": "9987cdc8",
   "metadata": {},
   "outputs": [],
   "source": [
    "# default argument is passed to function to the last or non default argument follows defaul argument"
   ]
  },
  {
   "cell_type": "code",
   "execution_count": 81,
   "id": "275a03ad",
   "metadata": {},
   "outputs": [],
   "source": [
    "# default argument\n",
    "def sum1(b=5,c=0,a = 0):\n",
    "    return a+b+c"
   ]
  },
  {
   "cell_type": "code",
   "execution_count": 82,
   "id": "756bb85a",
   "metadata": {},
   "outputs": [
    {
     "data": {
      "text/plain": [
       "5"
      ]
     },
     "execution_count": 82,
     "metadata": {},
     "output_type": "execute_result"
    }
   ],
   "source": [
    "sum1()"
   ]
  },
  {
   "cell_type": "code",
   "execution_count": 85,
   "id": "6aa8fbcd",
   "metadata": {},
   "outputs": [
    {
     "data": {
      "text/plain": [
       "1"
      ]
     },
     "execution_count": 85,
     "metadata": {},
     "output_type": "execute_result"
    }
   ],
   "source": [
    "sum1(1)"
   ]
  },
  {
   "cell_type": "code",
   "execution_count": 86,
   "id": "b8b18d1c",
   "metadata": {},
   "outputs": [
    {
     "data": {
      "text/plain": [
       "6"
      ]
     },
     "execution_count": 86,
     "metadata": {},
     "output_type": "execute_result"
    }
   ],
   "source": [
    "sum1(c = 1)"
   ]
  },
  {
   "cell_type": "code",
   "execution_count": 87,
   "id": "f0b5f51e",
   "metadata": {},
   "outputs": [
    {
     "data": {
      "text/plain": [
       "0"
      ]
     },
     "execution_count": 87,
     "metadata": {},
     "output_type": "execute_result"
    }
   ],
   "source": [
    "sum1(0)"
   ]
  },
  {
   "cell_type": "code",
   "execution_count": 88,
   "id": "bc6bc89a",
   "metadata": {},
   "outputs": [],
   "source": [
    "def add_two_numbers():\n",
    "    a = int(input(\"enter the first number\"))\n",
    "    b = int(input(\"enter the seconf number\"))    \n",
    "    return a+b"
   ]
  },
  {
   "cell_type": "code",
   "execution_count": 89,
   "id": "517b247f",
   "metadata": {},
   "outputs": [
    {
     "name": "stdout",
     "output_type": "stream",
     "text": [
      "enter the first number7\n",
      "enter the seconf number8\n"
     ]
    },
    {
     "data": {
      "text/plain": [
       "15"
      ]
     },
     "execution_count": 89,
     "metadata": {},
     "output_type": "execute_result"
    }
   ],
   "source": [
    "add_two_numbers()"
   ]
  },
  {
   "cell_type": "code",
   "execution_count": 90,
   "id": "6dc1b1d3",
   "metadata": {},
   "outputs": [],
   "source": [
    "# write a function that takes list as input and return all numeric values in a list"
   ]
  },
  {
   "cell_type": "code",
   "execution_count": 91,
   "id": "162edff6",
   "metadata": {},
   "outputs": [
    {
     "data": {
      "text/plain": [
       "str"
      ]
     },
     "execution_count": 91,
     "metadata": {},
     "output_type": "execute_result"
    }
   ],
   "source": [
    "type(\"ajay\")"
   ]
  },
  {
   "cell_type": "code",
   "execution_count": 92,
   "id": "d12a84bb",
   "metadata": {},
   "outputs": [],
   "source": [
    "def only_numeric(a):\n",
    "    n = []\n",
    "    for i in a:\n",
    "        if type(i) == int or type(i) == float:\n",
    "            n.append(i)\n",
    "    return n"
   ]
  },
  {
   "cell_type": "code",
   "execution_count": 94,
   "id": "f068886e",
   "metadata": {},
   "outputs": [
    {
     "data": {
      "text/plain": [
       "[1, 2.2, 5, 6]"
      ]
     },
     "execution_count": 94,
     "metadata": {},
     "output_type": "execute_result"
    }
   ],
   "source": [
    "only_numeric([1,2.2,\"Ajay\",\"True\",3+7j,\"pwskills\",5,6])"
   ]
  },
  {
   "cell_type": "code",
   "execution_count": 95,
   "id": "1f7e22f8",
   "metadata": {},
   "outputs": [],
   "source": [
    "def only_numeric(a):\n",
    "    n = []\n",
    "    for i in a:\n",
    "        if type(i) == list:\n",
    "            for j in i:\n",
    "                if type(j) == int or type(j) == float:\n",
    "                    n.append(j)\n",
    "        else:\n",
    "            if type(i) == int or type(i) == float:\n",
    "                n.append(i)\n",
    "    return n"
   ]
  },
  {
   "cell_type": "code",
   "execution_count": 96,
   "id": "296a980a",
   "metadata": {},
   "outputs": [
    {
     "data": {
      "text/plain": [
       "[1, 2.2, 5, 6, 100, 101]"
      ]
     },
     "execution_count": 96,
     "metadata": {},
     "output_type": "execute_result"
    }
   ],
   "source": [
    "# now in input take nested list\n",
    "only_numeric([1,2.2,\"Ajay\",\"True\",3+7j,\"pwskills\",5,6,[100,101,\"Ajay\"]])"
   ]
  },
  {
   "cell_type": "code",
   "execution_count": 97,
   "id": "7a9589d0",
   "metadata": {},
   "outputs": [],
   "source": [
    "def sum1(a,b):\n",
    "    return a+b"
   ]
  },
  {
   "cell_type": "code",
   "execution_count": 98,
   "id": "6ec634f9",
   "metadata": {},
   "outputs": [
    {
     "data": {
      "text/plain": [
       "5"
      ]
     },
     "execution_count": 98,
     "metadata": {},
     "output_type": "execute_result"
    }
   ],
   "source": [
    "sum1(2,3)"
   ]
  },
  {
   "cell_type": "code",
   "execution_count": 99,
   "id": "aa681169",
   "metadata": {},
   "outputs": [
    {
     "ename": "TypeError",
     "evalue": "sum1() takes 2 positional arguments but 3 were given",
     "output_type": "error",
     "traceback": [
      "\u001b[1;31m---------------------------------------------------------------------------\u001b[0m",
      "\u001b[1;31mTypeError\u001b[0m                                 Traceback (most recent call last)",
      "Cell \u001b[1;32mIn[99], line 1\u001b[0m\n\u001b[1;32m----> 1\u001b[0m sum1(\u001b[38;5;241m2\u001b[39m,\u001b[38;5;241m3\u001b[39m,\u001b[38;5;241m4\u001b[39m)\n",
      "\u001b[1;31mTypeError\u001b[0m: sum1() takes 2 positional arguments but 3 were given"
     ]
    }
   ],
   "source": [
    "sum1(2,3,4)"
   ]
  },
  {
   "cell_type": "code",
   "execution_count": 100,
   "id": "a6b91d57",
   "metadata": {},
   "outputs": [],
   "source": [
    "# variable length argument >> when you don't konw the no of arguments"
   ]
  },
  {
   "cell_type": "code",
   "execution_count": 101,
   "id": "0fbc416c",
   "metadata": {},
   "outputs": [],
   "source": [
    "def sum1(*args):\n",
    "    return args"
   ]
  },
  {
   "cell_type": "code",
   "execution_count": 102,
   "id": "cc9375a8",
   "metadata": {},
   "outputs": [
    {
     "data": {
      "text/plain": [
       "(1, 2)"
      ]
     },
     "execution_count": 102,
     "metadata": {},
     "output_type": "execute_result"
    }
   ],
   "source": [
    "sum1(1,2)"
   ]
  },
  {
   "cell_type": "code",
   "execution_count": 103,
   "id": "915b53f6",
   "metadata": {},
   "outputs": [
    {
     "data": {
      "text/plain": [
       "(1, 2, 3)"
      ]
     },
     "execution_count": 103,
     "metadata": {},
     "output_type": "execute_result"
    }
   ],
   "source": [
    "sum1(1,2,3)"
   ]
  },
  {
   "cell_type": "code",
   "execution_count": 104,
   "id": "e980f32a",
   "metadata": {},
   "outputs": [
    {
     "data": {
      "text/plain": [
       "(1, 2, 3, 4, 4, 5, 6, 7, 8, 9, 7, 6)"
      ]
     },
     "execution_count": 104,
     "metadata": {},
     "output_type": "execute_result"
    }
   ],
   "source": [
    "sum1(1,2,3,4,4,5,6,7,8,9,7,6)"
   ]
  },
  {
   "cell_type": "code",
   "execution_count": 105,
   "id": "5cc3ba52",
   "metadata": {},
   "outputs": [],
   "source": [
    "# a function which vcan take any number of arguments and return the sum\n",
    "def sum1(*args):\n",
    "    s = 0\n",
    "    for i in args:\n",
    "        s = s + i\n",
    "    return s        "
   ]
  },
  {
   "cell_type": "code",
   "execution_count": 106,
   "id": "4b4aeafb",
   "metadata": {},
   "outputs": [
    {
     "data": {
      "text/plain": [
       "22"
      ]
     },
     "execution_count": 106,
     "metadata": {},
     "output_type": "execute_result"
    }
   ],
   "source": [
    "sum1(3,4,6,5,4)"
   ]
  },
  {
   "cell_type": "code",
   "execution_count": 110,
   "id": "51bf8f86",
   "metadata": {},
   "outputs": [],
   "source": [
    "# variable argument with positinal arguments\n",
    "def test(*args,a):\n",
    "    return args,a"
   ]
  },
  {
   "cell_type": "code",
   "execution_count": 111,
   "id": "341e1bb5",
   "metadata": {},
   "outputs": [
    {
     "data": {
      "text/plain": [
       "((1, 2, 3, 4), 'Ram')"
      ]
     },
     "execution_count": 111,
     "metadata": {},
     "output_type": "execute_result"
    }
   ],
   "source": [
    "test(1,2,3,4,a = \"Ram\")"
   ]
  },
  {
   "cell_type": "code",
   "execution_count": 112,
   "id": "84109d1f",
   "metadata": {},
   "outputs": [
    {
     "ename": "TypeError",
     "evalue": "test() missing 1 required keyword-only argument: 'a'",
     "output_type": "error",
     "traceback": [
      "\u001b[1;31m---------------------------------------------------------------------------\u001b[0m",
      "\u001b[1;31mTypeError\u001b[0m                                 Traceback (most recent call last)",
      "Cell \u001b[1;32mIn[112], line 1\u001b[0m\n\u001b[1;32m----> 1\u001b[0m test(\u001b[38;5;241m1\u001b[39m,\u001b[38;5;241m2\u001b[39m,\u001b[38;5;241m3\u001b[39m,\u001b[38;5;241m4\u001b[39m)\n",
      "\u001b[1;31mTypeError\u001b[0m: test() missing 1 required keyword-only argument: 'a'"
     ]
    }
   ],
   "source": [
    "test(1,2,3,4)"
   ]
  },
  {
   "cell_type": "code",
   "execution_count": 113,
   "id": "a0cf7025",
   "metadata": {},
   "outputs": [],
   "source": [
    "# variable argument >> takes any number of arguments\n",
    "# positional argument >> fixed arguments"
   ]
  },
  {
   "cell_type": "code",
   "execution_count": 114,
   "id": "9c975cda",
   "metadata": {},
   "outputs": [],
   "source": [
    "# write a function which can take any no of values and returns the list"
   ]
  },
  {
   "cell_type": "code",
   "execution_count": 115,
   "id": "5f81c36c",
   "metadata": {},
   "outputs": [],
   "source": [
    "def return_list(*args):\n",
    "    l = []\n",
    "    for i in args:\n",
    "        if type(i) == list:\n",
    "            l.append(i)\n",
    "    return l"
   ]
  },
  {
   "cell_type": "code",
   "execution_count": 117,
   "id": "a447995b",
   "metadata": {},
   "outputs": [
    {
     "data": {
      "text/plain": [
       "[[4, 5, [6, 7]], [1, 2, 3, 4]]"
      ]
     },
     "execution_count": 117,
     "metadata": {},
     "output_type": "execute_result"
    }
   ],
   "source": [
    "return_list(1,2,2.3,5+7j,{2,3},[4,5,[6,7]],[1,2,3,4],(2,3),True,\"Ajay\")"
   ]
  },
  {
   "cell_type": "code",
   "execution_count": 118,
   "id": "326dfa70",
   "metadata": {},
   "outputs": [],
   "source": [
    "def team(name, project):\n",
    "    return f\"{name} is working on {project}\" # 1:26:55"
   ]
  },
  {
   "cell_type": "code",
   "execution_count": 120,
   "id": "4ecd323d",
   "metadata": {},
   "outputs": [],
   "source": [
    "# variable length argument and keyword arguments together\n",
    "def test1(*args, **args1):\n",
    "    return args,args1"
   ]
  },
  {
   "cell_type": "code",
   "execution_count": 121,
   "id": "798d1d08",
   "metadata": {},
   "outputs": [
    {
     "data": {
      "text/plain": [
       "((1, 2, 3, 4), {'a': 100, 'b': 50})"
      ]
     },
     "execution_count": 121,
     "metadata": {},
     "output_type": "execute_result"
    }
   ],
   "source": [
    "test1(1,2,3,4,a = 100, b = 50)"
   ]
  },
  {
   "cell_type": "code",
   "execution_count": 122,
   "id": "60f7b65b",
   "metadata": {},
   "outputs": [
    {
     "data": {
      "text/plain": [
       "((), {})"
      ]
     },
     "execution_count": 122,
     "metadata": {},
     "output_type": "execute_result"
    }
   ],
   "source": [
    "test1()"
   ]
  },
  {
   "cell_type": "code",
   "execution_count": 129,
   "id": "9223621f",
   "metadata": {},
   "outputs": [],
   "source": [
    "# python namespace\n",
    "def greet():\n",
    "    message = \"hello, welcome!\" # message variable is local variable (scope is only inside the function)\n",
    "    print(message)"
   ]
  },
  {
   "cell_type": "code",
   "execution_count": 130,
   "id": "4489814d",
   "metadata": {},
   "outputs": [
    {
     "name": "stdout",
     "output_type": "stream",
     "text": [
      "hello, welcome!\n"
     ]
    }
   ],
   "source": [
    "greet()"
   ]
  },
  {
   "cell_type": "code",
   "execution_count": 131,
   "id": "a6b21d17",
   "metadata": {},
   "outputs": [
    {
     "ename": "NameError",
     "evalue": "name 'message' is not defined",
     "output_type": "error",
     "traceback": [
      "\u001b[1;31m---------------------------------------------------------------------------\u001b[0m",
      "\u001b[1;31mNameError\u001b[0m                                 Traceback (most recent call last)",
      "Cell \u001b[1;32mIn[131], line 1\u001b[0m\n\u001b[1;32m----> 1\u001b[0m \u001b[38;5;28mprint\u001b[39m(message)\n",
      "\u001b[1;31mNameError\u001b[0m: name 'message' is not defined"
     ]
    }
   ],
   "source": [
    "print(message)"
   ]
  },
  {
   "cell_type": "code",
   "execution_count": 138,
   "id": "e7f75370",
   "metadata": {},
   "outputs": [],
   "source": [
    "subpart = \"to the course\"# global variable >> can be accessed otside the function as well\n",
    "def greet():\n",
    "    message = \"hello, welcome \" + subpart\n",
    "    print(message)"
   ]
  },
  {
   "cell_type": "code",
   "execution_count": 139,
   "id": "cc8cfddd",
   "metadata": {},
   "outputs": [
    {
     "name": "stdout",
     "output_type": "stream",
     "text": [
      "hello, welcome to the course\n"
     ]
    }
   ],
   "source": [
    "greet()"
   ]
  },
  {
   "cell_type": "code",
   "execution_count": 140,
   "id": "6acbf1b3",
   "metadata": {},
   "outputs": [
    {
     "ename": "NameError",
     "evalue": "name 'message' is not defined",
     "output_type": "error",
     "traceback": [
      "\u001b[1;31m---------------------------------------------------------------------------\u001b[0m",
      "\u001b[1;31mNameError\u001b[0m                                 Traceback (most recent call last)",
      "Cell \u001b[1;32mIn[140], line 1\u001b[0m\n\u001b[1;32m----> 1\u001b[0m \u001b[38;5;28mprint\u001b[39m(message)\n",
      "\u001b[1;31mNameError\u001b[0m: name 'message' is not defined"
     ]
    }
   ],
   "source": [
    "print(message)"
   ]
  },
  {
   "cell_type": "code",
   "execution_count": 141,
   "id": "a143df9c",
   "metadata": {},
   "outputs": [],
   "source": [
    "# local variable >> a variable defined inside a fuction should be accessed inside the function only\n",
    "# namespace >> scope of variables"
   ]
  },
  {
   "cell_type": "code",
   "execution_count": 142,
   "id": "d6f0fbed",
   "metadata": {},
   "outputs": [],
   "source": [
    "# function inside function\n",
    "def  marks_in_subject(**kwargs):\n",
    "    marks_list = []\n",
    "    for sub, marks in kwargs.items():\n",
    "        marks_list.append(marks)\n",
    "    return marks_list"
   ]
  },
  {
   "cell_type": "code",
   "execution_count": 143,
   "id": "5da0354f",
   "metadata": {},
   "outputs": [
    {
     "data": {
      "text/plain": [
       "[90, 20]"
      ]
     },
     "execution_count": 143,
     "metadata": {},
     "output_type": "execute_result"
    }
   ],
   "source": [
    "marks_in_subject(a = 90, b=20)"
   ]
  },
  {
   "cell_type": "code",
   "execution_count": 144,
   "id": "5300cabc",
   "metadata": {},
   "outputs": [],
   "source": [
    "def  marks_in_subject(**kwargs):\n",
    "    def total_marks(marks_list):\n",
    "        return sum(marks_list)\n",
    "    marks_list = []\n",
    "    for sub, marks in kwargs.items():\n",
    "        marks_list.append(marks)\n",
    "    return total_marks(marks_list)"
   ]
  },
  {
   "cell_type": "code",
   "execution_count": 146,
   "id": "3db52ccf",
   "metadata": {},
   "outputs": [
    {
     "data": {
      "text/plain": [
       "130"
      ]
     },
     "execution_count": 146,
     "metadata": {},
     "output_type": "execute_result"
    }
   ],
   "source": [
    "marks_in_subject(a =90, b= 40)"
   ]
  },
  {
   "cell_type": "code",
   "execution_count": 147,
   "id": "5adf75e7",
   "metadata": {},
   "outputs": [],
   "source": [
    "# call function from ouside function which is best practice\n",
    "def total_marks(marks_list):\n",
    "        return sum(marks_list)\n",
    "    \n",
    "def  marks_in_subject(**kwargs):\n",
    "    marks_list = []\n",
    "    for sub, marks in kwargs.items():\n",
    "        marks_list.append(marks)\n",
    "    return total_marks(marks_list)"
   ]
  },
  {
   "cell_type": "code",
   "execution_count": 149,
   "id": "cf678d11",
   "metadata": {},
   "outputs": [
    {
     "data": {
      "text/plain": [
       "260"
      ]
     },
     "execution_count": 149,
     "metadata": {},
     "output_type": "execute_result"
    }
   ],
   "source": [
    "marks_in_subject(a =90, b= 40, c= 30, d= 100)"
   ]
  },
  {
   "cell_type": "code",
   "execution_count": 152,
   "id": "37b862b4",
   "metadata": {},
   "outputs": [],
   "source": [
    "def find_power(num, power):\n",
    "    \"\"\"This function returns the power of no\n",
    "    Args:\n",
    "        num(int): provide any integer as input\n",
    "        power(int): provide power as integer\n",
    "    Returns:\n",
    "        integer: power of no\n",
    "    \"\"\"\n",
    "    return num ** power"
   ]
  },
  {
   "cell_type": "code",
   "execution_count": 153,
   "id": "ef27cfb5",
   "metadata": {},
   "outputs": [
    {
     "data": {
      "text/plain": [
       "1125899906842624"
      ]
     },
     "execution_count": 153,
     "metadata": {},
     "output_type": "execute_result"
    }
   ],
   "source": [
    "find_power(2,50)"
   ]
  },
  {
   "cell_type": "code",
   "execution_count": 154,
   "id": "7f70ea14",
   "metadata": {},
   "outputs": [
    {
     "name": "stdout",
     "output_type": "stream",
     "text": [
      "Help on function find_power in module __main__:\n",
      "\n",
      "find_power(num, power)\n",
      "    This function returns the power of no\n",
      "    Args:\n",
      "        num(int): provide any integer as input\n",
      "        power(int): provide power as integer\n",
      "    Returns:\n",
      "        integer: power of no\n",
      "\n"
     ]
    }
   ],
   "source": [
    "help(find_power)"
   ]
  },
  {
   "cell_type": "code",
   "execution_count": 155,
   "id": "a1423496",
   "metadata": {},
   "outputs": [
    {
     "name": "stdout",
     "output_type": "stream",
     "text": [
      "This function returns the power of no\n",
      "    Args:\n",
      "        num(int): provide any integer as input\n",
      "        power(int): provide power as integer\n",
      "    Returns:\n",
      "        integer: power of no\n",
      "    \n"
     ]
    }
   ],
   "source": [
    "print(find_power.__doc__)"
   ]
  },
  {
   "cell_type": "code",
   "execution_count": null,
   "id": "7f8f7630",
   "metadata": {},
   "outputs": [],
   "source": []
  }
 ],
 "metadata": {
  "kernelspec": {
   "display_name": "Python 3 (ipykernel)",
   "language": "python",
   "name": "python3"
  },
  "language_info": {
   "codemirror_mode": {
    "name": "ipython",
    "version": 3
   },
   "file_extension": ".py",
   "mimetype": "text/x-python",
   "name": "python",
   "nbconvert_exporter": "python",
   "pygments_lexer": "ipython3",
   "version": "3.11.5"
  }
 },
 "nbformat": 4,
 "nbformat_minor": 5
}
