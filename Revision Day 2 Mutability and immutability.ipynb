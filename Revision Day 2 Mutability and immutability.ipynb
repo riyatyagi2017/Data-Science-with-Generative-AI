{
 "cells": [
  {
   "cell_type": "code",
   "execution_count": 1,
   "id": "e5d19991-ab63-42d3-880b-615c7d814ab7",
   "metadata": {},
   "outputs": [],
   "source": [
    "a = 6"
   ]
  },
  {
   "cell_type": "code",
   "execution_count": 2,
   "id": "2bf8fea8-91c7-4fbd-b8b7-df79baa8561b",
   "metadata": {},
   "outputs": [
    {
     "data": {
      "text/plain": [
       "6"
      ]
     },
     "execution_count": 2,
     "metadata": {},
     "output_type": "execute_result"
    }
   ],
   "source": [
    "a # at the backemnd in the memory a memory block is created with reference name a and value 6"
   ]
  },
  {
   "cell_type": "code",
   "execution_count": 3,
   "id": "a7388479-dd32-49c8-8d34-6c14f3dee9b6",
   "metadata": {},
   "outputs": [],
   "source": [
    "b = \"Riya\""
   ]
  },
  {
   "cell_type": "code",
   "execution_count": 4,
   "id": "c9aa8678-8f79-4f35-896b-4496ae48b6d5",
   "metadata": {},
   "outputs": [
    {
     "data": {
      "text/plain": [
       "'Riya'"
      ]
     },
     "execution_count": 4,
     "metadata": {},
     "output_type": "execute_result"
    }
   ],
   "source": [
    "b"
   ]
  },
  {
   "cell_type": "code",
   "execution_count": 5,
   "id": "bf0012bc-f167-47a4-a20a-3a483562a361",
   "metadata": {},
   "outputs": [
    {
     "data": {
      "text/plain": [
       "'R'"
      ]
     },
     "execution_count": 5,
     "metadata": {},
     "output_type": "execute_result"
    }
   ],
   "source": [
    "b[0]"
   ]
  },
  {
   "cell_type": "code",
   "execution_count": 6,
   "id": "53105fa8-1b5d-4bd0-91dd-bc66a594eb60",
   "metadata": {},
   "outputs": [
    {
     "data": {
      "text/plain": [
       "'y'"
      ]
     },
     "execution_count": 6,
     "metadata": {},
     "output_type": "execute_result"
    }
   ],
   "source": [
    "b[2]"
   ]
  },
  {
   "cell_type": "code",
   "execution_count": 7,
   "id": "e756235b-23ab-45b8-8ed2-2fe281459d47",
   "metadata": {},
   "outputs": [
    {
     "data": {
      "text/plain": [
       "'a'"
      ]
     },
     "execution_count": 7,
     "metadata": {},
     "output_type": "execute_result"
    }
   ],
   "source": [
    "b[-1]"
   ]
  },
  {
   "cell_type": "code",
   "execution_count": 8,
   "id": "d73e8fbe-0201-4bcf-ae2b-64d1826625c2",
   "metadata": {},
   "outputs": [
    {
     "data": {
      "text/plain": [
       "'y'"
      ]
     },
     "execution_count": 8,
     "metadata": {},
     "output_type": "execute_result"
    }
   ],
   "source": [
    "b[-2]"
   ]
  },
  {
   "cell_type": "code",
   "execution_count": 10,
   "id": "0e8cb0f5-7104-4d4d-a4d4-ac7fe8602bf2",
   "metadata": {},
   "outputs": [
    {
     "data": {
      "text/plain": [
       "[1, 2, 3, 4, (3+5j), True, 4.3, 'Riya']"
      ]
     },
     "execution_count": 10,
     "metadata": {},
     "output_type": "execute_result"
    }
   ],
   "source": [
    "# another type of data container [List]\n",
    "list_cont = [1,2,3,4,3+5j,True,4.3,\"Riya\"]\n",
    "list_cont"
   ]
  },
  {
   "cell_type": "code",
   "execution_count": 11,
   "id": "f804a0b7-7584-4743-a26b-4612028044a7",
   "metadata": {},
   "outputs": [
    {
     "data": {
      "text/plain": [
       "1"
      ]
     },
     "execution_count": 11,
     "metadata": {},
     "output_type": "execute_result"
    }
   ],
   "source": [
    "list_cont[0]"
   ]
  },
  {
   "cell_type": "code",
   "execution_count": 12,
   "id": "8bff7b06-b71b-4076-80b2-264602cd123a",
   "metadata": {},
   "outputs": [
    {
     "data": {
      "text/plain": [
       "(3+5j)"
      ]
     },
     "execution_count": 12,
     "metadata": {},
     "output_type": "execute_result"
    }
   ],
   "source": [
    "list_cont[4]"
   ]
  },
  {
   "cell_type": "code",
   "execution_count": 13,
   "id": "fc821c6a-0a80-46e0-874f-c8599db16843",
   "metadata": {},
   "outputs": [
    {
     "data": {
      "text/plain": [
       "list"
      ]
     },
     "execution_count": 13,
     "metadata": {},
     "output_type": "execute_result"
    }
   ],
   "source": [
    "type(list_cont)"
   ]
  },
  {
   "cell_type": "code",
   "execution_count": 14,
   "id": "16af8c05-f3cf-4b17-aba2-e169361b765c",
   "metadata": {},
   "outputs": [
    {
     "data": {
      "text/plain": [
       "'Riya'"
      ]
     },
     "execution_count": 14,
     "metadata": {},
     "output_type": "execute_result"
    }
   ],
   "source": [
    "list_cont[7]"
   ]
  },
  {
   "cell_type": "code",
   "execution_count": 15,
   "id": "c4f6e31d-9cbd-44fb-b85a-16b7e0afa817",
   "metadata": {},
   "outputs": [
    {
     "data": {
      "text/plain": [
       "'Riya'"
      ]
     },
     "execution_count": 15,
     "metadata": {},
     "output_type": "execute_result"
    }
   ],
   "source": [
    "list_cont[-1]"
   ]
  },
  {
   "cell_type": "code",
   "execution_count": 16,
   "id": "735992aa-3d81-4175-afa0-80830837f76b",
   "metadata": {},
   "outputs": [],
   "source": [
    "# Mutability"
   ]
  },
  {
   "cell_type": "code",
   "execution_count": 17,
   "id": "b1cc01f4-f975-409c-a3ac-3d4d3eda45e6",
   "metadata": {},
   "outputs": [],
   "source": [
    "list_cont[-1] = \"Anshika\""
   ]
  },
  {
   "cell_type": "code",
   "execution_count": 18,
   "id": "4f615a87-0594-4520-9196-b1ee3f32aeeb",
   "metadata": {},
   "outputs": [
    {
     "data": {
      "text/plain": [
       "[1, 2, 3, 4, (3+5j), True, 4.3, 'Anshika']"
      ]
     },
     "execution_count": 18,
     "metadata": {},
     "output_type": "execute_result"
    }
   ],
   "source": [
    "list_cont"
   ]
  },
  {
   "cell_type": "code",
   "execution_count": 19,
   "id": "4de71cf6-0d76-4efa-a339-111003523850",
   "metadata": {},
   "outputs": [],
   "source": [
    "list_cont[0] = 100"
   ]
  },
  {
   "cell_type": "code",
   "execution_count": 20,
   "id": "691e35c6-d457-44ae-8d95-80d482e186a5",
   "metadata": {},
   "outputs": [
    {
     "data": {
      "text/plain": [
       "[100, 2, 3, 4, (3+5j), True, 4.3, 'Anshika']"
      ]
     },
     "execution_count": 20,
     "metadata": {},
     "output_type": "execute_result"
    }
   ],
   "source": [
    "list_cont"
   ]
  },
  {
   "cell_type": "code",
   "execution_count": 21,
   "id": "00bafd0f-27fd-4bde-ac79-0972d9fb44b3",
   "metadata": {},
   "outputs": [],
   "source": [
    "list_cont[1] = \"Pwskills\""
   ]
  },
  {
   "cell_type": "code",
   "execution_count": 22,
   "id": "677df340-d277-40e4-84b5-22ae8e2aa561",
   "metadata": {},
   "outputs": [
    {
     "data": {
      "text/plain": [
       "[100, 'Pwskills', 3, 4, (3+5j), True, 4.3, 'Anshika']"
      ]
     },
     "execution_count": 22,
     "metadata": {},
     "output_type": "execute_result"
    }
   ],
   "source": [
    "list_cont"
   ]
  },
  {
   "cell_type": "raw",
   "id": "913f6c95-f826-4068-a2fc-2ab6049ee250",
   "metadata": {},
   "source": [
    "# objects/container whose state or value can be changed after they are created are called as mutable objects or container, also called as item assignment"
   ]
  },
  {
   "cell_type": "raw",
   "id": "e2867101-8f89-452a-bef7-a66d8dca6fc2",
   "metadata": {},
   "source": [
    "List is a type of mutable objects/support item assignment"
   ]
  },
  {
   "cell_type": "code",
   "execution_count": 27,
   "id": "2f77a05d-5c1a-47e1-86a0-13c4b0263d96",
   "metadata": {},
   "outputs": [
    {
     "data": {
      "text/plain": [
       "'pwskills'"
      ]
     },
     "execution_count": 27,
     "metadata": {},
     "output_type": "execute_result"
    }
   ],
   "source": [
    "# Immutable objects\n",
    "b = \"pwskills\"\n",
    "b"
   ]
  },
  {
   "cell_type": "code",
   "execution_count": 28,
   "id": "56abd08c-2637-45fb-bd14-3ddf3d666106",
   "metadata": {},
   "outputs": [
    {
     "ename": "TypeError",
     "evalue": "'str' object does not support item assignment",
     "output_type": "error",
     "traceback": [
      "\u001b[0;31m---------------------------------------------------------------------------\u001b[0m",
      "\u001b[0;31mTypeError\u001b[0m                                 Traceback (most recent call last)",
      "Cell \u001b[0;32mIn[28], line 1\u001b[0m\n\u001b[0;32m----> 1\u001b[0m \u001b[43mb\u001b[49m\u001b[43m[\u001b[49m\u001b[38;5;241;43m0\u001b[39;49m\u001b[43m]\u001b[49m \u001b[38;5;241m=\u001b[39m \u001b[38;5;124m'\u001b[39m\u001b[38;5;124mi\u001b[39m\u001b[38;5;124m'\u001b[39m\n",
      "\u001b[0;31mTypeError\u001b[0m: 'str' object does not support item assignment"
     ]
    }
   ],
   "source": [
    "b[0] = 'i'"
   ]
  },
  {
   "cell_type": "code",
   "execution_count": 29,
   "id": "e1fad85c-055f-449b-b96f-ec7496d6d3d2",
   "metadata": {},
   "outputs": [
    {
     "ename": "TypeError",
     "evalue": "'str' object does not support item assignment",
     "output_type": "error",
     "traceback": [
      "\u001b[0;31m---------------------------------------------------------------------------\u001b[0m",
      "\u001b[0;31mTypeError\u001b[0m                                 Traceback (most recent call last)",
      "Cell \u001b[0;32mIn[29], line 1\u001b[0m\n\u001b[0;32m----> 1\u001b[0m \u001b[43mb\u001b[49m\u001b[43m[\u001b[49m\u001b[38;5;241;43m5\u001b[39;49m\u001b[43m]\u001b[49m \u001b[38;5;241m=\u001b[39m \u001b[38;5;124m\"\u001b[39m\u001b[38;5;124mRam\u001b[39m\u001b[38;5;124m\"\u001b[39m\n",
      "\u001b[0;31mTypeError\u001b[0m: 'str' object does not support item assignment"
     ]
    }
   ],
   "source": [
    "b[5] = \"Ram\""
   ]
  },
  {
   "cell_type": "raw",
   "id": "898daec9-6eff-435d-9f56-fdb5878e741b",
   "metadata": {},
   "source": [
    "# objects/container whose state or value can not be changed after they are created are called as immutable objects or container."
   ]
  },
  {
   "cell_type": "raw",
   "id": "de281e85-9b58-42fa-b9a1-9adb4d5b82f8",
   "metadata": {},
   "source": [
    "String is a type of immutable objects/ doesn't support item assignment."
   ]
  },
  {
   "cell_type": "code",
   "execution_count": null,
   "id": "0eac754c-28d8-4bd4-bf17-139e1404527c",
   "metadata": {},
   "outputs": [],
   "source": []
  }
 ],
 "metadata": {
  "kernelspec": {
   "display_name": "Python 3 (ipykernel)",
   "language": "python",
   "name": "python3"
  },
  "language_info": {
   "codemirror_mode": {
    "name": "ipython",
    "version": 3
   },
   "file_extension": ".py",
   "mimetype": "text/x-python",
   "name": "python",
   "nbconvert_exporter": "python",
   "pygments_lexer": "ipython3",
   "version": "3.10.13"
  }
 },
 "nbformat": 4,
 "nbformat_minor": 5
}
