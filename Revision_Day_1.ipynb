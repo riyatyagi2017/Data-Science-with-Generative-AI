{
 "cells": [
  {
   "cell_type": "code",
   "execution_count": 1,
   "id": "a91a25b9-666a-4d8f-a743-96f8127a5cdb",
   "metadata": {},
   "outputs": [],
   "source": [
    "a = 5"
   ]
  },
  {
   "cell_type": "code",
   "execution_count": 2,
   "id": "e754ebd4-3475-4875-b3b6-96ab43da9a1b",
   "metadata": {},
   "outputs": [
    {
     "data": {
      "text/plain": [
       "5"
      ]
     },
     "execution_count": 2,
     "metadata": {},
     "output_type": "execute_result"
    }
   ],
   "source": [
    "a"
   ]
  },
  {
   "cell_type": "markdown",
   "id": "f4ee0e73-afc5-4774-bad9-9fde3851a377",
   "metadata": {},
   "source": [
    "## Comments"
   ]
  },
  {
   "cell_type": "markdown",
   "id": "23616489-5732-4d45-95fb-e1dc4b820b4e",
   "metadata": {},
   "source": [
    "### Comments"
   ]
  },
  {
   "cell_type": "raw",
   "id": "f4f25261-6583-4d3b-9ec2-f628f099dd8d",
   "metadata": {},
   "source": [
    "This is my first programming language."
   ]
  },
  {
   "cell_type": "code",
   "execution_count": 3,
   "id": "28f4c088-7c61-46ef-b942-8906298bbce5",
   "metadata": {},
   "outputs": [
    {
     "name": "stdout",
     "output_type": "stream",
     "text": [
      "Hello World !!\n"
     ]
    }
   ],
   "source": [
    "print(\"Hello World !!\")"
   ]
  },
  {
   "cell_type": "code",
   "execution_count": 4,
   "id": "d0dc6746-70b3-44f6-a3aa-a946c8cd4e01",
   "metadata": {},
   "outputs": [],
   "source": [
    "a = 3"
   ]
  },
  {
   "cell_type": "code",
   "execution_count": 5,
   "id": "8cc83813-1537-4eb3-a28a-1e728a2742e6",
   "metadata": {},
   "outputs": [
    {
     "data": {
      "text/plain": [
       "3"
      ]
     },
     "execution_count": 5,
     "metadata": {},
     "output_type": "execute_result"
    }
   ],
   "source": [
    "a"
   ]
  },
  {
   "cell_type": "code",
   "execution_count": 6,
   "id": "e494a8ee-97bf-4e9f-9826-6d050d53db41",
   "metadata": {},
   "outputs": [],
   "source": [
    "# variables are also called as identifiers."
   ]
  },
  {
   "cell_type": "raw",
   "id": "dd2aeb61-4fbd-4502-89e2-e7562d8f45d6",
   "metadata": {},
   "source": [
    " Variables/identifiers >> placeholders where we keep variety of data which we can use to write logic.\n",
    " # Numbers >> integers/float\n",
    " # characters >> string in python\n",
    " # True/False >>  Boolean\n",
    " # None"
   ]
  },
  {
   "cell_type": "code",
   "execution_count": 7,
   "id": "ef8df3af-13f1-464f-961a-f48031fe2d47",
   "metadata": {},
   "outputs": [],
   "source": [
    "b = 4"
   ]
  },
  {
   "cell_type": "code",
   "execution_count": 8,
   "id": "b10ef959-3a20-4017-b2c9-175e020b5e1e",
   "metadata": {},
   "outputs": [
    {
     "data": {
      "text/plain": [
       "4"
      ]
     },
     "execution_count": 8,
     "metadata": {},
     "output_type": "execute_result"
    }
   ],
   "source": [
    "b"
   ]
  },
  {
   "cell_type": "raw",
   "id": "a0725480-22b2-4aca-9c1b-41c26d994d95",
   "metadata": {},
   "source": [
    "variable is a reserved memory space for storing value."
   ]
  },
  {
   "cell_type": "code",
   "execution_count": 9,
   "id": "961963ca-762e-4326-95a4-92eaba8a7c12",
   "metadata": {},
   "outputs": [],
   "source": [
    "b = 4.5"
   ]
  },
  {
   "cell_type": "code",
   "execution_count": 10,
   "id": "58a69e80-26dd-45c8-b12d-b85ec3dcc3b9",
   "metadata": {},
   "outputs": [
    {
     "data": {
      "text/plain": [
       "4.5"
      ]
     },
     "execution_count": 10,
     "metadata": {},
     "output_type": "execute_result"
    }
   ],
   "source": [
    "b "
   ]
  },
  {
   "cell_type": "raw",
   "id": "0417dcb8-d51e-4a5b-8f7c-5856200d29cf",
   "metadata": {},
   "source": [
    "a momory space will be created with value of the variable"
   ]
  },
  {
   "cell_type": "code",
   "execution_count": 11,
   "id": "62a7dd4e-c61c-45b6-8b81-f2c4b127aa13",
   "metadata": {},
   "outputs": [],
   "source": [
    "c = \"Riya\""
   ]
  },
  {
   "cell_type": "code",
   "execution_count": 12,
   "id": "f54e923b-8db2-42e0-9aed-a1c0ffba63c3",
   "metadata": {},
   "outputs": [
    {
     "data": {
      "text/plain": [
       "'Riya'"
      ]
     },
     "execution_count": 12,
     "metadata": {},
     "output_type": "execute_result"
    }
   ],
   "source": [
    "c"
   ]
  },
  {
   "cell_type": "code",
   "execution_count": 13,
   "id": "69fb5727-8a2a-43ad-9ff5-75f33bc9b7b2",
   "metadata": {},
   "outputs": [
    {
     "data": {
      "text/plain": [
       "str"
      ]
     },
     "execution_count": 13,
     "metadata": {},
     "output_type": "execute_result"
    }
   ],
   "source": [
    "type(c)"
   ]
  },
  {
   "cell_type": "code",
   "execution_count": 14,
   "id": "1c93a1f9-cc37-49aa-ac2e-e27fdcb1d6fc",
   "metadata": {},
   "outputs": [],
   "source": [
    "a = 3"
   ]
  },
  {
   "cell_type": "code",
   "execution_count": 15,
   "id": "9bfd4b03-44a1-47bd-8e91-bd31c0ebe707",
   "metadata": {},
   "outputs": [
    {
     "data": {
      "text/plain": [
       "3"
      ]
     },
     "execution_count": 15,
     "metadata": {},
     "output_type": "execute_result"
    }
   ],
   "source": [
    "a"
   ]
  },
  {
   "cell_type": "code",
   "execution_count": 16,
   "id": "521fc178-9016-4001-aa43-f51613bc709d",
   "metadata": {},
   "outputs": [
    {
     "data": {
      "text/plain": [
       "int"
      ]
     },
     "execution_count": 16,
     "metadata": {},
     "output_type": "execute_result"
    }
   ],
   "source": [
    "type(a)"
   ]
  },
  {
   "cell_type": "code",
   "execution_count": 17,
   "id": "56b05f9a-7cb1-43b6-89ea-4fb829978c9e",
   "metadata": {},
   "outputs": [
    {
     "data": {
      "text/plain": [
       "float"
      ]
     },
     "execution_count": 17,
     "metadata": {},
     "output_type": "execute_result"
    }
   ],
   "source": [
    "b = 4.6\n",
    "type(b)"
   ]
  },
  {
   "cell_type": "code",
   "execution_count": 18,
   "id": "e6b0ffe6-670d-40f5-85a9-e64e5472db4e",
   "metadata": {},
   "outputs": [
    {
     "data": {
      "text/plain": [
       "bool"
      ]
     },
     "execution_count": 18,
     "metadata": {},
     "output_type": "execute_result"
    }
   ],
   "source": [
    "c = True\n",
    "type(c)"
   ]
  },
  {
   "cell_type": "code",
   "execution_count": 19,
   "id": "ce782e9c-7c70-4371-aab1-48349b32c7cc",
   "metadata": {},
   "outputs": [
    {
     "data": {
      "text/plain": [
       "bool"
      ]
     },
     "execution_count": 19,
     "metadata": {},
     "output_type": "execute_result"
    }
   ],
   "source": [
    "d = False\n",
    "type(d)"
   ]
  },
  {
   "cell_type": "code",
   "execution_count": 20,
   "id": "0d7caf7a-27e9-4853-b57d-0857d38fb9be",
   "metadata": {},
   "outputs": [
    {
     "data": {
      "text/plain": [
       "1"
      ]
     },
     "execution_count": 20,
     "metadata": {},
     "output_type": "execute_result"
    }
   ],
   "source": [
    "True - False"
   ]
  },
  {
   "cell_type": "code",
   "execution_count": 21,
   "id": "bfe4df6f-8837-4748-a791-6ad2829b3406",
   "metadata": {},
   "outputs": [
    {
     "data": {
      "text/plain": [
       "0"
      ]
     },
     "execution_count": 21,
     "metadata": {},
     "output_type": "execute_result"
    }
   ],
   "source": [
    "True*False"
   ]
  },
  {
   "cell_type": "raw",
   "id": "5f2dfa3e-9701-4597-ba2f-7e258c558ffe",
   "metadata": {},
   "source": [
    "True/False >> it will throw an zero division error"
   ]
  },
  {
   "cell_type": "code",
   "execution_count": 22,
   "id": "7866e8a6-859a-4ac8-a23f-46df1e6b3e36",
   "metadata": {},
   "outputs": [],
   "source": [
    "f = None\n",
    "f"
   ]
  },
  {
   "cell_type": "code",
   "execution_count": 23,
   "id": "48ea8cd6-ce25-478f-b806-b4a6a3858f72",
   "metadata": {},
   "outputs": [
    {
     "data": {
      "text/plain": [
       "NoneType"
      ]
     },
     "execution_count": 23,
     "metadata": {},
     "output_type": "execute_result"
    }
   ],
   "source": [
    "type(f)"
   ]
  },
  {
   "cell_type": "raw",
   "id": "124a424c-d0cc-4648-bfdf-047a2b9b4378",
   "metadata": {},
   "source": [
    "x + iy >> complex number"
   ]
  },
  {
   "cell_type": "code",
   "execution_count": 24,
   "id": "ee255b09-79a7-48e3-a9ad-5cbada9615f2",
   "metadata": {},
   "outputs": [],
   "source": [
    "comp = 5 + 6j"
   ]
  },
  {
   "cell_type": "code",
   "execution_count": 25,
   "id": "c7236713-ffa4-47af-93af-500c5a62465d",
   "metadata": {},
   "outputs": [
    {
     "data": {
      "text/plain": [
       "complex"
      ]
     },
     "execution_count": 25,
     "metadata": {},
     "output_type": "execute_result"
    }
   ],
   "source": [
    "type(comp)"
   ]
  },
  {
   "cell_type": "code",
   "execution_count": 26,
   "id": "c8cec9c3-dfb7-48f5-b8eb-4b1758d9bcf1",
   "metadata": {},
   "outputs": [
    {
     "data": {
      "text/plain": [
       "(5+6j)"
      ]
     },
     "execution_count": 26,
     "metadata": {},
     "output_type": "execute_result"
    }
   ],
   "source": [
    "comp"
   ]
  },
  {
   "cell_type": "code",
   "execution_count": 27,
   "id": "e6f11da0-173d-44fd-b8b1-ad1b6bcce16c",
   "metadata": {},
   "outputs": [
    {
     "data": {
      "text/plain": [
       "5.0"
      ]
     },
     "execution_count": 27,
     "metadata": {},
     "output_type": "execute_result"
    }
   ],
   "source": [
    "comp.real"
   ]
  },
  {
   "cell_type": "code",
   "execution_count": 28,
   "id": "766a5fc4-1ec3-4bff-98a7-ee5c71c0e153",
   "metadata": {},
   "outputs": [
    {
     "data": {
      "text/plain": [
       "6.0"
      ]
     },
     "execution_count": 28,
     "metadata": {},
     "output_type": "execute_result"
    }
   ],
   "source": [
    "comp.imag"
   ]
  },
  {
   "cell_type": "raw",
   "id": "6394399b-27ae-49a9-99d2-9452a7a85acc",
   "metadata": {},
   "source": [
    "Rules of Defining a variable >> A variable start with letter or underscore character"
   ]
  },
  {
   "cell_type": "raw",
   "id": "db89b3bf-a95d-44ca-a636-4ea193d3cbad",
   "metadata": {},
   "source": [
    "invalid ways"
   ]
  },
  {
   "cell_type": "code",
   "execution_count": 29,
   "id": "902ae59b-caee-423a-8700-fdbce2fbcc4f",
   "metadata": {},
   "outputs": [
    {
     "ename": "SyntaxError",
     "evalue": "cannot assign to literal here. Maybe you meant '==' instead of '='? (2414822714.py, line 1)",
     "output_type": "error",
     "traceback": [
      "\u001b[0;36m  Cell \u001b[0;32mIn[29], line 1\u001b[0;36m\u001b[0m\n\u001b[0;31m    5 = a\u001b[0m\n\u001b[0m    ^\u001b[0m\n\u001b[0;31mSyntaxError\u001b[0m\u001b[0;31m:\u001b[0m cannot assign to literal here. Maybe you meant '==' instead of '='?\n"
     ]
    }
   ],
   "source": [
    "5 = a"
   ]
  },
  {
   "cell_type": "code",
   "execution_count": 30,
   "id": "e66965db-b425-427c-b16b-11140c6abadb",
   "metadata": {},
   "outputs": [
    {
     "ename": "SyntaxError",
     "evalue": "cannot assign to literal here. Maybe you meant '==' instead of '='? (808249952.py, line 1)",
     "output_type": "error",
     "traceback": [
      "\u001b[0;36m  Cell \u001b[0;32mIn[30], line 1\u001b[0;36m\u001b[0m\n\u001b[0;31m    2.3 = b\u001b[0m\n\u001b[0m    ^\u001b[0m\n\u001b[0;31mSyntaxError\u001b[0m\u001b[0;31m:\u001b[0m cannot assign to literal here. Maybe you meant '==' instead of '='?\n"
     ]
    }
   ],
   "source": [
    "2.3 = b"
   ]
  },
  {
   "cell_type": "code",
   "execution_count": 31,
   "id": "fcabe5b8-6dd1-473a-93fc-5c56a7a32fd8",
   "metadata": {},
   "outputs": [
    {
     "ename": "SyntaxError",
     "evalue": "invalid decimal literal (3317533442.py, line 1)",
     "output_type": "error",
     "traceback": [
      "\u001b[0;36m  Cell \u001b[0;32mIn[31], line 1\u001b[0;36m\u001b[0m\n\u001b[0;31m    1name = \"Ram\"\u001b[0m\n\u001b[0m    ^\u001b[0m\n\u001b[0;31mSyntaxError\u001b[0m\u001b[0;31m:\u001b[0m invalid decimal literal\n"
     ]
    }
   ],
   "source": [
    "1name = \"Ram\""
   ]
  },
  {
   "cell_type": "code",
   "execution_count": 32,
   "id": "7365435b-9322-4a9e-95cd-a68be6f03d84",
   "metadata": {},
   "outputs": [
    {
     "ename": "SyntaxError",
     "evalue": "cannot assign to literal here. Maybe you meant '==' instead of '='? (310222110.py, line 1)",
     "output_type": "error",
     "traceback": [
      "\u001b[0;36m  Cell \u001b[0;32mIn[32], line 1\u001b[0;36m\u001b[0m\n\u001b[0;31m    1 = abc\u001b[0m\n\u001b[0m    ^\u001b[0m\n\u001b[0;31mSyntaxError\u001b[0m\u001b[0;31m:\u001b[0m cannot assign to literal here. Maybe you meant '==' instead of '='?\n"
     ]
    }
   ],
   "source": [
    "1 = abc"
   ]
  },
  {
   "cell_type": "raw",
   "id": "56e3f3dc-5908-4424-a863-8055406550e4",
   "metadata": {},
   "source": [
    "valid ways"
   ]
  },
  {
   "cell_type": "code",
   "execution_count": 33,
   "id": "43e34873-6d95-4111-9dde-dd35658e934e",
   "metadata": {},
   "outputs": [],
   "source": [
    "name = \"Riya\""
   ]
  },
  {
   "cell_type": "code",
   "execution_count": 34,
   "id": "2941364d-ed0c-4303-b069-b39eb33394a0",
   "metadata": {},
   "outputs": [
    {
     "data": {
      "text/plain": [
       "'Riya'"
      ]
     },
     "execution_count": 34,
     "metadata": {},
     "output_type": "execute_result"
    }
   ],
   "source": [
    "name"
   ]
  },
  {
   "cell_type": "code",
   "execution_count": 35,
   "id": "dab91f35-c0f7-4ce3-b52c-d4e9e4a1f792",
   "metadata": {},
   "outputs": [],
   "source": [
    "abc = \"Mohan\""
   ]
  },
  {
   "cell_type": "code",
   "execution_count": 36,
   "id": "aed19895-0203-4b65-ac9c-1bb6ba5ce4aa",
   "metadata": {},
   "outputs": [
    {
     "data": {
      "text/plain": [
       "'Mohan'"
      ]
     },
     "execution_count": 36,
     "metadata": {},
     "output_type": "execute_result"
    }
   ],
   "source": [
    "abc"
   ]
  },
  {
   "cell_type": "code",
   "execution_count": 37,
   "id": "32379e14-1418-4fc5-830e-6d860e7ea232",
   "metadata": {},
   "outputs": [],
   "source": [
    "location = \"Saharanpur\""
   ]
  },
  {
   "cell_type": "code",
   "execution_count": 38,
   "id": "f371b45e-0547-4b29-ad3f-bbcf6907166a",
   "metadata": {},
   "outputs": [],
   "source": [
    "_name = \"Rahul\""
   ]
  },
  {
   "cell_type": "code",
   "execution_count": 39,
   "id": "ea704a15-88aa-4485-8668-924143b085f6",
   "metadata": {},
   "outputs": [
    {
     "data": {
      "text/plain": [
       "'Rahul'"
      ]
     },
     "execution_count": 39,
     "metadata": {},
     "output_type": "execute_result"
    }
   ],
   "source": [
    "_name"
   ]
  },
  {
   "cell_type": "raw",
   "id": "1d8b52cc-2b00-45f1-b1a4-4123bfad282c",
   "metadata": {},
   "source": [
    "Invalid ways"
   ]
  },
  {
   "cell_type": "code",
   "execution_count": 40,
   "id": "c208764e-0c3e-4e7b-98bc-d9635992cf22",
   "metadata": {},
   "outputs": [
    {
     "ename": "SyntaxError",
     "evalue": "cannot assign to expression here. Maybe you meant '==' instead of '='? (2314180980.py, line 1)",
     "output_type": "error",
     "traceback": [
      "\u001b[0;36m  Cell \u001b[0;32mIn[40], line 1\u001b[0;36m\u001b[0m\n\u001b[0;31m    a - bc = \"Ram\"\u001b[0m\n\u001b[0m    ^\u001b[0m\n\u001b[0;31mSyntaxError\u001b[0m\u001b[0;31m:\u001b[0m cannot assign to expression here. Maybe you meant '==' instead of '='?\n"
     ]
    }
   ],
   "source": [
    "a - bc = \"Ram\""
   ]
  },
  {
   "cell_type": "code",
   "execution_count": 41,
   "id": "c69d66de-10ee-4a85-b27b-a699b5fa3c21",
   "metadata": {},
   "outputs": [
    {
     "ename": "SyntaxError",
     "evalue": "cannot assign to expression here. Maybe you meant '==' instead of '='? (1574417366.py, line 1)",
     "output_type": "error",
     "traceback": [
      "\u001b[0;36m  Cell \u001b[0;32mIn[41], line 1\u001b[0;36m\u001b[0m\n\u001b[0;31m    data-science = \"pwskills\"\u001b[0m\n\u001b[0m    ^\u001b[0m\n\u001b[0;31mSyntaxError\u001b[0m\u001b[0;31m:\u001b[0m cannot assign to expression here. Maybe you meant '==' instead of '='?\n"
     ]
    }
   ],
   "source": [
    "data-science = \"pwskills\""
   ]
  },
  {
   "cell_type": "code",
   "execution_count": 42,
   "id": "f53f6b83-5960-4760-bd59-f6f54c87b05b",
   "metadata": {},
   "outputs": [],
   "source": [
    "data_science = \"pwskills\""
   ]
  },
  {
   "cell_type": "code",
   "execution_count": 43,
   "id": "7e043a14-8b95-4335-b304-f914987ac370",
   "metadata": {},
   "outputs": [
    {
     "data": {
      "text/plain": [
       "'pwskills'"
      ]
     },
     "execution_count": 43,
     "metadata": {},
     "output_type": "execute_result"
    }
   ],
   "source": [
    "data_science"
   ]
  },
  {
   "cell_type": "code",
   "execution_count": 44,
   "id": "3adb6c8b-5fe1-49f2-97c0-b0465257129c",
   "metadata": {},
   "outputs": [
    {
     "ename": "SyntaxError",
     "evalue": "invalid syntax (2773842438.py, line 1)",
     "output_type": "error",
     "traceback": [
      "\u001b[0;36m  Cell \u001b[0;32mIn[44], line 1\u001b[0;36m\u001b[0m\n\u001b[0;31m    data analytics course = \"pwskills\"\u001b[0m\n\u001b[0m         ^\u001b[0m\n\u001b[0;31mSyntaxError\u001b[0m\u001b[0;31m:\u001b[0m invalid syntax\n"
     ]
    }
   ],
   "source": [
    "data analytics course = \"pwskills\""
   ]
  },
  {
   "cell_type": "code",
   "execution_count": 45,
   "id": "c72c8ece-fd48-44e2-a438-73c23609a334",
   "metadata": {},
   "outputs": [],
   "source": [
    "data_analytics_course = \"pwskills\""
   ]
  },
  {
   "cell_type": "code",
   "execution_count": 46,
   "id": "31fb0fc7-52c0-41b5-bcd3-cd1a8fb9c4b5",
   "metadata": {},
   "outputs": [
    {
     "data": {
      "text/plain": [
       "'pwskills'"
      ]
     },
     "execution_count": 46,
     "metadata": {},
     "output_type": "execute_result"
    }
   ],
   "source": [
    "data_analytics_course"
   ]
  },
  {
   "cell_type": "code",
   "execution_count": 47,
   "id": "351d6b24-f8e6-4e39-b35a-c8bc52ddae85",
   "metadata": {},
   "outputs": [
    {
     "ename": "SyntaxError",
     "evalue": "invalid syntax. Maybe you meant '==' or ':=' instead of '='? (2695804547.py, line 1)",
     "output_type": "error",
     "traceback": [
      "\u001b[0;36m  Cell \u001b[0;32mIn[47], line 1\u001b[0;36m\u001b[0m\n\u001b[0;31m    @abc = 2.3\u001b[0m\n\u001b[0m     ^\u001b[0m\n\u001b[0;31mSyntaxError\u001b[0m\u001b[0;31m:\u001b[0m invalid syntax. Maybe you meant '==' or ':=' instead of '='?\n"
     ]
    }
   ],
   "source": [
    "@abc = 2.3"
   ]
  },
  {
   "cell_type": "code",
   "execution_count": 48,
   "id": "081f373c-8b46-4b50-92fa-22939374ade8",
   "metadata": {},
   "outputs": [
    {
     "name": "stderr",
     "output_type": "stream",
     "text": [
      "UsageError: Line magic function `%abc` not found.\n"
     ]
    }
   ],
   "source": [
    "%abc = \"Ram\""
   ]
  },
  {
   "cell_type": "markdown",
   "id": "0e6b3dca-2c5e-41d3-94f7-e97f43867576",
   "metadata": {},
   "source": [
    "### Comments"
   ]
  },
  {
   "cell_type": "code",
   "execution_count": 49,
   "id": "fdaecdb6-7688-4fb6-9202-752d8a75134b",
   "metadata": {},
   "outputs": [],
   "source": [
    "# This is way to define comments\n",
    "a = 3\n",
    "b = 5"
   ]
  },
  {
   "cell_type": "code",
   "execution_count": 50,
   "id": "e5c95ffd-99a7-4e43-b8c7-68d1b5b6486a",
   "metadata": {},
   "outputs": [
    {
     "data": {
      "text/plain": [
       "5"
      ]
     },
     "execution_count": 50,
     "metadata": {},
     "output_type": "execute_result"
    }
   ],
   "source": [
    "# This is a lecture on variables\n",
    "a = 5\n",
    "a"
   ]
  },
  {
   "cell_type": "code",
   "execution_count": 51,
   "id": "10de25de-e83f-4122-956d-536f4f4139ab",
   "metadata": {},
   "outputs": [],
   "source": [
    "# This is my first line of comment\n",
    "# This is my second line of comment\n",
    "a = 4"
   ]
  },
  {
   "cell_type": "code",
   "execution_count": 52,
   "id": "a2b174a3-b994-402b-9368-b24f1c8d6af1",
   "metadata": {},
   "outputs": [
    {
     "data": {
      "text/plain": [
       "5"
      ]
     },
     "execution_count": 52,
     "metadata": {},
     "output_type": "execute_result"
    }
   ],
   "source": [
    "# Multi line comments\n",
    "'''\n",
    "This is a multi line comments\n",
    "I am learning Data Science.\n",
    "I am enjoying the lectures.\n",
    "'''\n",
    "\n",
    "a = 5\n",
    "a"
   ]
  },
  {
   "cell_type": "code",
   "execution_count": 53,
   "id": "061f09e3-db16-42a2-a936-04a73f022a11",
   "metadata": {},
   "outputs": [
    {
     "data": {
      "text/plain": [
       "5"
      ]
     },
     "execution_count": 53,
     "metadata": {},
     "output_type": "execute_result"
    }
   ],
   "source": [
    "\"\"\"\n",
    "nmnkjk\n",
    "njkkl\n",
    "hjhkjkj\n",
    "\n",
    "\"\"\"\n",
    "\n",
    "a = 5\n",
    "a"
   ]
  },
  {
   "cell_type": "code",
   "execution_count": 54,
   "id": "12a7ac0e-f584-42f4-9eeb-7cfe74ee5bcf",
   "metadata": {},
   "outputs": [
    {
     "name": "stdout",
     "output_type": "stream",
     "text": [
      "Hello World!!\n"
     ]
    },
    {
     "data": {
      "text/plain": [
       "int"
      ]
     },
     "execution_count": 54,
     "metadata": {},
     "output_type": "execute_result"
    }
   ],
   "source": [
    "print(\"Hello World!!\")\n",
    "type(a)"
   ]
  },
  {
   "cell_type": "code",
   "execution_count": 55,
   "id": "e0fc2ac5-c4d8-4012-a95c-e760287f9cbe",
   "metadata": {},
   "outputs": [],
   "source": [
    "# keywords >> are predefined words that hold a special meaning and have specific purpose in python programming."
   ]
  },
  {
   "cell_type": "code",
   "execution_count": 56,
   "id": "3071ca39-1bf1-46c8-864f-e4bb6ca08268",
   "metadata": {},
   "outputs": [
    {
     "name": "stdout",
     "output_type": "stream",
     "text": [
      "\n",
      "Here is a list of the Python keywords.  Enter any keyword to get more help.\n",
      "\n",
      "False               class               from                or\n",
      "None                continue            global              pass\n",
      "True                def                 if                  raise\n",
      "and                 del                 import              return\n",
      "as                  elif                in                  try\n",
      "assert              else                is                  while\n",
      "async               except              lambda              with\n",
      "await               finally             nonlocal            yield\n",
      "break               for                 not                 \n",
      "\n"
     ]
    }
   ],
   "source": [
    "help('keywords')"
   ]
  },
  {
   "cell_type": "code",
   "execution_count": 57,
   "id": "990adb0b-284b-4e65-8ba1-bc620bab50e8",
   "metadata": {},
   "outputs": [
    {
     "name": "stdout",
     "output_type": "stream",
     "text": [
      "greater\n"
     ]
    }
   ],
   "source": [
    "# Indentation >> make code more readable.\n",
    "if 3 > 2:\n",
    "    print('greater')"
   ]
  },
  {
   "cell_type": "code",
   "execution_count": 58,
   "id": "46e63f29-94c8-45d3-8805-0735a4a2a1bd",
   "metadata": {},
   "outputs": [],
   "source": [
    "a = 3 # statement >> fundamenral block of code\n",
    "name = 'Riya' # statement\n",
    "\n",
    "# statement can be of many types >> expression,assignment,conditional statement,Loops"
   ]
  },
  {
   "cell_type": "code",
   "execution_count": 59,
   "id": "a326f063-3628-4594-b006-604506a86a94",
   "metadata": {},
   "outputs": [],
   "source": [
    "# assignment statement\n",
    "a = 5"
   ]
  },
  {
   "cell_type": "code",
   "execution_count": 60,
   "id": "788a8c6d-0fc1-4109-93ab-ee65d12822a3",
   "metadata": {},
   "outputs": [
    {
     "data": {
      "text/plain": [
       "9"
      ]
     },
     "execution_count": 60,
     "metadata": {},
     "output_type": "execute_result"
    }
   ],
   "source": [
    "a = 5 # assignment\n",
    "b = 4 # assignment\n",
    "a + b # expression statement"
   ]
  },
  {
   "cell_type": "code",
   "execution_count": 65,
   "id": "1fe7bc2a-e9cc-48cd-969f-69730941dd17",
   "metadata": {},
   "outputs": [
    {
     "name": "stdin",
     "output_type": "stream",
     "text": [
      "Please Enter your name :  2\n"
     ]
    }
   ],
   "source": [
    "# input output >> if you want some user to give  value of variable\n",
    "name = input('Please Enter your name : ')"
   ]
  },
  {
   "cell_type": "code",
   "execution_count": 66,
   "id": "c009b113-e93e-474f-8091-54a1d77f9c09",
   "metadata": {},
   "outputs": [
    {
     "data": {
      "text/plain": [
       "'2'"
      ]
     },
     "execution_count": 66,
     "metadata": {},
     "output_type": "execute_result"
    }
   ],
   "source": [
    "name"
   ]
  },
  {
   "cell_type": "code",
   "execution_count": 67,
   "id": "2a4f1544-432c-4386-977d-964f4c212418",
   "metadata": {},
   "outputs": [
    {
     "data": {
      "text/plain": [
       "str"
      ]
     },
     "execution_count": 67,
     "metadata": {},
     "output_type": "execute_result"
    }
   ],
   "source": [
    "type(name)"
   ]
  },
  {
   "cell_type": "code",
   "execution_count": 68,
   "id": "9a9bdc74-4205-461a-8f0b-0be89a583ecd",
   "metadata": {},
   "outputs": [],
   "source": [
    "# input actually take every value as string.\n",
    "# we can convert this string into integer."
   ]
  },
  {
   "cell_type": "code",
   "execution_count": 69,
   "id": "7c63872e-62b1-44c8-ba2f-8ce6b369f6fd",
   "metadata": {},
   "outputs": [],
   "source": [
    "# typecasting > to change the class"
   ]
  },
  {
   "cell_type": "code",
   "execution_count": 71,
   "id": "eec80d06-c673-4eb6-9ab6-ea9f247574ba",
   "metadata": {},
   "outputs": [],
   "source": [
    "name = int(name)"
   ]
  },
  {
   "cell_type": "code",
   "execution_count": 72,
   "id": "6b1a6839-2e31-4ecf-9c97-67c8c30a9296",
   "metadata": {},
   "outputs": [
    {
     "data": {
      "text/plain": [
       "int"
      ]
     },
     "execution_count": 72,
     "metadata": {},
     "output_type": "execute_result"
    }
   ],
   "source": [
    "type(name)"
   ]
  },
  {
   "cell_type": "code",
   "execution_count": 73,
   "id": "1f9ea9d5-fc80-444b-a934-6d054bbbc8e0",
   "metadata": {},
   "outputs": [
    {
     "data": {
      "text/plain": [
       "str"
      ]
     },
     "execution_count": 73,
     "metadata": {},
     "output_type": "execute_result"
    }
   ],
   "source": [
    "a = \"3.5\"\n",
    "type(a)"
   ]
  },
  {
   "cell_type": "code",
   "execution_count": 74,
   "id": "c9ed9f19-12d8-4c73-bc9a-54262392bf26",
   "metadata": {},
   "outputs": [],
   "source": [
    "a = float(a)"
   ]
  },
  {
   "cell_type": "code",
   "execution_count": 75,
   "id": "4ad50d6d-c65e-496d-a026-c7cd36c4c6bd",
   "metadata": {},
   "outputs": [
    {
     "data": {
      "text/plain": [
       "float"
      ]
     },
     "execution_count": 75,
     "metadata": {},
     "output_type": "execute_result"
    }
   ],
   "source": [
    "type(a)"
   ]
  },
  {
   "cell_type": "code",
   "execution_count": 76,
   "id": "f368ea6f-8145-40f2-8151-4f9938d8ca97",
   "metadata": {},
   "outputs": [
    {
     "data": {
      "text/plain": [
       "str"
      ]
     },
     "execution_count": 76,
     "metadata": {},
     "output_type": "execute_result"
    }
   ],
   "source": [
    "s = \"108\"\n",
    "type(s)"
   ]
  },
  {
   "cell_type": "code",
   "execution_count": 77,
   "id": "69c95742-d9fc-4877-9e4a-923f4eb23972",
   "metadata": {},
   "outputs": [
    {
     "data": {
      "text/plain": [
       "int"
      ]
     },
     "execution_count": 77,
     "metadata": {},
     "output_type": "execute_result"
    }
   ],
   "source": [
    "s = int(s)\n",
    "type(s)"
   ]
  },
  {
   "cell_type": "code",
   "execution_count": 78,
   "id": "2eb5ea0b-8c76-4a51-a873-fe08a5529b31",
   "metadata": {},
   "outputs": [],
   "source": [
    "s = float(s)"
   ]
  },
  {
   "cell_type": "code",
   "execution_count": 79,
   "id": "34831e3b-2272-4810-99e6-cd87d9b1cdae",
   "metadata": {},
   "outputs": [
    {
     "data": {
      "text/plain": [
       "108.0"
      ]
     },
     "execution_count": 79,
     "metadata": {},
     "output_type": "execute_result"
    }
   ],
   "source": [
    "s"
   ]
  },
  {
   "cell_type": "code",
   "execution_count": 80,
   "id": "e733c76f-f4c4-4ca9-abbf-71b8737af44c",
   "metadata": {},
   "outputs": [
    {
     "data": {
      "text/plain": [
       "float"
      ]
     },
     "execution_count": 80,
     "metadata": {},
     "output_type": "execute_result"
    }
   ],
   "source": [
    "type(s)"
   ]
  },
  {
   "cell_type": "code",
   "execution_count": 81,
   "id": "4d88de25-aad4-4ff7-81ae-d177bbc5e874",
   "metadata": {},
   "outputs": [
    {
     "data": {
      "text/plain": [
       "'108.0'"
      ]
     },
     "execution_count": 81,
     "metadata": {},
     "output_type": "execute_result"
    }
   ],
   "source": [
    "str(s)"
   ]
  },
  {
   "cell_type": "code",
   "execution_count": 82,
   "id": "4d487833-c0b5-4083-9239-cb219e602e7e",
   "metadata": {},
   "outputs": [
    {
     "data": {
      "text/plain": [
       "int"
      ]
     },
     "execution_count": 82,
     "metadata": {},
     "output_type": "execute_result"
    }
   ],
   "source": [
    "a = 121\n",
    "type(a)"
   ]
  },
  {
   "cell_type": "code",
   "execution_count": 84,
   "id": "2e7a7825-4087-470c-a26b-32b9a50283f5",
   "metadata": {},
   "outputs": [
    {
     "data": {
      "text/plain": [
       "str"
      ]
     },
     "execution_count": 84,
     "metadata": {},
     "output_type": "execute_result"
    }
   ],
   "source": [
    "type(str(a))"
   ]
  },
  {
   "cell_type": "code",
   "execution_count": 85,
   "id": "da766a1e-bec0-4ed6-af44-a6ba25847e32",
   "metadata": {},
   "outputs": [
    {
     "data": {
      "text/plain": [
       "False"
      ]
     },
     "execution_count": 85,
     "metadata": {},
     "output_type": "execute_result"
    }
   ],
   "source": [
    "bool(0)"
   ]
  },
  {
   "cell_type": "code",
   "execution_count": 86,
   "id": "2fd4e5dd-370a-47bb-b115-a0abccaf1c97",
   "metadata": {},
   "outputs": [
    {
     "data": {
      "text/plain": [
       "True"
      ]
     },
     "execution_count": 86,
     "metadata": {},
     "output_type": "execute_result"
    }
   ],
   "source": [
    "bool(1)"
   ]
  },
  {
   "cell_type": "code",
   "execution_count": 87,
   "id": "5855673c-3038-45a0-b343-3d7b88d819eb",
   "metadata": {},
   "outputs": [
    {
     "ename": "ValueError",
     "evalue": "invalid literal for int() with base 10: 'Riya'",
     "output_type": "error",
     "traceback": [
      "\u001b[0;31m---------------------------------------------------------------------------\u001b[0m",
      "\u001b[0;31mValueError\u001b[0m                                Traceback (most recent call last)",
      "Cell \u001b[0;32mIn[87], line 2\u001b[0m\n\u001b[1;32m      1\u001b[0m a \u001b[38;5;241m=\u001b[39m \u001b[38;5;124m\"\u001b[39m\u001b[38;5;124mRiya\u001b[39m\u001b[38;5;124m\"\u001b[39m\n\u001b[0;32m----> 2\u001b[0m \u001b[38;5;28;43mint\u001b[39;49m\u001b[43m(\u001b[49m\u001b[43ma\u001b[49m\u001b[43m)\u001b[49m\n",
      "\u001b[0;31mValueError\u001b[0m: invalid literal for int() with base 10: 'Riya'"
     ]
    }
   ],
   "source": [
    "a = \"Riya\"\n",
    "int(a)"
   ]
  },
  {
   "cell_type": "code",
   "execution_count": 88,
   "id": "73dad070-0003-47a1-9965-eb20f4bdafcd",
   "metadata": {},
   "outputs": [],
   "source": [
    "# python is a case sensitive programming language\n",
    "a = 5\n",
    "A = 15"
   ]
  },
  {
   "cell_type": "code",
   "execution_count": 89,
   "id": "039eda70-fce1-4304-8f21-b12288f4829f",
   "metadata": {},
   "outputs": [
    {
     "data": {
      "text/plain": [
       "5"
      ]
     },
     "execution_count": 89,
     "metadata": {},
     "output_type": "execute_result"
    }
   ],
   "source": [
    "a"
   ]
  },
  {
   "cell_type": "code",
   "execution_count": 90,
   "id": "5998e842-0665-4f74-8c6e-cac001fc5c03",
   "metadata": {},
   "outputs": [
    {
     "data": {
      "text/plain": [
       "15"
      ]
     },
     "execution_count": 90,
     "metadata": {},
     "output_type": "execute_result"
    }
   ],
   "source": [
    "A"
   ]
  },
  {
   "cell_type": "code",
   "execution_count": 92,
   "id": "39af31a2-4927-4829-8cb8-24dae3064135",
   "metadata": {},
   "outputs": [],
   "source": [
    "# variables should not be keyword or predefined functions."
   ]
  },
  {
   "cell_type": "code",
   "execution_count": null,
   "id": "fe3f63fb-b037-441d-bccb-75ff83ee1039",
   "metadata": {},
   "outputs": [],
   "source": []
  }
 ],
 "metadata": {
  "kernelspec": {
   "display_name": "Python 3 (ipykernel)",
   "language": "python",
   "name": "python3"
  },
  "language_info": {
   "codemirror_mode": {
    "name": "ipython",
    "version": 3
   },
   "file_extension": ".py",
   "mimetype": "text/x-python",
   "name": "python",
   "nbconvert_exporter": "python",
   "pygments_lexer": "ipython3",
   "version": "3.10.8"
  }
 },
 "nbformat": 4,
 "nbformat_minor": 5
}
