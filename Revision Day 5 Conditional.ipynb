{
 "cells": [
  {
   "cell_type": "markdown",
   "id": "1a00cf79-0407-4193-9b9c-6e1b80f17864",
   "metadata": {},
   "source": [
    "Flow control in Python refers to the mechanism that govern the order in which statements and instructions are executed.This is crucial for implementing logic in your programs."
   ]
  },
  {
   "cell_type": "code",
   "execution_count": 1,
   "id": "7fc715e6-7156-4d8c-b86e-3cc8326fc01c",
   "metadata": {},
   "outputs": [],
   "source": [
    "# conditional >> I will play cricket when the weather is sunny.\n",
    "# loop statements >> I will keep checking out dishes until all the dishes are over in a buffet.\n",
    "# break staement >> I will check out all the dishes until i get pasta."
   ]
  },
  {
   "cell_type": "code",
   "execution_count": 2,
   "id": "61c91aa5-9fe6-49ec-a8b7-fb313fe8eee8",
   "metadata": {},
   "outputs": [],
   "source": [
    "# conditional statements>> helps you to code decision based on some preconditiones\n",
    "# if\n",
    "# if else\n",
    "# if elif else\n",
    "# nested if else"
   ]
  },
  {
   "cell_type": "code",
   "execution_count": 3,
   "id": "fbffd399-14ca-4e0a-9384-45b0fa81ed0e",
   "metadata": {},
   "outputs": [
    {
     "data": {
      "text/plain": [
       "'\\nif condition True:\\n    block of code will be executed\\n'"
      ]
     },
     "execution_count": 3,
     "metadata": {},
     "output_type": "execute_result"
    }
   ],
   "source": [
    "# if statements\n",
    "# syntax\n",
    "'''\n",
    "if condition True:\n",
    "    block of code will be executed\n",
    "'''"
   ]
  },
  {
   "cell_type": "code",
   "execution_count": 4,
   "id": "5e40b6b8-2b06-4514-976d-602cddcdd2a4",
   "metadata": {},
   "outputs": [
    {
     "data": {
      "text/plain": [
       "False"
      ]
     },
     "execution_count": 4,
     "metadata": {},
     "output_type": "execute_result"
    }
   ],
   "source": [
    "3 > 4"
   ]
  },
  {
   "cell_type": "code",
   "execution_count": 5,
   "id": "6d178115-0bd8-4e46-934b-ff5806309f5a",
   "metadata": {},
   "outputs": [
    {
     "data": {
      "text/plain": [
       "True"
      ]
     },
     "execution_count": 5,
     "metadata": {},
     "output_type": "execute_result"
    }
   ],
   "source": [
    "1<2"
   ]
  },
  {
   "cell_type": "code",
   "execution_count": 6,
   "id": "423e1576-5d79-452a-bc44-d687a0ec5783",
   "metadata": {},
   "outputs": [
    {
     "name": "stdout",
     "output_type": "stream",
     "text": [
      "The number is greater than 0.\n"
     ]
    }
   ],
   "source": [
    "a = 100\n",
    "if a > 0:# execute the if bolck , if condition is true\n",
    "    print('The number is greater than 0.')"
   ]
  },
  {
   "cell_type": "code",
   "execution_count": 7,
   "id": "56351014-a397-4c6f-a96a-02c95da971da",
   "metadata": {},
   "outputs": [],
   "source": [
    "a = 100\n",
    "if a < 0:# execute the if bolck , if condition is true\n",
    "    print('The number is greater than 0.')"
   ]
  },
  {
   "cell_type": "code",
   "execution_count": 8,
   "id": "4a546fc0-6a75-4551-a5b1-2c12286d436d",
   "metadata": {},
   "outputs": [],
   "source": [
    "weather = 'Sunny'\n",
    "if weather == 'rainy':\n",
    "    print('I will not play cricket.')"
   ]
  },
  {
   "cell_type": "code",
   "execution_count": 9,
   "id": "3275599e-0979-4ab5-b47b-91b1df8fdbd4",
   "metadata": {},
   "outputs": [
    {
     "name": "stdout",
     "output_type": "stream",
     "text": [
      "room tempertaure\n"
     ]
    }
   ],
   "source": [
    "temp = 30\n",
    "if temp > 25:\n",
    "    print(\"room tempertaure\")"
   ]
  },
  {
   "cell_type": "code",
   "execution_count": 10,
   "id": "d548e638-ff74-4dcf-9fa1-e87ad25b5db0",
   "metadata": {},
   "outputs": [
    {
     "name": "stdout",
     "output_type": "stream",
     "text": [
      "I am studying the course\n"
     ]
    }
   ],
   "source": [
    "is_ds_course = True\n",
    "if is_ds_course:\n",
    "    print(\"I am studying the course\")"
   ]
  },
  {
   "cell_type": "code",
   "execution_count": 11,
   "id": "cbea3d15-f9f2-4ac7-9924-029ec3edfa84",
   "metadata": {},
   "outputs": [
    {
     "name": "stdout",
     "output_type": "stream",
     "text": [
      "You are excellent\n"
     ]
    }
   ],
   "source": [
    "grade = 8\n",
    "if grade >= 8:\n",
    "    print(\"You are excellent\")"
   ]
  },
  {
   "cell_type": "code",
   "execution_count": 12,
   "id": "d6511c64-3e0f-44db-9c5d-6063b5efbec8",
   "metadata": {},
   "outputs": [
    {
     "name": "stdout",
     "output_type": "stream",
     "text": [
      "The number is even\n"
     ]
    }
   ],
   "source": [
    "number = 42\n",
    "if number%2 == 0:\n",
    "    print('The number is even')"
   ]
  },
  {
   "cell_type": "code",
   "execution_count": 13,
   "id": "23c5e3c8-d524-4ab0-a915-c968ea328463",
   "metadata": {},
   "outputs": [],
   "source": [
    "# in real life , generally decisions are made based on multiple conditions"
   ]
  },
  {
   "cell_type": "code",
   "execution_count": 14,
   "id": "4175813c-722c-4c66-922d-3fa3281c30d1",
   "metadata": {},
   "outputs": [
    {
     "name": "stdout",
     "output_type": "stream",
     "text": [
      "This is the number of interest\n"
     ]
    }
   ],
   "source": [
    "number = 42\n",
    "if ((number%2 == 0) and (number > 0)):\n",
    "    print('This is the number of interest')"
   ]
  },
  {
   "cell_type": "code",
   "execution_count": 15,
   "id": "bc6175f8-aa1a-49f8-a1ee-a8b39d60ac67",
   "metadata": {},
   "outputs": [
    {
     "name": "stdout",
     "output_type": "stream",
     "text": [
      "You are all rounder\n"
     ]
    }
   ],
   "source": [
    "grade = 8 \n",
    "co_cirr = True\n",
    "if ((grade >= 8) and (co_cirr == True)):\n",
    "    print(\"You are all rounder\")"
   ]
  },
  {
   "cell_type": "code",
   "execution_count": 16,
   "id": "0562720f-4918-402a-9105-c0adff53cec6",
   "metadata": {},
   "outputs": [],
   "source": [
    "# in real life if one condition is not fullfilled, you will do something else\n",
    "# example:if weather is not rainy i will go to play cricket else I will play T.V"
   ]
  },
  {
   "cell_type": "code",
   "execution_count": 17,
   "id": "978ae780-435d-4297-9701-7a242b51bce7",
   "metadata": {},
   "outputs": [
    {
     "name": "stdout",
     "output_type": "stream",
     "text": [
      "I will play T.V\n"
     ]
    }
   ],
   "source": [
    "# if else >> execte if bolck when the condition is True else execute else block \n",
    "weather = 'rainy'\n",
    "if weather == 'sunny':\n",
    "    print('I will play cricket')\n",
    "else:\n",
    "    print('I will play T.V')"
   ]
  },
  {
   "cell_type": "code",
   "execution_count": 18,
   "id": "6e5bb3b6-f166-4d14-afe2-9c1e5eb49a42",
   "metadata": {},
   "outputs": [
    {
     "name": "stdout",
     "output_type": "stream",
     "text": [
      "get out of the bar\n"
     ]
    }
   ],
   "source": [
    "age = 15\n",
    "if age >= 18:\n",
    "    print('You will be served alcohol')\n",
    "else:\n",
    "    print('get out of the bar')"
   ]
  },
  {
   "cell_type": "code",
   "execution_count": 19,
   "id": "01571fa0-7821-42d2-b323-06d87a15083b",
   "metadata": {},
   "outputs": [
    {
     "name": "stdout",
     "output_type": "stream",
     "text": [
      "don't drive\n"
     ]
    }
   ],
   "source": [
    "age = 12\n",
    "if age >= 18:\n",
    "    print('Please have a driving license and drive')\n",
    "else:\n",
    "    print(\"don't drive\")"
   ]
  },
  {
   "cell_type": "code",
   "execution_count": 20,
   "id": "d6de78cc-d21c-4362-add5-80c60cdec5da",
   "metadata": {},
   "outputs": [
    {
     "name": "stdout",
     "output_type": "stream",
     "text": [
      "I am playing cricket\n"
     ]
    }
   ],
   "source": [
    "is_ds_course = False\n",
    "if is_ds_course:\n",
    "    print('I am Studying')\n",
    "else:\n",
    "    print('I am playing cricket')"
   ]
  },
  {
   "cell_type": "code",
   "execution_count": 21,
   "id": "15eba07b-8df6-4877-994a-085f081027dd",
   "metadata": {},
   "outputs": [
    {
     "name": "stdout",
     "output_type": "stream",
     "text": [
      "x is less than 5\n"
     ]
    }
   ],
   "source": [
    "x = 1\n",
    "if x > 5:\n",
    "    print('x is greater than 5')\n",
    "else:\n",
    "    print('x is less than 5')"
   ]
  },
  {
   "cell_type": "code",
   "execution_count": 22,
   "id": "7b79faf2-90cf-466a-818e-cc2ccd331b54",
   "metadata": {},
   "outputs": [
    {
     "name": "stdout",
     "output_type": "stream",
     "text": [
      "The number is odd\n"
     ]
    }
   ],
   "source": [
    "# To check if the number is even\n",
    "num = 25\n",
    "if num%2 ==0:\n",
    "    print(\"The number is even\")\n",
    "else:\n",
    "    print(\"The number is odd\")"
   ]
  },
  {
   "cell_type": "code",
   "execution_count": 23,
   "id": "14edf893-835e-45ed-a874-53544cfa058e",
   "metadata": {},
   "outputs": [
    {
     "name": "stdout",
     "output_type": "stream",
     "text": [
      "Fail\n"
     ]
    }
   ],
   "source": [
    "score = 30\n",
    "if score >= 33:\n",
    "    print(\"Pass\")\n",
    "else:\n",
    "    print(\"Fail\")"
   ]
  },
  {
   "cell_type": "code",
   "execution_count": 24,
   "id": "9e5c27ee-173f-4271-b73c-c550130ad6f0",
   "metadata": {},
   "outputs": [],
   "source": [
    "# if else >> two condition\n",
    "# in real life we can have multiple condition\n",
    "# syntax\n",
    "# if some condition\n",
    "# elif condition\n",
    "# else"
   ]
  },
  {
   "cell_type": "code",
   "execution_count": 25,
   "id": "735b5324-ea3e-4f1f-b5c4-ae2fc64f2584",
   "metadata": {},
   "outputs": [
    {
     "name": "stdout",
     "output_type": "stream",
     "text": [
      "a is less than 100\n"
     ]
    }
   ],
   "source": [
    "a = 10\n",
    "if a > 100:\n",
    "    print(\"a is greater than 100\")\n",
    "elif a < 100:\n",
    "    print('a is less than 100')\n",
    "else:\n",
    "    print('a is equal to 100')"
   ]
  },
  {
   "cell_type": "code",
   "execution_count": 26,
   "id": "f7c157d8-2aea-4ced-81db-7523fa90f80f",
   "metadata": {},
   "outputs": [
    {
     "name": "stdout",
     "output_type": "stream",
     "text": [
      "The number is huge\n"
     ]
    }
   ],
   "source": [
    "a = 1000000\n",
    "\n",
    "if a < 100:\n",
    "    print('a is less than 100')\n",
    "elif a > 2000:\n",
    "    print('The number is huge')\n",
    "elif a > 100:\n",
    "    print(\"a is greater than 100\")\n",
    "else:\n",
    "    print('a is equal to 100')"
   ]
  },
  {
   "cell_type": "code",
   "execution_count": 27,
   "id": "4cfadc64-a471-4caf-aafd-ad9df47098cc",
   "metadata": {},
   "outputs": [
    {
     "name": "stdout",
     "output_type": "stream",
     "text": [
      "Fail\n"
     ]
    }
   ],
   "source": [
    "score = 30\n",
    "if score >= 90:\n",
    "    print(\"grade A\")\n",
    "elif (80<=score < 90):\n",
    "    print(\"grade B\")\n",
    "elif (70<=score<80):\n",
    "    print(\"grade C\")\n",
    "elif (60<=score<70):\n",
    "    print(\"grade D\")\n",
    "elif (50<= score < 60):\n",
    "    print(\"grade E\")\n",
    "else:\n",
    "    print(\"Fail\")"
   ]
  },
  {
   "cell_type": "code",
   "execution_count": 28,
   "id": "36137edc-b2d6-416b-92ab-a2e5d6e87570",
   "metadata": {},
   "outputs": [
    {
     "name": "stdout",
     "output_type": "stream",
     "text": [
      "You are senior citizon\n"
     ]
    }
   ],
   "source": [
    "age = 80\n",
    "if age < 18:\n",
    "    print(\"You are minority\")\n",
    "elif (18 < age <= 65):\n",
    "    print(\"You are adult\")\n",
    "else:\n",
    "    print(\"You are senior citizon\")\n",
    "    "
   ]
  },
  {
   "cell_type": "code",
   "execution_count": 29,
   "id": "399a2fde-032d-4fae-a60a-b50f99475479",
   "metadata": {},
   "outputs": [
    {
     "name": "stdout",
     "output_type": "stream",
     "text": [
      "x is greater than 5 but y is less than 5\n"
     ]
    }
   ],
   "source": [
    "# nested if else >> you can have multiple if else inside if else\n",
    "x = 7\n",
    "y = 3\n",
    "if x > 5:\n",
    "    if y>5:\n",
    "        print(\"Both x and y is greater than 5\")\n",
    "    else:\n",
    "        print(\"x is greater than 5 but y is less than 5\")\n",
    "else:\n",
    "    print(\"x is not greater than 5\")"
   ]
  },
  {
   "cell_type": "code",
   "execution_count": 30,
   "id": "f94071e7-36d7-45e1-86c2-522150cec427",
   "metadata": {},
   "outputs": [
    {
     "name": "stdout",
     "output_type": "stream",
     "text": [
      "Welcome to vip section\n"
     ]
    }
   ],
   "source": [
    "is_vip = True\n",
    "age = 60\n",
    "if is_vip:\n",
    "    if age >= 18:\n",
    "        if age <65:\n",
    "            print(\"Welcome to vip section\")\n",
    "        else:\n",
    "            print(\"You are vip and very imp . you are eligible for senior citizon discount\")\n",
    "    else:\n",
    "        print(\"vip status is only for adults\")\n",
    "else:\n",
    "    print(\"You are not a vip customer and will be charged a regular price.\")"
   ]
  },
  {
   "cell_type": "code",
   "execution_count": 32,
   "id": "14807e01-6a46-4eca-a6c8-d14449d40325",
   "metadata": {},
   "outputs": [
    {
     "name": "stdin",
     "output_type": "stream",
     "text": [
      "Enter a no. : 100\n"
     ]
    },
    {
     "name": "stdout",
     "output_type": "stream",
     "text": [
      "The no. is  100 <class 'str'>\n"
     ]
    }
   ],
   "source": [
    "a = input(\"Enter a no. :\") # by default ,input treats everything as string\n",
    "print(\"The no. is \", a, type(a))"
   ]
  },
  {
   "cell_type": "code",
   "execution_count": 33,
   "id": "93f4df5f-3d7a-4a37-8730-d3193bf724d0",
   "metadata": {},
   "outputs": [
    {
     "data": {
      "text/plain": [
       "str"
      ]
     },
     "execution_count": 33,
     "metadata": {},
     "output_type": "execute_result"
    }
   ],
   "source": [
    "type(a)"
   ]
  },
  {
   "cell_type": "code",
   "execution_count": 34,
   "id": "2fe96eb8-c16f-411f-90ac-297a5ac6d252",
   "metadata": {},
   "outputs": [
    {
     "name": "stdin",
     "output_type": "stream",
     "text": [
      "Enter a no. : 3\n"
     ]
    },
    {
     "data": {
      "text/plain": [
       "3"
      ]
     },
     "execution_count": 34,
     "metadata": {},
     "output_type": "execute_result"
    }
   ],
   "source": [
    "a = int(input(\"Enter a no. :\"))\n",
    "a"
   ]
  },
  {
   "cell_type": "code",
   "execution_count": 37,
   "id": "64a926d1-fd74-456a-9896-a82441a7b0a5",
   "metadata": {},
   "outputs": [
    {
     "name": "stdin",
     "output_type": "stream",
     "text": [
      "Enter a no. : 800\n"
     ]
    },
    {
     "name": "stdout",
     "output_type": "stream",
     "text": [
      "The no. is greater than 100\n"
     ]
    }
   ],
   "source": [
    "a = int(input(\"Enter a no. :\"))\n",
    "if a >= 100:\n",
    "    print(\"The no. is greater than 100\")\n",
    "elif (0<=a<100):\n",
    "    print(\"The no. is greater than equal to 0 and less than 100\")\n",
    "else:\n",
    "    print(\"This is a negative no.\")"
   ]
  },
  {
   "cell_type": "code",
   "execution_count": 40,
   "id": "6adb8778-01fe-40bc-8fae-52e3b52ced69",
   "metadata": {},
   "outputs": [
    {
     "name": "stdin",
     "output_type": "stream",
     "text": [
      "Please enter your name :  Riya\n",
      "Please enter your email :  ggshjh@jkhjj.com\n",
      "Plese enter your password :  ghffygh\n"
     ]
    },
    {
     "name": "stdout",
     "output_type": "stream",
     "text": [
      "Login/Registration is successful\n"
     ]
    }
   ],
   "source": [
    "name = input(\"Please enter your name : \")\n",
    "email = input(\"Please enter your email : \")\n",
    "password = input(\"Plese enter your password : \")\n",
    "\n",
    "if name == \" \":\n",
    "    print(\"Please enter a valid name , cannot be empty\")\n",
    "else:\n",
    "    if \"@\" not in email:\n",
    "        print(\"Please enter a valid email\")\n",
    "    else:\n",
    "        if len(password) < 0:\n",
    "            print(\"No password entered , please provide a valid password\")\n",
    "        else:\n",
    "            print(\"Login/Registration is successful\")"
   ]
  },
  {
   "cell_type": "code",
   "execution_count": null,
   "id": "f6ad271c-5d7d-4391-af8e-fca4ca5bb295",
   "metadata": {},
   "outputs": [],
   "source": []
  }
 ],
 "metadata": {
  "kernelspec": {
   "display_name": "Python 3 (ipykernel)",
   "language": "python",
   "name": "python3"
  },
  "language_info": {
   "codemirror_mode": {
    "name": "ipython",
    "version": 3
   },
   "file_extension": ".py",
   "mimetype": "text/x-python",
   "name": "python",
   "nbconvert_exporter": "python",
   "pygments_lexer": "ipython3",
   "version": "3.10.13"
  }
 },
 "nbformat": 4,
 "nbformat_minor": 5
}
