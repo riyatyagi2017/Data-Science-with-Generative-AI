{
 "cells": [
  {
   "cell_type": "code",
   "execution_count": 2,
   "id": "42c473a8-845d-4ef8-ad24-683f23ab097b",
   "metadata": {},
   "outputs": [],
   "source": [
    "# Dictionary is  a data structure that stores data as key value pair\n",
    "# keys are unique and immutable.\n",
    "# Note : dictionaries are unordered, but from python 3.7 versions, dictionaries retain the order of insertion.\n",
    "# This means if you iterate over a dictionary , the item will be returned in the order they were added."
   ]
  },
  {
   "cell_type": "code",
   "execution_count": 3,
   "id": "8aa42366-bf92-4ef7-b990-6089ce662578",
   "metadata": {},
   "outputs": [
    {
     "data": {
      "text/plain": [
       "dict"
      ]
     },
     "execution_count": 3,
     "metadata": {},
     "output_type": "execute_result"
    }
   ],
   "source": [
    "d = {}\n",
    "type(d)"
   ]
  },
  {
   "cell_type": "code",
   "execution_count": 4,
   "id": "1eeaa301-38f7-4ae5-9ea3-f53fde237c18",
   "metadata": {},
   "outputs": [],
   "source": [
    "d = {\"name\":\"Ajay\",\"email\":\"aj@gmail.com\",\"contact\":1234}"
   ]
  },
  {
   "cell_type": "code",
   "execution_count": 5,
   "id": "e46b2d5b-2df2-4473-9d1d-5ed07addee4c",
   "metadata": {},
   "outputs": [
    {
     "data": {
      "text/plain": [
       "{'name': 'Ajay', 'email': 'aj@gmail.com', 'contact': 1234}"
      ]
     },
     "execution_count": 5,
     "metadata": {},
     "output_type": "execute_result"
    }
   ],
   "source": [
    "d"
   ]
  },
  {
   "cell_type": "code",
   "execution_count": 6,
   "id": "b5fabc45-e2ba-4a89-ac3d-be26f60c1f7f",
   "metadata": {},
   "outputs": [
    {
     "data": {
      "text/plain": [
       "dict"
      ]
     },
     "execution_count": 6,
     "metadata": {},
     "output_type": "execute_result"
    }
   ],
   "source": [
    "type(d)"
   ]
  },
  {
   "cell_type": "code",
   "execution_count": 7,
   "id": "d2cf6c87-0129-4ed2-9a82-74da5da0fd01",
   "metadata": {},
   "outputs": [
    {
     "data": {
      "text/plain": [
       "1"
      ]
     },
     "execution_count": 7,
     "metadata": {},
     "output_type": "execute_result"
    }
   ],
   "source": [
    "l = [1,2,3,4]\n",
    "l[0]"
   ]
  },
  {
   "cell_type": "code",
   "execution_count": 8,
   "id": "67acc26a-0e57-4b7c-b298-20927a074e25",
   "metadata": {},
   "outputs": [
    {
     "data": {
      "text/plain": [
       "'Ajay'"
      ]
     },
     "execution_count": 8,
     "metadata": {},
     "output_type": "execute_result"
    }
   ],
   "source": [
    "d['name']"
   ]
  },
  {
   "cell_type": "code",
   "execution_count": 9,
   "id": "53146740-7438-4248-86ef-48c2eee6df4c",
   "metadata": {},
   "outputs": [
    {
     "data": {
      "text/plain": [
       "'aj@gmail.com'"
      ]
     },
     "execution_count": 9,
     "metadata": {},
     "output_type": "execute_result"
    }
   ],
   "source": [
    "d['email']"
   ]
  },
  {
   "cell_type": "code",
   "execution_count": 10,
   "id": "cb5ffa75-2138-41b9-8f3b-dde72e14ea67",
   "metadata": {},
   "outputs": [
    {
     "data": {
      "text/plain": [
       "{'name': 'Ajay', 'email': 'aj@gmail.com', 'contact': 1234}"
      ]
     },
     "execution_count": 10,
     "metadata": {},
     "output_type": "execute_result"
    }
   ],
   "source": [
    "d"
   ]
  },
  {
   "cell_type": "code",
   "execution_count": 11,
   "id": "081982b0-8923-4d8c-bb35-84f672ee8718",
   "metadata": {},
   "outputs": [],
   "source": [
    "d['name'] = \"Bijay\""
   ]
  },
  {
   "cell_type": "code",
   "execution_count": 12,
   "id": "39bdb071-cc01-401a-9ff2-070b4567c843",
   "metadata": {},
   "outputs": [
    {
     "data": {
      "text/plain": [
       "{'name': 'Bijay', 'email': 'aj@gmail.com', 'contact': 1234}"
      ]
     },
     "execution_count": 12,
     "metadata": {},
     "output_type": "execute_result"
    }
   ],
   "source": [
    "d"
   ]
  },
  {
   "cell_type": "code",
   "execution_count": 13,
   "id": "d2c20ee0-1d21-4476-84b1-0a72c25b02b1",
   "metadata": {},
   "outputs": [],
   "source": [
    "d = {\"address\":\"26th cross, banglore\"}"
   ]
  },
  {
   "cell_type": "code",
   "execution_count": 14,
   "id": "b5af5818-6cf8-40ee-a634-059f91b8c6fa",
   "metadata": {},
   "outputs": [
    {
     "data": {
      "text/plain": [
       "'26th cross, banglore'"
      ]
     },
     "execution_count": 14,
     "metadata": {},
     "output_type": "execute_result"
    }
   ],
   "source": [
    "d['address']"
   ]
  },
  {
   "cell_type": "code",
   "execution_count": 15,
   "id": "ca067cb4-ba88-4255-b776-777c10a34c3f",
   "metadata": {},
   "outputs": [],
   "source": [
    "d = {\"key\":1}"
   ]
  },
  {
   "cell_type": "code",
   "execution_count": 16,
   "id": "1fb1c5fe-0b54-441c-ad56-9de7c25d1f01",
   "metadata": {},
   "outputs": [
    {
     "data": {
      "text/plain": [
       "1"
      ]
     },
     "execution_count": 16,
     "metadata": {},
     "output_type": "execute_result"
    }
   ],
   "source": [
    "d['key']"
   ]
  },
  {
   "cell_type": "code",
   "execution_count": 17,
   "id": "c72dcdf4-d678-4c7e-afac-ba9d1c730b68",
   "metadata": {},
   "outputs": [
    {
     "ename": "KeyError",
     "evalue": "1",
     "output_type": "error",
     "traceback": [
      "\u001b[0;31m---------------------------------------------------------------------------\u001b[0m",
      "\u001b[0;31mKeyError\u001b[0m                                  Traceback (most recent call last)",
      "Cell \u001b[0;32mIn[17], line 1\u001b[0m\n\u001b[0;32m----> 1\u001b[0m \u001b[43md\u001b[49m\u001b[43m[\u001b[49m\u001b[38;5;241;43m1\u001b[39;49m\u001b[43m]\u001b[49m \u001b[38;5;66;03m# you can only access value using key, vice versa is not possible.\u001b[39;00m\n",
      "\u001b[0;31mKeyError\u001b[0m: 1"
     ]
    }
   ],
   "source": [
    "d[1] # you can only access value using key, vice versa is not possible."
   ]
  },
  {
   "cell_type": "code",
   "execution_count": null,
   "id": "f38976f1-a0e4-40ad-82af-d54b2a9c3857",
   "metadata": {},
   "outputs": [],
   "source": [
    "# rules of defining keyd\n",
    "d = {1:\"abc\"}"
   ]
  },
  {
   "cell_type": "code",
   "execution_count": null,
   "id": "84bd9ca6-5cae-4537-a27b-ec981bd61230",
   "metadata": {},
   "outputs": [],
   "source": [
    "d"
   ]
  },
  {
   "cell_type": "code",
   "execution_count": null,
   "id": "9e9ca3d3-ddd2-4d68-aa91-31b2cfb7ed3a",
   "metadata": {},
   "outputs": [],
   "source": [
    "d[1]"
   ]
  },
  {
   "cell_type": "code",
   "execution_count": null,
   "id": "9655319b-f61a-4c02-9ed9-30ff47cd0897",
   "metadata": {},
   "outputs": [],
   "source": [
    "d = {1.2 : \"abc\"}"
   ]
  },
  {
   "cell_type": "code",
   "execution_count": null,
   "id": "3060d6b2-fca9-4363-b169-b78dc3469713",
   "metadata": {},
   "outputs": [],
   "source": [
    "# you can have integer and float as key"
   ]
  },
  {
   "cell_type": "code",
   "execution_count": null,
   "id": "b4879347-df11-4a4f-b090-9cbc844e5063",
   "metadata": {},
   "outputs": [],
   "source": [
    "d = {True:'abs'}# bolean value can also be key"
   ]
  },
  {
   "cell_type": "code",
   "execution_count": null,
   "id": "3e5067f1-cbe5-41dc-ba2d-d217629d7688",
   "metadata": {},
   "outputs": [],
   "source": [
    "d"
   ]
  },
  {
   "cell_type": "code",
   "execution_count": 18,
   "id": "6606860c-43ce-417c-a09e-f37be8664d11",
   "metadata": {},
   "outputs": [
    {
     "ename": "KeyError",
     "evalue": "True",
     "output_type": "error",
     "traceback": [
      "\u001b[0;31m---------------------------------------------------------------------------\u001b[0m",
      "\u001b[0;31mKeyError\u001b[0m                                  Traceback (most recent call last)",
      "Cell \u001b[0;32mIn[18], line 1\u001b[0m\n\u001b[0;32m----> 1\u001b[0m \u001b[43md\u001b[49m\u001b[43m[\u001b[49m\u001b[38;5;28;43;01mTrue\u001b[39;49;00m\u001b[43m]\u001b[49m\n",
      "\u001b[0;31mKeyError\u001b[0m: True"
     ]
    }
   ],
   "source": [
    "d[True]"
   ]
  },
  {
   "cell_type": "code",
   "execution_count": 19,
   "id": "02ef22c1-35bc-4ae7-92ee-f2fcfc7786ac",
   "metadata": {},
   "outputs": [
    {
     "ename": "SyntaxError",
     "evalue": "incomplete input (106855096.py, line 1)",
     "output_type": "error",
     "traceback": [
      "\u001b[0;36m  Cell \u001b[0;32mIn[19], line 1\u001b[0;36m\u001b[0m\n\u001b[0;31m    d = {# : 123} # you can not have # has key\u001b[0m\n\u001b[0m                                              ^\u001b[0m\n\u001b[0;31mSyntaxError\u001b[0m\u001b[0;31m:\u001b[0m incomplete input\n"
     ]
    }
   ],
   "source": [
    "d = {# : 123} # you can not have # has key"
   ]
  },
  {
   "cell_type": "code",
   "execution_count": 20,
   "id": "ca836f73-45dd-4935-8827-ecbbfd5a4fa5",
   "metadata": {},
   "outputs": [
    {
     "ename": "SyntaxError",
     "evalue": "invalid syntax (2607321697.py, line 1)",
     "output_type": "error",
     "traceback": [
      "\u001b[0;36m  Cell \u001b[0;32mIn[20], line 1\u001b[0;36m\u001b[0m\n\u001b[0;31m    d = {@:\"Ram\"}\u001b[0m\n\u001b[0m         ^\u001b[0m\n\u001b[0;31mSyntaxError\u001b[0m\u001b[0;31m:\u001b[0m invalid syntax\n"
     ]
    }
   ],
   "source": [
    "d = {@:\"Ram\"}"
   ]
  },
  {
   "cell_type": "code",
   "execution_count": 21,
   "id": "5cacbeea-a7d2-43d5-8656-a8ec6108e82a",
   "metadata": {},
   "outputs": [
    {
     "ename": "TypeError",
     "evalue": "unhashable type: 'list'",
     "output_type": "error",
     "traceback": [
      "\u001b[0;31m---------------------------------------------------------------------------\u001b[0m",
      "\u001b[0;31mTypeError\u001b[0m                                 Traceback (most recent call last)",
      "Cell \u001b[0;32mIn[21], line 1\u001b[0m\n\u001b[0;32m----> 1\u001b[0m d \u001b[38;5;241m=\u001b[39m {[\u001b[38;5;241m1\u001b[39m,\u001b[38;5;241m2\u001b[39m,\u001b[38;5;241m3\u001b[39m]:\u001b[38;5;124m\"\u001b[39m\u001b[38;5;124mshyam\u001b[39m\u001b[38;5;124m\"\u001b[39m}\n",
      "\u001b[0;31mTypeError\u001b[0m: unhashable type: 'list'"
     ]
    }
   ],
   "source": [
    "d = {[1,2,3]:\"shyam\"}"
   ]
  },
  {
   "cell_type": "code",
   "execution_count": 22,
   "id": "36990315-8665-445b-850c-a99887187020",
   "metadata": {},
   "outputs": [],
   "source": [
    "d = {(1,2,3):\"Ram\"}"
   ]
  },
  {
   "cell_type": "code",
   "execution_count": 23,
   "id": "1b3c5b9e-8fb2-47e5-a747-2ae511a55c97",
   "metadata": {},
   "outputs": [
    {
     "data": {
      "text/plain": [
       "{(1, 2, 3): 'Ram'}"
      ]
     },
     "execution_count": 23,
     "metadata": {},
     "output_type": "execute_result"
    }
   ],
   "source": [
    "d"
   ]
  },
  {
   "cell_type": "code",
   "execution_count": 24,
   "id": "8800e9a9-6934-4ea0-8e8c-fa91a9e66a0d",
   "metadata": {},
   "outputs": [
    {
     "data": {
      "text/plain": [
       "dict"
      ]
     },
     "execution_count": 24,
     "metadata": {},
     "output_type": "execute_result"
    }
   ],
   "source": [
    "type(d)"
   ]
  },
  {
   "cell_type": "code",
   "execution_count": 25,
   "id": "53752c41-c615-4695-b66d-b2d69cc177c7",
   "metadata": {},
   "outputs": [
    {
     "ename": "TypeError",
     "evalue": "unhashable type: 'set'",
     "output_type": "error",
     "traceback": [
      "\u001b[0;31m---------------------------------------------------------------------------\u001b[0m",
      "\u001b[0;31mTypeError\u001b[0m                                 Traceback (most recent call last)",
      "Cell \u001b[0;32mIn[25], line 1\u001b[0m\n\u001b[0;32m----> 1\u001b[0m d \u001b[38;5;241m=\u001b[39m {{\u001b[38;5;241m1\u001b[39m,\u001b[38;5;241m2\u001b[39m,\u001b[38;5;241m3\u001b[39m}:\u001b[38;5;124m\"\u001b[39m\u001b[38;5;124mAjay\u001b[39m\u001b[38;5;124m\"\u001b[39m}\n",
      "\u001b[0;31mTypeError\u001b[0m: unhashable type: 'set'"
     ]
    }
   ],
   "source": [
    "d = {{1,2,3}:\"Ajay\"}"
   ]
  },
  {
   "cell_type": "code",
   "execution_count": 26,
   "id": "fb16c6a0-b346-43b2-80d2-0568bf78438c",
   "metadata": {},
   "outputs": [
    {
     "ename": "TypeError",
     "evalue": "unhashable type: 'dict'",
     "output_type": "error",
     "traceback": [
      "\u001b[0;31m---------------------------------------------------------------------------\u001b[0m",
      "\u001b[0;31mTypeError\u001b[0m                                 Traceback (most recent call last)",
      "Cell \u001b[0;32mIn[26], line 1\u001b[0m\n\u001b[0;32m----> 1\u001b[0m d \u001b[38;5;241m=\u001b[39m {{\u001b[38;5;124m\"\u001b[39m\u001b[38;5;124mkey\u001b[39m\u001b[38;5;124m\"\u001b[39m:\u001b[38;5;241m123\u001b[39m}:\u001b[38;5;124m\"\u001b[39m\u001b[38;5;124majay\u001b[39m\u001b[38;5;124m\"\u001b[39m}\n",
      "\u001b[0;31mTypeError\u001b[0m: unhashable type: 'dict'"
     ]
    }
   ],
   "source": [
    "d = {{\"key\":123}:\"ajay\"}"
   ]
  },
  {
   "cell_type": "code",
   "execution_count": 27,
   "id": "88f996fb-e7b0-4b9d-a0c2-9f03683b6f92",
   "metadata": {},
   "outputs": [],
   "source": [
    "# only string, numbers and boolean can be used as key of the dictionary"
   ]
  },
  {
   "cell_type": "code",
   "execution_count": 28,
   "id": "f406d1a7-4e85-41ab-a3b5-84fd4da6524b",
   "metadata": {},
   "outputs": [],
   "source": [
    "d = {\"name\":\"Ajay\",\"email\":\"aj@gmail.com\",\"contact\":1234,\"name\":\"Vijay\"}\n",
    "# always the last key : value will be used"
   ]
  },
  {
   "cell_type": "code",
   "execution_count": 29,
   "id": "233d895d-d9ec-4bce-87d7-9dba467b8c81",
   "metadata": {},
   "outputs": [
    {
     "data": {
      "text/plain": [
       "{'name': 'Vijay', 'email': 'aj@gmail.com', 'contact': 1234}"
      ]
     },
     "execution_count": 29,
     "metadata": {},
     "output_type": "execute_result"
    }
   ],
   "source": [
    "d"
   ]
  },
  {
   "cell_type": "code",
   "execution_count": 30,
   "id": "89b5d37c-16a5-4955-b12d-20b53c398f70",
   "metadata": {},
   "outputs": [],
   "source": [
    "d['name'] = 'Sanjay'"
   ]
  },
  {
   "cell_type": "code",
   "execution_count": 31,
   "id": "51e2327d-8a38-41b6-85d1-b69248ecf00e",
   "metadata": {},
   "outputs": [
    {
     "data": {
      "text/plain": [
       "{'name': 'Sanjay', 'email': 'aj@gmail.com', 'contact': 1234}"
      ]
     },
     "execution_count": 31,
     "metadata": {},
     "output_type": "execute_result"
    }
   ],
   "source": [
    "d"
   ]
  },
  {
   "cell_type": "code",
   "execution_count": 32,
   "id": "2fdc7f61-5cfe-48a1-8cb8-fa6be557b418",
   "metadata": {},
   "outputs": [],
   "source": [
    "d = {\"name\":[\"Sanjay\",\"Ajay\",1,2],\"email\":\"aj@gmail.com\",\"contact\":(1234,678)}"
   ]
  },
  {
   "cell_type": "code",
   "execution_count": 33,
   "id": "298b6933-880b-4dea-bfeb-c90e76abb56b",
   "metadata": {},
   "outputs": [
    {
     "data": {
      "text/plain": [
       "{'name': ['Sanjay', 'Ajay', 1, 2],\n",
       " 'email': 'aj@gmail.com',\n",
       " 'contact': (1234, 678)}"
      ]
     },
     "execution_count": 33,
     "metadata": {},
     "output_type": "execute_result"
    }
   ],
   "source": [
    "d"
   ]
  },
  {
   "cell_type": "code",
   "execution_count": 34,
   "id": "42669aa1-19d3-4e4f-840a-a52efc0f0e6f",
   "metadata": {},
   "outputs": [
    {
     "data": {
      "text/plain": [
       "'Ajay'"
      ]
     },
     "execution_count": 34,
     "metadata": {},
     "output_type": "execute_result"
    }
   ],
   "source": [
    "d['name'][1]"
   ]
  },
  {
   "cell_type": "code",
   "execution_count": 35,
   "id": "51406b86-e4c9-470c-8888-cff58efe6bf4",
   "metadata": {},
   "outputs": [],
   "source": [
    "d[\"address\"] = \"Banglore\" # to create a new key value pair"
   ]
  },
  {
   "cell_type": "code",
   "execution_count": 36,
   "id": "343b6489-5342-40f1-9420-7fb11b9e48f5",
   "metadata": {},
   "outputs": [
    {
     "data": {
      "text/plain": [
       "{'name': ['Sanjay', 'Ajay', 1, 2],\n",
       " 'email': 'aj@gmail.com',\n",
       " 'contact': (1234, 678),\n",
       " 'address': 'Banglore'}"
      ]
     },
     "execution_count": 36,
     "metadata": {},
     "output_type": "execute_result"
    }
   ],
   "source": [
    "d"
   ]
  },
  {
   "cell_type": "code",
   "execution_count": 37,
   "id": "f783171e-dada-4770-b246-e4dba63d4ba9",
   "metadata": {},
   "outputs": [],
   "source": [
    "del d[\"address\"] # to delete a key value pair"
   ]
  },
  {
   "cell_type": "code",
   "execution_count": 38,
   "id": "ab1c3b27-c729-4168-9870-097652719f02",
   "metadata": {},
   "outputs": [
    {
     "data": {
      "text/plain": [
       "{'name': ['Sanjay', 'Ajay', 1, 2],\n",
       " 'email': 'aj@gmail.com',\n",
       " 'contact': (1234, 678)}"
      ]
     },
     "execution_count": 38,
     "metadata": {},
     "output_type": "execute_result"
    }
   ],
   "source": [
    "d"
   ]
  },
  {
   "cell_type": "code",
   "execution_count": 39,
   "id": "e6db99d9-8836-4c68-8a96-c69c7ee7c4a0",
   "metadata": {},
   "outputs": [],
   "source": [
    "del d"
   ]
  },
  {
   "cell_type": "code",
   "execution_count": 40,
   "id": "9b0e70c1-23dd-409e-9239-2f9ad5a3f036",
   "metadata": {},
   "outputs": [
    {
     "ename": "NameError",
     "evalue": "name 'd' is not defined",
     "output_type": "error",
     "traceback": [
      "\u001b[0;31m---------------------------------------------------------------------------\u001b[0m",
      "\u001b[0;31mNameError\u001b[0m                                 Traceback (most recent call last)",
      "Cell \u001b[0;32mIn[40], line 1\u001b[0m\n\u001b[0;32m----> 1\u001b[0m \u001b[43md\u001b[49m\n",
      "\u001b[0;31mNameError\u001b[0m: name 'd' is not defined"
     ]
    }
   ],
   "source": [
    "d"
   ]
  },
  {
   "cell_type": "code",
   "execution_count": 41,
   "id": "d52d4c6b-06a0-4bc0-b42e-6d386a59d749",
   "metadata": {},
   "outputs": [],
   "source": [
    "# del d deletes the whole dictionary"
   ]
  },
  {
   "cell_type": "code",
   "execution_count": 42,
   "id": "57b2647b-81a1-43bb-9f88-dd3bb9d68929",
   "metadata": {},
   "outputs": [
    {
     "data": {
      "text/plain": [
       "{'name': ['Sanjay', 'Ajay', 1, 2],\n",
       " 'email': 'aj@gmail.com',\n",
       " 'contact': (1234, 678)}"
      ]
     },
     "execution_count": 42,
     "metadata": {},
     "output_type": "execute_result"
    }
   ],
   "source": [
    "d = {\"name\":[\"Sanjay\",\"Ajay\",1,2],\"email\":\"aj@gmail.com\",\"contact\":(1234,678)}\n",
    "d"
   ]
  },
  {
   "cell_type": "code",
   "execution_count": 43,
   "id": "4ab3dab0-668e-4031-b945-b9b7a00b6371",
   "metadata": {},
   "outputs": [],
   "source": [
    "d.clear() # returns empty dictionary"
   ]
  },
  {
   "cell_type": "code",
   "execution_count": 44,
   "id": "342aabc2-5080-4e17-9098-68e2192df424",
   "metadata": {},
   "outputs": [
    {
     "data": {
      "text/plain": [
       "{}"
      ]
     },
     "execution_count": 44,
     "metadata": {},
     "output_type": "execute_result"
    }
   ],
   "source": [
    "d"
   ]
  },
  {
   "cell_type": "code",
   "execution_count": 45,
   "id": "b1dbebc5-5d60-461c-bba6-1fa5aa0af090",
   "metadata": {},
   "outputs": [
    {
     "data": {
      "text/plain": [
       "{'name': ['Sanjay', 'Ajay', 1, 2],\n",
       " 'email': 'aj@gmail.com',\n",
       " 'contact': (1234, 678)}"
      ]
     },
     "execution_count": 45,
     "metadata": {},
     "output_type": "execute_result"
    }
   ],
   "source": [
    "d = {\"name\":[\"Sanjay\",\"Ajay\",1,2],\"email\":\"aj@gmail.com\",\"contact\":(1234,678)}\n",
    "d"
   ]
  },
  {
   "cell_type": "code",
   "execution_count": 46,
   "id": "e628acba-3857-4490-b80a-1444b4f0f44e",
   "metadata": {},
   "outputs": [
    {
     "data": {
      "text/plain": [
       "3"
      ]
     },
     "execution_count": 46,
     "metadata": {},
     "output_type": "execute_result"
    }
   ],
   "source": [
    "len(d)"
   ]
  },
  {
   "cell_type": "code",
   "execution_count": 47,
   "id": "317e2fd4-41ab-411e-9dd6-19edfdcc9371",
   "metadata": {},
   "outputs": [
    {
     "data": {
      "text/plain": [
       "dict_keys(['name', 'email', 'contact'])"
      ]
     },
     "execution_count": 47,
     "metadata": {},
     "output_type": "execute_result"
    }
   ],
   "source": [
    "d.keys()"
   ]
  },
  {
   "cell_type": "code",
   "execution_count": 48,
   "id": "289b1d3f-2732-4010-82eb-e2fc1c43bc28",
   "metadata": {},
   "outputs": [
    {
     "data": {
      "text/plain": [
       "dict_values([['Sanjay', 'Ajay', 1, 2], 'aj@gmail.com', (1234, 678)])"
      ]
     },
     "execution_count": 48,
     "metadata": {},
     "output_type": "execute_result"
    }
   ],
   "source": [
    "d.values()"
   ]
  },
  {
   "cell_type": "code",
   "execution_count": 49,
   "id": "15b89c3b-e4f5-469d-8463-4bf1d8415636",
   "metadata": {},
   "outputs": [],
   "source": [
    "d1 = d.copy()"
   ]
  },
  {
   "cell_type": "code",
   "execution_count": 50,
   "id": "e19fe1a8-aff7-4805-a460-f22e1523bf0a",
   "metadata": {},
   "outputs": [
    {
     "data": {
      "text/plain": [
       "{'name': ['Sanjay', 'Ajay', 1, 2],\n",
       " 'email': 'aj@gmail.com',\n",
       " 'contact': (1234, 678)}"
      ]
     },
     "execution_count": 50,
     "metadata": {},
     "output_type": "execute_result"
    }
   ],
   "source": [
    "d1"
   ]
  },
  {
   "cell_type": "code",
   "execution_count": 51,
   "id": "1e495b1d-339a-452b-b523-09a6d00e1850",
   "metadata": {},
   "outputs": [],
   "source": [
    "del d1"
   ]
  },
  {
   "cell_type": "code",
   "execution_count": 52,
   "id": "e1f229e6-9097-40af-af39-09e74804c8c9",
   "metadata": {},
   "outputs": [
    {
     "data": {
      "text/plain": [
       "{'name': ['Sanjay', 'Ajay', 1, 2],\n",
       " 'email': 'aj@gmail.com',\n",
       " 'contact': (1234, 678)}"
      ]
     },
     "execution_count": 52,
     "metadata": {},
     "output_type": "execute_result"
    }
   ],
   "source": [
    "d"
   ]
  },
  {
   "cell_type": "code",
   "execution_count": 53,
   "id": "b12c8331-19fb-4165-9dc2-9c363efbd570",
   "metadata": {},
   "outputs": [
    {
     "data": {
      "text/plain": [
       "(1234, 678)"
      ]
     },
     "execution_count": 53,
     "metadata": {},
     "output_type": "execute_result"
    }
   ],
   "source": [
    "d.pop('contact')"
   ]
  },
  {
   "cell_type": "code",
   "execution_count": 54,
   "id": "ed2eeb2f-d262-478c-8c29-c0af7023fd4e",
   "metadata": {},
   "outputs": [
    {
     "data": {
      "text/plain": [
       "{'name': ['Sanjay', 'Ajay', 1, 2], 'email': 'aj@gmail.com'}"
      ]
     },
     "execution_count": 54,
     "metadata": {},
     "output_type": "execute_result"
    }
   ],
   "source": [
    "d"
   ]
  },
  {
   "cell_type": "code",
   "execution_count": 55,
   "id": "8e879b67-1c29-4a8c-bb2d-ea7c8e6397a6",
   "metadata": {},
   "outputs": [
    {
     "data": {
      "text/plain": [
       "{'course': 'ds'}"
      ]
     },
     "execution_count": 55,
     "metadata": {},
     "output_type": "execute_result"
    }
   ],
   "source": [
    "d1 = {\"course\":\"ds\"}\n",
    "d1"
   ]
  },
  {
   "cell_type": "code",
   "execution_count": 56,
   "id": "ef313b2d-e12b-4d23-b2d8-e71280f3b7bb",
   "metadata": {},
   "outputs": [],
   "source": [
    "d.update(d1)"
   ]
  },
  {
   "cell_type": "code",
   "execution_count": 57,
   "id": "d0fb56aa-9f1c-4081-892a-72a2f4100588",
   "metadata": {},
   "outputs": [
    {
     "data": {
      "text/plain": [
       "{'name': ['Sanjay', 'Ajay', 1, 2], 'email': 'aj@gmail.com', 'course': 'ds'}"
      ]
     },
     "execution_count": 57,
     "metadata": {},
     "output_type": "execute_result"
    }
   ],
   "source": [
    "d"
   ]
  },
  {
   "cell_type": "code",
   "execution_count": 58,
   "id": "39f941b7-dce8-4f4a-83e5-36bf6e7dd1e2",
   "metadata": {},
   "outputs": [
    {
     "data": {
      "text/plain": [
       "['Sanjay', 'Ajay', 1, 2]"
      ]
     },
     "execution_count": 58,
     "metadata": {},
     "output_type": "execute_result"
    }
   ],
   "source": [
    "d[\"name\"]"
   ]
  },
  {
   "cell_type": "code",
   "execution_count": 59,
   "id": "cdcc032b-8027-4460-a8f8-6ff600154674",
   "metadata": {},
   "outputs": [
    {
     "data": {
      "text/plain": [
       "['Sanjay', 'Ajay', 1, 2]"
      ]
     },
     "execution_count": 59,
     "metadata": {},
     "output_type": "execute_result"
    }
   ],
   "source": [
    "d.get(\"name\")"
   ]
  },
  {
   "cell_type": "code",
   "execution_count": 60,
   "id": "1171383f-1b17-45a3-9bf4-5f297fe1dad5",
   "metadata": {},
   "outputs": [
    {
     "data": {
      "text/plain": [
       "{'name': ['Sanjay', 'Ajay', 1, 2], 'email': 'aj@gmail.com', 'course': 'ds'}"
      ]
     },
     "execution_count": 60,
     "metadata": {},
     "output_type": "execute_result"
    }
   ],
   "source": [
    "d"
   ]
  },
  {
   "cell_type": "code",
   "execution_count": 61,
   "id": "821261fc-d179-4608-89b9-6514dbad2ef4",
   "metadata": {},
   "outputs": [
    {
     "data": {
      "text/plain": [
       "'ds'"
      ]
     },
     "execution_count": 61,
     "metadata": {},
     "output_type": "execute_result"
    }
   ],
   "source": [
    "d[\"course\"]"
   ]
  },
  {
   "cell_type": "code",
   "execution_count": 62,
   "id": "768f6938-3eb6-479e-9eb3-36fe43e911dd",
   "metadata": {},
   "outputs": [
    {
     "data": {
      "text/plain": [
       "3"
      ]
     },
     "execution_count": 62,
     "metadata": {},
     "output_type": "execute_result"
    }
   ],
   "source": [
    "len(d)"
   ]
  },
  {
   "cell_type": "code",
   "execution_count": 63,
   "id": "a52804bc-bc20-49df-a7a1-f66f20c41872",
   "metadata": {},
   "outputs": [
    {
     "data": {
      "text/plain": [
       "{1: ('a', 'b', 'c'), 2: ('a', 'b', 'c'), 3: ('a', 'b', 'c')}"
      ]
     },
     "execution_count": 63,
     "metadata": {},
     "output_type": "execute_result"
    }
   ],
   "source": [
    "# from keys\n",
    "d.fromkeys((1,2,3),('a','b','c'))"
   ]
  },
  {
   "cell_type": "code",
   "execution_count": 64,
   "id": "3928f1c2-8e23-4370-9d13-6045b4203eda",
   "metadata": {},
   "outputs": [
    {
     "name": "stdout",
     "output_type": "stream",
     "text": [
      "('Arun', 80)\n",
      "('Ajay', 95)\n",
      "('Bijay', 100)\n"
     ]
    }
   ],
   "source": [
    "# dictionary comprehension\n",
    "\n",
    "# zip function\n",
    "students = [\"Arun\",\"Ajay\",\"Bijay\"]\n",
    "marks = [80,95,100]\n",
    "\n",
    "for i in zip(students,marks):\n",
    "    print(i)"
   ]
  },
  {
   "cell_type": "code",
   "execution_count": 65,
   "id": "3bfac689-6ca0-49d1-86b1-3ed0b2ae53d4",
   "metadata": {},
   "outputs": [
    {
     "name": "stdout",
     "output_type": "stream",
     "text": [
      "{'Arun': 80, 'Ajay': 95, 'Bijay': 100}\n"
     ]
    }
   ],
   "source": [
    "# store the above informtion in key value pair i.e dictionary\n",
    "students = [\"Arun\",\"Ajay\",\"Bijay\"]\n",
    "marks = [80,95,100]\n",
    "students_marks = {}\n",
    "\n",
    "for student,mark in zip(students,marks):\n",
    "    students_marks[student] = mark\n",
    "print(students_marks)"
   ]
  },
  {
   "cell_type": "code",
   "execution_count": 66,
   "id": "425a2d10-e6a4-4c98-b346-e80a9e7cc509",
   "metadata": {},
   "outputs": [
    {
     "data": {
      "text/plain": [
       "{'Arun': 80, 'Ajay': 95, 'Bijay': 100}"
      ]
     },
     "execution_count": 66,
     "metadata": {},
     "output_type": "execute_result"
    }
   ],
   "source": [
    "#using dictionary comprehension method\n",
    "students = [\"Arun\",\"Ajay\",\"Bijay\"]\n",
    "marks = [80,95,100]\n",
    "{student:mark for student,mark in zip(students,marks)}"
   ]
  },
  {
   "cell_type": "code",
   "execution_count": 67,
   "id": "5f29dc89-5c01-4bad-97ff-c7df59ecda6d",
   "metadata": {},
   "outputs": [],
   "source": [
    "# use case\n",
    "user_id = [1,2,3]\n",
    "user_name = [\"a21\",\"a22\",\"a23\"]"
   ]
  },
  {
   "cell_type": "code",
   "execution_count": 68,
   "id": "de20fec7-a2a3-4c42-bcfb-b44ed2be2015",
   "metadata": {},
   "outputs": [
    {
     "data": {
      "text/plain": [
       "[1, 2, 3]"
      ]
     },
     "execution_count": 68,
     "metadata": {},
     "output_type": "execute_result"
    }
   ],
   "source": [
    "user_id"
   ]
  },
  {
   "cell_type": "code",
   "execution_count": 69,
   "id": "94be8440-ba31-42cd-a204-0a3f3b67b446",
   "metadata": {},
   "outputs": [
    {
     "data": {
      "text/plain": [
       "['a21', 'a22', 'a23']"
      ]
     },
     "execution_count": 69,
     "metadata": {},
     "output_type": "execute_result"
    }
   ],
   "source": [
    "user_name"
   ]
  },
  {
   "cell_type": "code",
   "execution_count": 70,
   "id": "59976afe-9ac2-44cd-99af-637e59f8d5b1",
   "metadata": {},
   "outputs": [
    {
     "data": {
      "text/plain": [
       "{1: 'a21', 2: 'a22', 3: 'a23'}"
      ]
     },
     "execution_count": 70,
     "metadata": {},
     "output_type": "execute_result"
    }
   ],
   "source": [
    "{u_id:u_name for u_id, u_name in zip(user_id,user_name)}"
   ]
  },
  {
   "cell_type": "code",
   "execution_count": 71,
   "id": "73a97a53-7571-480c-8e0b-a5e6605964d5",
   "metadata": {},
   "outputs": [],
   "source": [
    "employee_records = {\n",
    "    'E001': {'name':'John Doe','department':'Engineering','salary':75000},\n",
    "    'E002': {'name':'Jane Smith','department':'Marketing','salary':65000},\n",
    "    'E003': {'name':'David Lee','department':'Finance','salary':80000}  \n",
    "}"
   ]
  },
  {
   "cell_type": "code",
   "execution_count": 72,
   "id": "08fbf1c5-4a69-4f9f-8189-fdaa06f0b47e",
   "metadata": {},
   "outputs": [
    {
     "data": {
      "text/plain": [
       "{'E001': {'name': 'John Doe', 'department': 'Engineering', 'salary': 75000},\n",
       " 'E002': {'name': 'Jane Smith', 'department': 'Marketing', 'salary': 65000},\n",
       " 'E003': {'name': 'David Lee', 'department': 'Finance', 'salary': 80000}}"
      ]
     },
     "execution_count": 72,
     "metadata": {},
     "output_type": "execute_result"
    }
   ],
   "source": [
    "employee_records"
   ]
  },
  {
   "cell_type": "code",
   "execution_count": 73,
   "id": "075fe326-20a8-4bba-8cfa-29a5fc577025",
   "metadata": {},
   "outputs": [
    {
     "data": {
      "text/plain": [
       "dict"
      ]
     },
     "execution_count": 73,
     "metadata": {},
     "output_type": "execute_result"
    }
   ],
   "source": [
    "type(employee_records)"
   ]
  },
  {
   "cell_type": "code",
   "execution_count": 74,
   "id": "e2be7c41-08ef-438b-8d5a-f530f16378ad",
   "metadata": {},
   "outputs": [
    {
     "data": {
      "text/plain": [
       "{'name': 'John Doe', 'department': 'Engineering', 'salary': 75000}"
      ]
     },
     "execution_count": 74,
     "metadata": {},
     "output_type": "execute_result"
    }
   ],
   "source": [
    "employee_records.get('E001')"
   ]
  },
  {
   "cell_type": "code",
   "execution_count": 75,
   "id": "b5dc510b-c5c5-43ef-b382-40a074a1993f",
   "metadata": {},
   "outputs": [
    {
     "data": {
      "text/plain": [
       "'John Doe'"
      ]
     },
     "execution_count": 75,
     "metadata": {},
     "output_type": "execute_result"
    }
   ],
   "source": [
    "employee_records['E001']['name']"
   ]
  },
  {
   "cell_type": "code",
   "execution_count": 77,
   "id": "47ab8176-397a-4bbc-befc-aac3d80fac4f",
   "metadata": {},
   "outputs": [],
   "source": [
    "restaurant_menu = {\n",
    "    'Dish1':{'name':'Pasta Carbonara','price':15.99,'description':'Creamy Pasta'},\n",
    "    'Dish2':{'name':'Chickenn Caesar Salad','price':12.50,'description':'Grilled Chcken'},\n",
    "    'Dish3':{'name':'Pasta Carbonara','price':14.00,'description':'topped with tomato'}\n",
    "    \n",
    "}"
   ]
  },
  {
   "cell_type": "code",
   "execution_count": 78,
   "id": "443ed383-63d3-46f3-a1ca-c7919f64f1c8",
   "metadata": {},
   "outputs": [
    {
     "data": {
      "text/plain": [
       "{'name': 'Pasta Carbonara', 'price': 15.99, 'description': 'Creamy Pasta'}"
      ]
     },
     "execution_count": 78,
     "metadata": {},
     "output_type": "execute_result"
    }
   ],
   "source": [
    "restaurant_menu[\"Dish1\"]"
   ]
  },
  {
   "cell_type": "code",
   "execution_count": 79,
   "id": "420207d4-d729-4ebb-bab3-578d03ec4947",
   "metadata": {},
   "outputs": [
    {
     "data": {
      "text/plain": [
       "dict_keys(['Dish1', 'Dish2', 'Dish3'])"
      ]
     },
     "execution_count": 79,
     "metadata": {},
     "output_type": "execute_result"
    }
   ],
   "source": [
    "# dictionary view objects\n",
    "restaurant_menu.keys()"
   ]
  },
  {
   "cell_type": "code",
   "execution_count": 80,
   "id": "7000f4a0-3214-4f6b-83b8-7ace07a26027",
   "metadata": {},
   "outputs": [
    {
     "data": {
      "text/plain": [
       "dict_values([{'name': 'Pasta Carbonara', 'price': 15.99, 'description': 'Creamy Pasta'}, {'name': 'Chickenn Caesar Salad', 'price': 12.5, 'description': 'Grilled Chcken'}, {'name': 'Pasta Carbonara', 'price': 14.0, 'description': 'topped with tomato'}])"
      ]
     },
     "execution_count": 80,
     "metadata": {},
     "output_type": "execute_result"
    }
   ],
   "source": [
    "restaurant_menu.values()"
   ]
  },
  {
   "cell_type": "code",
   "execution_count": 81,
   "id": "f2e7fa2d-8c64-4740-96e7-f560dff69099",
   "metadata": {},
   "outputs": [
    {
     "data": {
      "text/plain": [
       "dict_items([('Dish1', {'name': 'Pasta Carbonara', 'price': 15.99, 'description': 'Creamy Pasta'}), ('Dish2', {'name': 'Chickenn Caesar Salad', 'price': 12.5, 'description': 'Grilled Chcken'}), ('Dish3', {'name': 'Pasta Carbonara', 'price': 14.0, 'description': 'topped with tomato'})])"
      ]
     },
     "execution_count": 81,
     "metadata": {},
     "output_type": "execute_result"
    }
   ],
   "source": [
    "restaurant_menu.items()"
   ]
  },
  {
   "cell_type": "code",
   "execution_count": 82,
   "id": "ab02420a-f5bb-4367-b1e9-a316bcf5f13e",
   "metadata": {},
   "outputs": [
    {
     "name": "stdout",
     "output_type": "stream",
     "text": [
      "Dish1 {'name': 'Pasta Carbonara', 'price': 15.99, 'description': 'Creamy Pasta'}\n",
      "Dish2 {'name': 'Chickenn Caesar Salad', 'price': 12.5, 'description': 'Grilled Chcken'}\n",
      "Dish3 {'name': 'Pasta Carbonara', 'price': 14.0, 'description': 'topped with tomato'}\n"
     ]
    }
   ],
   "source": [
    "for key, value in restaurant_menu.items():# iterate both key and value\n",
    "    print(key,value)"
   ]
  },
  {
   "cell_type": "code",
   "execution_count": 83,
   "id": "ddaf1fe3-fa9a-411f-9312-3438a61dacfa",
   "metadata": {},
   "outputs": [
    {
     "name": "stdout",
     "output_type": "stream",
     "text": [
      "Dish1\n",
      "Dish2\n",
      "Dish3\n"
     ]
    }
   ],
   "source": [
    "#iterate over only keys\n",
    "for key in restaurant_menu.keys():\n",
    "    print(key)"
   ]
  },
  {
   "cell_type": "code",
   "execution_count": 84,
   "id": "7cfe6fda-e807-489f-9b35-e01058a1c02a",
   "metadata": {},
   "outputs": [
    {
     "name": "stdout",
     "output_type": "stream",
     "text": [
      "{'name': 'Pasta Carbonara', 'price': 15.99, 'description': 'Creamy Pasta'}\n",
      "{'name': 'Chickenn Caesar Salad', 'price': 12.5, 'description': 'Grilled Chcken'}\n",
      "{'name': 'Pasta Carbonara', 'price': 14.0, 'description': 'topped with tomato'}\n"
     ]
    }
   ],
   "source": [
    "#iterate over only values\n",
    "for value in restaurant_menu.values():\n",
    "    print(value)"
   ]
  },
  {
   "cell_type": "code",
   "execution_count": null,
   "id": "f20d8fa4-84df-4f05-9ec3-fc0bdead261a",
   "metadata": {},
   "outputs": [],
   "source": []
  }
 ],
 "metadata": {
  "kernelspec": {
   "display_name": "Python 3 (ipykernel)",
   "language": "python",
   "name": "python3"
  },
  "language_info": {
   "codemirror_mode": {
    "name": "ipython",
    "version": 3
   },
   "file_extension": ".py",
   "mimetype": "text/x-python",
   "name": "python",
   "nbconvert_exporter": "python",
   "pygments_lexer": "ipython3",
   "version": "3.10.13"
  }
 },
 "nbformat": 4,
 "nbformat_minor": 5
}
