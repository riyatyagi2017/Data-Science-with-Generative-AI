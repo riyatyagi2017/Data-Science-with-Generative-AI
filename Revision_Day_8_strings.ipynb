{
 "cells": [
  {
   "cell_type": "code",
   "execution_count": 1,
   "id": "4850fa7e-365d-495f-96bb-395676c406bb",
   "metadata": {},
   "outputs": [],
   "source": [
    "# string is a sequence of character >> represent and manipulate textual data\n",
    "# characters are represented using numerical values >> each character is assigned a unique \n",
    "# ASCII (7 bits) and UNICODE (16 bits) >> ASCII >> 2 to power 8 i.e 128 charcters has been encoded whereas utf is 2 to power 16 , almost cover every character  of every language \n",
    "# UTF - 8, UTF 16 >> popular encoding schemes for UNICODE >> widely accepted in the industry.\n",
    "# ASCII >> American standard Code for Information Interchange\n",
    "# UTF (unicode transformation format)"
   ]
  },
  {
   "cell_type": "code",
   "execution_count": 2,
   "id": "51f41598-328c-4eed-8fa7-1dc5295e0f3c",
   "metadata": {},
   "outputs": [
    {
     "data": {
      "text/plain": [
       "65"
      ]
     },
     "execution_count": 2,
     "metadata": {},
     "output_type": "execute_result"
    }
   ],
   "source": [
    "# ASCII representation\n",
    "char = 'A'\n",
    "ord(char) # ord >> ordinal , means what is numerical order of character"
   ]
  },
  {
   "cell_type": "code",
   "execution_count": 3,
   "id": "755e75bf-34c5-4a8d-8bd0-3b934c183b17",
   "metadata": {},
   "outputs": [
    {
     "data": {
      "text/plain": [
       "'A'"
      ]
     },
     "execution_count": 3,
     "metadata": {},
     "output_type": "execute_result"
    }
   ],
   "source": [
    "chr(65) # character >> give the character corresponding to the number."
   ]
  },
  {
   "cell_type": "code",
   "execution_count": 4,
   "id": "8af3b7d2-320f-4741-a9c4-bb851ece6dc8",
   "metadata": {},
   "outputs": [
    {
     "data": {
      "text/plain": [
       "97"
      ]
     },
     "execution_count": 4,
     "metadata": {},
     "output_type": "execute_result"
    }
   ],
   "source": [
    "ord('a')"
   ]
  },
  {
   "cell_type": "code",
   "execution_count": 5,
   "id": "8a57eb10-7179-45fd-bba3-19d32a9ebef0",
   "metadata": {},
   "outputs": [
    {
     "data": {
      "text/plain": [
       "'a'"
      ]
     },
     "execution_count": 5,
     "metadata": {},
     "output_type": "execute_result"
    }
   ],
   "source": [
    "chr(97)"
   ]
  },
  {
   "cell_type": "code",
   "execution_count": 6,
   "id": "c9ade56b-bace-4d08-a4db-61229b65513f",
   "metadata": {},
   "outputs": [
    {
     "data": {
      "text/plain": [
       "'B'"
      ]
     },
     "execution_count": 6,
     "metadata": {},
     "output_type": "execute_result"
    }
   ],
   "source": [
    "chr(66)"
   ]
  },
  {
   "cell_type": "code",
   "execution_count": 7,
   "id": "7f3d6f9a-91c4-4d4d-b63e-b610a012e377",
   "metadata": {},
   "outputs": [
    {
     "data": {
      "text/plain": [
       "66"
      ]
     },
     "execution_count": 7,
     "metadata": {},
     "output_type": "execute_result"
    }
   ],
   "source": [
    "ord('B')"
   ]
  },
  {
   "cell_type": "code",
   "execution_count": 8,
   "id": "59640cb0-4352-434b-8f09-eeb21729f424",
   "metadata": {},
   "outputs": [
    {
     "data": {
      "text/plain": [
       "98"
      ]
     },
     "execution_count": 8,
     "metadata": {},
     "output_type": "execute_result"
    }
   ],
   "source": [
    "ord('b')"
   ]
  },
  {
   "cell_type": "code",
   "execution_count": 9,
   "id": "c28c2f17-d346-4b55-b059-6fe3f33554ed",
   "metadata": {},
   "outputs": [
    {
     "data": {
      "text/plain": [
       "90"
      ]
     },
     "execution_count": 9,
     "metadata": {},
     "output_type": "execute_result"
    }
   ],
   "source": [
    "ord('Z')"
   ]
  },
  {
   "cell_type": "code",
   "execution_count": 10,
   "id": "d6b24bc7-4be0-4317-b2f3-0ee0df0a1cc7",
   "metadata": {},
   "outputs": [
    {
     "data": {
      "text/plain": [
       "'Z'"
      ]
     },
     "execution_count": 10,
     "metadata": {},
     "output_type": "execute_result"
    }
   ],
   "source": [
    "chr(90)"
   ]
  },
  {
   "cell_type": "code",
   "execution_count": 11,
   "id": "66b1fffd-6c41-4228-a142-2e097fc40b2a",
   "metadata": {},
   "outputs": [],
   "source": [
    "# UNICODE representation\n",
    "# Omega"
   ]
  },
  {
   "cell_type": "code",
   "execution_count": 12,
   "id": "9d1014e9-3c8e-440c-a158-c989603138e3",
   "metadata": {},
   "outputs": [
    {
     "data": {
      "text/plain": [
       "'Ω'"
      ]
     },
     "execution_count": 12,
     "metadata": {},
     "output_type": "execute_result"
    }
   ],
   "source": [
    "'\\u03a9'"
   ]
  },
  {
   "cell_type": "code",
   "execution_count": 13,
   "id": "505350ab-d7ee-4b5e-9451-9502a52cd98c",
   "metadata": {},
   "outputs": [
    {
     "data": {
      "text/plain": [
       "'Σ'"
      ]
     },
     "execution_count": 13,
     "metadata": {},
     "output_type": "execute_result"
    }
   ],
   "source": [
    "'\\u03a3'"
   ]
  },
  {
   "cell_type": "code",
   "execution_count": 14,
   "id": "b560eb10-3b67-4e0b-af51-f02b94743c3b",
   "metadata": {},
   "outputs": [
    {
     "data": {
      "text/plain": [
       "'ॳ'"
      ]
     },
     "execution_count": 14,
     "metadata": {},
     "output_type": "execute_result"
    }
   ],
   "source": [
    "'\\u0973'"
   ]
  },
  {
   "cell_type": "code",
   "execution_count": 15,
   "id": "d76d9645-82f3-4841-8af0-06ed61c079be",
   "metadata": {},
   "outputs": [
    {
     "data": {
      "text/plain": [
       "'ॴ'"
      ]
     },
     "execution_count": 15,
     "metadata": {},
     "output_type": "execute_result"
    }
   ],
   "source": [
    "'\\u0974'"
   ]
  },
  {
   "cell_type": "code",
   "execution_count": 16,
   "id": "06d601c8-bb6b-4cc2-93ed-ecb4cc1f6ddc",
   "metadata": {},
   "outputs": [
    {
     "data": {
      "text/plain": [
       "'ॵ'"
      ]
     },
     "execution_count": 16,
     "metadata": {},
     "output_type": "execute_result"
    }
   ],
   "source": [
    "'\\u0975'"
   ]
  },
  {
   "cell_type": "code",
   "execution_count": 17,
   "id": "eb40f78d-748c-40dd-ae0c-2fd58819f1df",
   "metadata": {},
   "outputs": [
    {
     "data": {
      "text/plain": [
       "'Τ'"
      ]
     },
     "execution_count": 17,
     "metadata": {},
     "output_type": "execute_result"
    }
   ],
   "source": [
    "'\\u03a4'"
   ]
  },
  {
   "cell_type": "code",
   "execution_count": 18,
   "id": "c4a69abb-d388-47c6-94b2-9a160e0a2e57",
   "metadata": {},
   "outputs": [],
   "source": [
    "# strings\n",
    "string1 = \"pwskills\""
   ]
  },
  {
   "cell_type": "code",
   "execution_count": 19,
   "id": "a63fb4f0-04b4-48fe-aa6d-b1a7f5f67149",
   "metadata": {},
   "outputs": [
    {
     "data": {
      "text/plain": [
       "'pwskills'"
      ]
     },
     "execution_count": 19,
     "metadata": {},
     "output_type": "execute_result"
    }
   ],
   "source": [
    "string1"
   ]
  },
  {
   "cell_type": "code",
   "execution_count": 20,
   "id": "4518069e-4371-49ec-910c-f81e25bbf023",
   "metadata": {},
   "outputs": [
    {
     "data": {
      "text/plain": [
       "str"
      ]
     },
     "execution_count": 20,
     "metadata": {},
     "output_type": "execute_result"
    }
   ],
   "source": [
    "type(string1)"
   ]
  },
  {
   "cell_type": "code",
   "execution_count": 21,
   "id": "07681d42-2b30-4d2d-a54c-7f01d791e4e0",
   "metadata": {},
   "outputs": [
    {
     "data": {
      "text/plain": [
       "'pwskills'"
      ]
     },
     "execution_count": 21,
     "metadata": {},
     "output_type": "execute_result"
    }
   ],
   "source": [
    "'pwskills'"
   ]
  },
  {
   "cell_type": "code",
   "execution_count": 22,
   "id": "9af6acc1-7f0d-46cc-a3ff-2782c26a034d",
   "metadata": {},
   "outputs": [
    {
     "data": {
      "text/plain": [
       "\"I'm a student\""
      ]
     },
     "execution_count": 22,
     "metadata": {},
     "output_type": "execute_result"
    }
   ],
   "source": [
    "\"I'm a student\""
   ]
  },
  {
   "cell_type": "code",
   "execution_count": 23,
   "id": "2e9e13f5-ae6b-4277-9e97-6b991f3ec9e4",
   "metadata": {},
   "outputs": [
    {
     "data": {
      "text/plain": [
       "\"I'm a student\""
      ]
     },
     "execution_count": 23,
     "metadata": {},
     "output_type": "execute_result"
    }
   ],
   "source": [
    "'''I'm a student'''"
   ]
  },
  {
   "cell_type": "code",
   "execution_count": 24,
   "id": "1378d20f-387a-4a1d-8213-a902e78080b8",
   "metadata": {},
   "outputs": [
    {
     "data": {
      "text/plain": [
       "\"I'm a student\\nI study in pwskills\\nI am a data scientist\""
      ]
     },
     "execution_count": 24,
     "metadata": {},
     "output_type": "execute_result"
    }
   ],
   "source": [
    "'''I'm a student\n",
    "I study in pwskills\n",
    "I am a data scientist'''\n"
   ]
  },
  {
   "cell_type": "code",
   "execution_count": 25,
   "id": "a7c563be-dd5d-4a6c-ae14-2cad273aad45",
   "metadata": {},
   "outputs": [],
   "source": [
    "# concatenatination of string>> combining two strings"
   ]
  },
  {
   "cell_type": "code",
   "execution_count": 26,
   "id": "0305e9f1-6a34-49b4-8e73-7620ecfc2d4b",
   "metadata": {},
   "outputs": [
    {
     "data": {
      "text/plain": [
       "5"
      ]
     },
     "execution_count": 26,
     "metadata": {},
     "output_type": "execute_result"
    }
   ],
   "source": [
    "2+3"
   ]
  },
  {
   "cell_type": "code",
   "execution_count": 27,
   "id": "d822d50e-bead-4701-a9f3-bfc13a9b780c",
   "metadata": {},
   "outputs": [
    {
     "data": {
      "text/plain": [
       "'Hello World!'"
      ]
     },
     "execution_count": 27,
     "metadata": {},
     "output_type": "execute_result"
    }
   ],
   "source": [
    "\"Hello\"+\" World!\""
   ]
  },
  {
   "cell_type": "code",
   "execution_count": 28,
   "id": "f6a72595-2bfe-49c7-bedf-0584318da763",
   "metadata": {},
   "outputs": [
    {
     "ename": "TypeError",
     "evalue": "unsupported operand type(s) for -: 'str' and 'str'",
     "output_type": "error",
     "traceback": [
      "\u001b[0;31m---------------------------------------------------------------------------\u001b[0m",
      "\u001b[0;31mTypeError\u001b[0m                                 Traceback (most recent call last)",
      "Cell \u001b[0;32mIn[28], line 1\u001b[0m\n\u001b[0;32m----> 1\u001b[0m \u001b[38;5;124;43m\"\u001b[39;49m\u001b[38;5;124;43mHello\u001b[39;49m\u001b[38;5;124;43m\"\u001b[39;49m\u001b[38;5;241;43m-\u001b[39;49m\u001b[38;5;124;43m\"\u001b[39;49m\u001b[38;5;124;43m World!\u001b[39;49m\u001b[38;5;124;43m\"\u001b[39;49m\u001b[38;5;66;03m# it will give you error\u001b[39;00m\n",
      "\u001b[0;31mTypeError\u001b[0m: unsupported operand type(s) for -: 'str' and 'str'"
     ]
    }
   ],
   "source": [
    "\"Hello\"-\" World!\"# it will give you error"
   ]
  },
  {
   "cell_type": "code",
   "execution_count": null,
   "id": "9d6fdcd6-6699-4c48-b3b2-b42cbeee63cc",
   "metadata": {},
   "outputs": [],
   "source": [
    "string1 = \"hello\"\n",
    "string2 = \"world!\"\n",
    "string1 + \" \" + string2"
   ]
  },
  {
   "cell_type": "code",
   "execution_count": 29,
   "id": "d6a573f1-42b0-4c15-b08e-e37d0094804e",
   "metadata": {},
   "outputs": [
    {
     "data": {
      "text/plain": [
       "'string>>conctenation'"
      ]
     },
     "execution_count": 29,
     "metadata": {},
     "output_type": "execute_result"
    }
   ],
   "source": [
    "\"string\" + \">>\" + \"conctenation\""
   ]
  },
  {
   "cell_type": "code",
   "execution_count": 30,
   "id": "2900222a-96e8-4d91-9d78-0fe316d610c6",
   "metadata": {},
   "outputs": [
    {
     "data": {
      "text/plain": [
       "'string >> conctenation'"
      ]
     },
     "execution_count": 30,
     "metadata": {},
     "output_type": "execute_result"
    }
   ],
   "source": [
    "\"string\" + \" >> \" + \"conctenation\""
   ]
  },
  {
   "cell_type": "code",
   "execution_count": 31,
   "id": "9214a3d4-1487-441d-9aff-d218b3bbd4ca",
   "metadata": {},
   "outputs": [
    {
     "data": {
      "text/plain": [
       "'string >$ conctenation'"
      ]
     },
     "execution_count": 31,
     "metadata": {},
     "output_type": "execute_result"
    }
   ],
   "source": [
    "\"string\" + \" >$ \" + \"conctenation\"\n"
   ]
  },
  {
   "cell_type": "code",
   "execution_count": 32,
   "id": "4fcd1fc3-48ea-4b58-a26d-fefdb3d2a6cf",
   "metadata": {},
   "outputs": [
    {
     "data": {
      "text/plain": [
       "'A'"
      ]
     },
     "execution_count": 32,
     "metadata": {},
     "output_type": "execute_result"
    }
   ],
   "source": [
    "# Extract/slicing  subpart of string\n",
    "a = \"Ajay\"\n",
    "a[0]"
   ]
  },
  {
   "cell_type": "code",
   "execution_count": 33,
   "id": "1ead1c14-66e2-41a8-b59e-0777aad53cdf",
   "metadata": {},
   "outputs": [
    {
     "data": {
      "text/plain": [
       "'j'"
      ]
     },
     "execution_count": 33,
     "metadata": {},
     "output_type": "execute_result"
    }
   ],
   "source": [
    "a[1]"
   ]
  },
  {
   "cell_type": "code",
   "execution_count": 34,
   "id": "29ea2e03-e04f-43ec-879c-ce7227d87a85",
   "metadata": {},
   "outputs": [
    {
     "data": {
      "text/plain": [
       "'y'"
      ]
     },
     "execution_count": 34,
     "metadata": {},
     "output_type": "execute_result"
    }
   ],
   "source": [
    "a[-1]"
   ]
  },
  {
   "cell_type": "code",
   "execution_count": 35,
   "id": "4137a1dc-c34f-42e4-be07-583ef7eef5f3",
   "metadata": {},
   "outputs": [
    {
     "data": {
      "text/plain": [
       "'y'"
      ]
     },
     "execution_count": 35,
     "metadata": {},
     "output_type": "execute_result"
    }
   ],
   "source": [
    "a[3]"
   ]
  },
  {
   "cell_type": "code",
   "execution_count": 36,
   "id": "48a5996c-986d-4915-9c9e-911f5ba5201f",
   "metadata": {},
   "outputs": [
    {
     "ename": "IndexError",
     "evalue": "string index out of range",
     "output_type": "error",
     "traceback": [
      "\u001b[0;31m---------------------------------------------------------------------------\u001b[0m",
      "\u001b[0;31mIndexError\u001b[0m                                Traceback (most recent call last)",
      "Cell \u001b[0;32mIn[36], line 1\u001b[0m\n\u001b[0;32m----> 1\u001b[0m \u001b[43ma\u001b[49m\u001b[43m[\u001b[49m\u001b[38;5;241;43m4\u001b[39;49m\u001b[43m]\u001b[49m \u001b[38;5;66;03m# it will throw an error as 4th index doesn't exist\u001b[39;00m\n",
      "\u001b[0;31mIndexError\u001b[0m: string index out of range"
     ]
    }
   ],
   "source": [
    "a[4] # it will throw an error as 4th index doesn't exist"
   ]
  },
  {
   "cell_type": "code",
   "execution_count": 37,
   "id": "4c216bd1-01f6-4115-b21f-543834d66532",
   "metadata": {},
   "outputs": [
    {
     "data": {
      "text/plain": [
       "'I am'"
      ]
     },
     "execution_count": 37,
     "metadata": {},
     "output_type": "execute_result"
    }
   ],
   "source": [
    "string1 = \"I am a good student\"\n",
    "string1[0:4] # 4 is excluded [a,b]>>it will give result till b-1 index"
   ]
  },
  {
   "cell_type": "code",
   "execution_count": 38,
   "id": "bb1ae83b-1c8b-42b9-9f83-1374d0af6b09",
   "metadata": {},
   "outputs": [
    {
     "data": {
      "text/plain": [
       "'a good '"
      ]
     },
     "execution_count": 38,
     "metadata": {},
     "output_type": "execute_result"
    }
   ],
   "source": [
    "string1[5:12]"
   ]
  },
  {
   "cell_type": "code",
   "execution_count": 39,
   "id": "b5cc4e0f-08ab-4e5c-a6b8-2a5ee8185bc8",
   "metadata": {},
   "outputs": [
    {
     "data": {
      "text/plain": [
       "'I am a good student'"
      ]
     },
     "execution_count": 39,
     "metadata": {},
     "output_type": "execute_result"
    }
   ],
   "source": [
    "string1[0:]# start index : end index >> if u not provideend index it will by dfault give substring till the last index"
   ]
  },
  {
   "cell_type": "code",
   "execution_count": 40,
   "id": "95e7b14b-3a7f-420d-97fa-4954045c0ce0",
   "metadata": {},
   "outputs": [
    {
     "data": {
      "text/plain": [
       "'m a good student'"
      ]
     },
     "execution_count": 40,
     "metadata": {},
     "output_type": "execute_result"
    }
   ],
   "source": [
    "string1[3:]"
   ]
  },
  {
   "cell_type": "code",
   "execution_count": 41,
   "id": "31b30272-eee1-4c41-9fe0-cdebb345fc36",
   "metadata": {},
   "outputs": [],
   "source": [
    "string2 = \"pwskills\""
   ]
  },
  {
   "cell_type": "code",
   "execution_count": 42,
   "id": "cc245a79-dca8-443b-8ec8-0ef37bb0bd1e",
   "metadata": {},
   "outputs": [
    {
     "data": {
      "text/plain": [
       "'w'"
      ]
     },
     "execution_count": 42,
     "metadata": {},
     "output_type": "execute_result"
    }
   ],
   "source": [
    "string2[1]"
   ]
  },
  {
   "cell_type": "code",
   "execution_count": 43,
   "id": "6293667b-7276-447f-87ce-81cd0bc06b42",
   "metadata": {},
   "outputs": [
    {
     "data": {
      "text/plain": [
       "'s'"
      ]
     },
     "execution_count": 43,
     "metadata": {},
     "output_type": "execute_result"
    }
   ],
   "source": [
    "string2[-1]"
   ]
  },
  {
   "cell_type": "code",
   "execution_count": 44,
   "id": "01af95dd-c33b-458c-8576-df5869d99403",
   "metadata": {},
   "outputs": [
    {
     "data": {
      "text/plain": [
       "'l'"
      ]
     },
     "execution_count": 44,
     "metadata": {},
     "output_type": "execute_result"
    }
   ],
   "source": [
    "string2[-2]"
   ]
  },
  {
   "cell_type": "code",
   "execution_count": 45,
   "id": "6ef85767-8f6e-46cd-9fd7-24e525ab0aeb",
   "metadata": {},
   "outputs": [
    {
     "data": {
      "text/plain": [
       "'pwskills'"
      ]
     },
     "execution_count": 45,
     "metadata": {},
     "output_type": "execute_result"
    }
   ],
   "source": [
    "string2"
   ]
  },
  {
   "cell_type": "code",
   "execution_count": 46,
   "id": "7565173b-268a-4ed9-bc4f-940e2089dc11",
   "metadata": {},
   "outputs": [
    {
     "data": {
      "text/plain": [
       "'pwski'"
      ]
     },
     "execution_count": 46,
     "metadata": {},
     "output_type": "execute_result"
    }
   ],
   "source": [
    "# all charcter except the last 3 characters\n",
    "string2[:-3]"
   ]
  },
  {
   "cell_type": "code",
   "execution_count": 47,
   "id": "252e0a0f-f301-453f-b9fc-0fd1d2ed2c92",
   "metadata": {},
   "outputs": [
    {
     "data": {
      "text/plain": [
       "'lls'"
      ]
     },
     "execution_count": 47,
     "metadata": {},
     "output_type": "execute_result"
    }
   ],
   "source": [
    "# you want only last 3 characters\n",
    "string2[-3:]"
   ]
  },
  {
   "cell_type": "code",
   "execution_count": 48,
   "id": "13f56c21-a364-4549-b88b-cf1813ca5d84",
   "metadata": {},
   "outputs": [],
   "source": [
    "string3 = \"hello world!\""
   ]
  },
  {
   "cell_type": "code",
   "execution_count": 49,
   "id": "e7fc081a-f2c9-4405-89f3-4d68a3596103",
   "metadata": {},
   "outputs": [
    {
     "data": {
      "text/plain": [
       "'hello'"
      ]
     },
     "execution_count": 49,
     "metadata": {},
     "output_type": "execute_result"
    }
   ],
   "source": [
    "string3[0:5:1] # by default step is 1"
   ]
  },
  {
   "cell_type": "code",
   "execution_count": 50,
   "id": "d3180567-282d-4e50-9aef-aa07d626b05c",
   "metadata": {},
   "outputs": [
    {
     "data": {
      "text/plain": [
       "'hlo'"
      ]
     },
     "execution_count": 50,
     "metadata": {},
     "output_type": "execute_result"
    }
   ],
   "source": [
    "string3[0:5:2]"
   ]
  },
  {
   "cell_type": "code",
   "execution_count": 51,
   "id": "d1cddae6-4b2d-4e07-b252-e5d452367e6b",
   "metadata": {},
   "outputs": [
    {
     "data": {
      "text/plain": [
       "'hlowrd'"
      ]
     },
     "execution_count": 51,
     "metadata": {},
     "output_type": "execute_result"
    }
   ],
   "source": [
    "string3[::2]"
   ]
  },
  {
   "cell_type": "code",
   "execution_count": 52,
   "id": "2a0046c7-22cb-4999-bfbf-41a1a684e180",
   "metadata": {},
   "outputs": [
    {
     "data": {
      "text/plain": [
       "'!dlrow olleh'"
      ]
     },
     "execution_count": 52,
     "metadata": {},
     "output_type": "execute_result"
    }
   ],
   "source": [
    "# iterate over the sequence in reverse order\n",
    "# it means start from the end move to the begining and step backward by one character\n",
    "string3[::-1]"
   ]
  },
  {
   "cell_type": "code",
   "execution_count": 53,
   "id": "7e141c46-6c7b-4e8a-9026-3801ce73129d",
   "metadata": {},
   "outputs": [],
   "source": [
    "# strings are immutable"
   ]
  },
  {
   "cell_type": "code",
   "execution_count": 54,
   "id": "19e3da49-7f66-4be5-95a4-e8d3e117a551",
   "metadata": {},
   "outputs": [
    {
     "data": {
      "text/plain": [
       "'p'"
      ]
     },
     "execution_count": 54,
     "metadata": {},
     "output_type": "execute_result"
    }
   ],
   "source": [
    "s = \"pwskills\"\n",
    "s[0]"
   ]
  },
  {
   "cell_type": "code",
   "execution_count": 55,
   "id": "5c180c8a-5d0f-4216-8282-32034215b370",
   "metadata": {},
   "outputs": [
    {
     "ename": "TypeError",
     "evalue": "'str' object does not support item assignment",
     "output_type": "error",
     "traceback": [
      "\u001b[0;31m---------------------------------------------------------------------------\u001b[0m",
      "\u001b[0;31mTypeError\u001b[0m                                 Traceback (most recent call last)",
      "Cell \u001b[0;32mIn[55], line 1\u001b[0m\n\u001b[0;32m----> 1\u001b[0m \u001b[43ms\u001b[49m\u001b[43m[\u001b[49m\u001b[38;5;241;43m0\u001b[39;49m\u001b[43m]\u001b[49m \u001b[38;5;241m=\u001b[39m\u001b[38;5;124m'\u001b[39m\u001b[38;5;124ma\u001b[39m\u001b[38;5;124m'\u001b[39m\n",
      "\u001b[0;31mTypeError\u001b[0m: 'str' object does not support item assignment"
     ]
    }
   ],
   "source": [
    "s[0] ='a'"
   ]
  },
  {
   "cell_type": "code",
   "execution_count": 56,
   "id": "dad9cc95-8715-48d7-9cc8-fa037368d1e1",
   "metadata": {},
   "outputs": [
    {
     "data": {
      "text/plain": [
       "'pwskills'"
      ]
     },
     "execution_count": 56,
     "metadata": {},
     "output_type": "execute_result"
    }
   ],
   "source": [
    "s"
   ]
  },
  {
   "cell_type": "code",
   "execution_count": 57,
   "id": "4a7817eb-41c6-483c-a456-61a2662d058c",
   "metadata": {},
   "outputs": [
    {
     "data": {
      "text/plain": [
       "8"
      ]
     },
     "execution_count": 57,
     "metadata": {},
     "output_type": "execute_result"
    }
   ],
   "source": [
    "# no. of charcter in the string\n",
    "len(s)"
   ]
  },
  {
   "cell_type": "code",
   "execution_count": 58,
   "id": "88e2c139-4be3-40c4-a99b-16a9a425c8af",
   "metadata": {},
   "outputs": [
    {
     "data": {
      "text/plain": [
       "14"
      ]
     },
     "execution_count": 58,
     "metadata": {},
     "output_type": "execute_result"
    }
   ],
   "source": [
    "s = \"I am a student\"\n",
    "len(s)"
   ]
  },
  {
   "cell_type": "code",
   "execution_count": 59,
   "id": "bf22d788-5bba-4d4f-b55d-d5ed1d775254",
   "metadata": {},
   "outputs": [],
   "source": [
    "# modification of string\n",
    "s = \"I am a student\"\n",
    "u = s.replace(\"student\",\"teacher\")"
   ]
  },
  {
   "cell_type": "code",
   "execution_count": 60,
   "id": "3095ff4b-cf6e-4717-889a-347536e46859",
   "metadata": {},
   "outputs": [
    {
     "data": {
      "text/plain": [
       "'I am a teacher'"
      ]
     },
     "execution_count": 60,
     "metadata": {},
     "output_type": "execute_result"
    }
   ],
   "source": [
    "u"
   ]
  },
  {
   "cell_type": "code",
   "execution_count": 61,
   "id": "a172f00c-4a2c-4261-bcc4-95259a3dac4a",
   "metadata": {},
   "outputs": [
    {
     "data": {
      "text/plain": [
       "'123 Suhana apt,marathali, Banglore'"
      ]
     },
     "execution_count": 61,
     "metadata": {},
     "output_type": "execute_result"
    }
   ],
   "source": [
    "# use case\n",
    "address = \"123 Suhana apt,marathali, Banglore\"\n",
    "address"
   ]
  },
  {
   "cell_type": "code",
   "execution_count": 62,
   "id": "3620db36-a6c0-4315-b785-003696866fcb",
   "metadata": {},
   "outputs": [],
   "source": [
    "address_modified = address.replace(\"apt\",\"apartment\")"
   ]
  },
  {
   "cell_type": "code",
   "execution_count": 63,
   "id": "84ef08b9-59d3-4738-af63-ceb2fe3bc477",
   "metadata": {},
   "outputs": [
    {
     "data": {
      "text/plain": [
       "'123 Suhana apartment,marathali, Banglore'"
      ]
     },
     "execution_count": 63,
     "metadata": {},
     "output_type": "execute_result"
    }
   ],
   "source": [
    "address_modified"
   ]
  },
  {
   "cell_type": "code",
   "execution_count": 64,
   "id": "40013e37-2e33-446a-931a-db4141080aab",
   "metadata": {},
   "outputs": [],
   "source": [
    "text = \"BRB, TTYL, LOL\"\n",
    "new_text = text.replace(\"BRB\",\"Be Right Back\").replace(\"TTYL\",\"Talk to You Later\").replace(\"LOL\",\"Laughing out loud\")"
   ]
  },
  {
   "cell_type": "code",
   "execution_count": 65,
   "id": "129b4c4a-7417-43b9-a9d5-fd5d5895e989",
   "metadata": {},
   "outputs": [
    {
     "data": {
      "text/plain": [
       "'Be Right Back, Talk to You Later, Laughing out loud'"
      ]
     },
     "execution_count": 65,
     "metadata": {},
     "output_type": "execute_result"
    }
   ],
   "source": [
    "new_text"
   ]
  },
  {
   "cell_type": "code",
   "execution_count": 66,
   "id": "83d26cf5-6e6e-4c22-a881-ffa98b62ca97",
   "metadata": {},
   "outputs": [],
   "source": [
    "text = \"hello World\"\n",
    "text_lower = text.lower()"
   ]
  },
  {
   "cell_type": "code",
   "execution_count": 67,
   "id": "5fd07a82-1cf9-499b-a8ca-04ce1b4e4c59",
   "metadata": {},
   "outputs": [
    {
     "data": {
      "text/plain": [
       "'hello world'"
      ]
     },
     "execution_count": 67,
     "metadata": {},
     "output_type": "execute_result"
    }
   ],
   "source": [
    "text_lower"
   ]
  },
  {
   "cell_type": "code",
   "execution_count": 68,
   "id": "9893b1c8-0a68-4d03-bdf7-05eaf2481f97",
   "metadata": {},
   "outputs": [
    {
     "data": {
      "text/plain": [
       "'HELLO WORLD'"
      ]
     },
     "execution_count": 68,
     "metadata": {},
     "output_type": "execute_result"
    }
   ],
   "source": [
    "text_upper = text.upper()\n",
    "text_upper"
   ]
  },
  {
   "cell_type": "code",
   "execution_count": 69,
   "id": "2c4a577a-5dad-4942-96a7-79456b899e78",
   "metadata": {},
   "outputs": [
    {
     "data": {
      "text/plain": [
       "'Hello World'"
      ]
     },
     "execution_count": 69,
     "metadata": {},
     "output_type": "execute_result"
    }
   ],
   "source": [
    "text1 = text.title()\n",
    "text1"
   ]
  },
  {
   "cell_type": "code",
   "execution_count": 70,
   "id": "f0911d7b-e83a-470f-869a-6ac851f2da2f",
   "metadata": {},
   "outputs": [
    {
     "data": {
      "text/plain": [
       "'i AM A sTUDENT'"
      ]
     },
     "execution_count": 70,
     "metadata": {},
     "output_type": "execute_result"
    }
   ],
   "source": [
    "text = \"I am a Student\"\n",
    "text.swapcase()"
   ]
  },
  {
   "cell_type": "code",
   "execution_count": 71,
   "id": "f5304f4c-20a1-4773-bb55-31215a45bc46",
   "metadata": {},
   "outputs": [
    {
     "data": {
      "text/plain": [
       "'I am a student'"
      ]
     },
     "execution_count": 71,
     "metadata": {},
     "output_type": "execute_result"
    }
   ],
   "source": [
    "text.capitalize()"
   ]
  },
  {
   "cell_type": "code",
   "execution_count": 72,
   "id": "3bf75eb5-8a4c-4f18-aeaa-2a093d604011",
   "metadata": {},
   "outputs": [
    {
     "data": {
      "text/plain": [
       "True"
      ]
     },
     "execution_count": 72,
     "metadata": {},
     "output_type": "execute_result"
    }
   ],
   "source": [
    "# string searching\n",
    "sentence = \"I am a student at pwskills\"\n",
    "\"am\" in sentence "
   ]
  },
  {
   "cell_type": "code",
   "execution_count": 73,
   "id": "609c9a80-f697-4466-bf78-e0bd42a642d8",
   "metadata": {},
   "outputs": [
    {
     "data": {
      "text/plain": [
       "False"
      ]
     },
     "execution_count": 73,
     "metadata": {},
     "output_type": "execute_result"
    }
   ],
   "source": [
    "\"mat\" in sentence"
   ]
  },
  {
   "cell_type": "code",
   "execution_count": 74,
   "id": "686f06af-be3b-43ff-99ae-f28092ed0c2f",
   "metadata": {},
   "outputs": [
    {
     "name": "stdout",
     "output_type": "stream",
     "text": [
      "The search word is present\n"
     ]
    }
   ],
   "source": [
    "sentence = \"I am a student at pwskills\"\n",
    "search_word = \"am\"\n",
    "if search_word in sentence:\n",
    "    print(\"The search word is present\")\n",
    "else:\n",
    "    print(\"Not present\")"
   ]
  },
  {
   "cell_type": "code",
   "execution_count": 75,
   "id": "d590e74b-bb3b-4958-b341-ff9fb1b06142",
   "metadata": {},
   "outputs": [
    {
     "name": "stdout",
     "output_type": "stream",
     "text": [
      "Not present\n"
     ]
    }
   ],
   "source": [
    "sentence = \"I am a student at pwskills\"\n",
    "search_word = \"mat\"\n",
    "if search_word in sentence:\n",
    "    print(\"The search word is present\")\n",
    "else:\n",
    "    print(\"Not present\")"
   ]
  },
  {
   "cell_type": "code",
   "execution_count": 76,
   "id": "992f6592-2ed6-46bc-8f6c-38f7b0868547",
   "metadata": {},
   "outputs": [
    {
     "name": "stdout",
     "output_type": "stream",
     "text": [
      "Invalid email\n"
     ]
    }
   ],
   "source": [
    "email = \"ajay123\"\n",
    "if \"@\" in email:\n",
    "    print(\"valid email\")\n",
    "else:\n",
    "    print(\"Invalid email\")"
   ]
  },
  {
   "cell_type": "code",
   "execution_count": 77,
   "id": "ae7f046f-ba23-439e-88b2-fb92a85f62c3",
   "metadata": {},
   "outputs": [
    {
     "name": "stdout",
     "output_type": "stream",
     "text": [
      "valid email\n"
     ]
    }
   ],
   "source": [
    "email = \"ajay123@gmail.com\"\n",
    "if \"@\" in email:\n",
    "    print(\"valid email\")\n",
    "else:\n",
    "    print(\"Invalid email\")"
   ]
  },
  {
   "cell_type": "code",
   "execution_count": 78,
   "id": "27a961b4-13f2-457f-b57f-624381899834",
   "metadata": {},
   "outputs": [
    {
     "name": "stdout",
     "output_type": "stream",
     "text": [
      "It's a pdf file\n"
     ]
    }
   ],
   "source": [
    "document = \"some_file.pdf\"\n",
    "if \".pdf\" in document:\n",
    "    print(\"It's a pdf file\")\n",
    "else:\n",
    "    print(\"Not a pdf file\")"
   ]
  },
  {
   "cell_type": "code",
   "execution_count": 79,
   "id": "1dc4c44d-2ad2-4d17-9ed6-1d964af4b802",
   "metadata": {},
   "outputs": [
    {
     "data": {
      "text/plain": [
       "True"
      ]
     },
     "execution_count": 79,
     "metadata": {},
     "output_type": "execute_result"
    }
   ],
   "source": [
    "# string comparison\n",
    "str1 = \"hello\"\n",
    "str2 = \"hello\"\n",
    "str1 == str2"
   ]
  },
  {
   "cell_type": "code",
   "execution_count": 80,
   "id": "12b7a4cd-2c23-4191-88fe-6ad15ed0cf73",
   "metadata": {},
   "outputs": [
    {
     "data": {
      "text/plain": [
       "False"
      ]
     },
     "execution_count": 80,
     "metadata": {},
     "output_type": "execute_result"
    }
   ],
   "source": [
    "# string comparison\n",
    "str1 = \"Hello\"\n",
    "str2 = \"hello\"\n",
    "str1 == str2"
   ]
  },
  {
   "cell_type": "code",
   "execution_count": 81,
   "id": "5def28eb-d88f-48bf-b5a3-d0d186f88ab2",
   "metadata": {},
   "outputs": [
    {
     "data": {
      "text/plain": [
       "True"
      ]
     },
     "execution_count": 81,
     "metadata": {},
     "output_type": "execute_result"
    }
   ],
   "source": [
    "# string comparison\n",
    "str1 = \"Hello\"\n",
    "str2 = \"hello\"\n",
    "str1.lower() == str2.lower()"
   ]
  },
  {
   "cell_type": "code",
   "execution_count": 82,
   "id": "d39812a5-036c-433f-a61f-0f745470a27b",
   "metadata": {},
   "outputs": [
    {
     "name": "stdout",
     "output_type": "stream",
     "text": [
      "username is available\n"
     ]
    }
   ],
   "source": [
    "reg_username = [\"pw\",\"PW\",\"pW\"]\n",
    "new_user = \"PW1\"\n",
    "if new_user in reg_username:\n",
    "    print(\"already in use\")\n",
    "else:\n",
    "    print(\"username is available\")"
   ]
  },
  {
   "cell_type": "code",
   "execution_count": 84,
   "id": "66f4a629-4de6-44f2-8a6f-7422d6b0322b",
   "metadata": {},
   "outputs": [
    {
     "name": "stdin",
     "output_type": "stream",
     "text": [
      "Scanned the product code p123\n"
     ]
    },
    {
     "name": "stdout",
     "output_type": "stream",
     "text": [
      "\n"
     ]
    }
   ],
   "source": [
    "product_code = \"P123\"\n",
    "scanned_code = input(\"Scanned the product code\")\n",
    "if product_code == scanned_code:\n",
    "    print(\"The price is 100\")\n",
    "else:\n",
    "    print()"
   ]
  },
  {
   "cell_type": "code",
   "execution_count": 85,
   "id": "c75caa7b-8401-43e8-8211-8d28deaacd6f",
   "metadata": {},
   "outputs": [
    {
     "data": {
      "text/plain": [
       "['Ajay', 'Bijay', 'Sanjay']"
      ]
     },
     "execution_count": 85,
     "metadata": {},
     "output_type": "execute_result"
    }
   ],
   "source": [
    "# STRING ORDERING\n",
    "name = [\"Ajay\",\"Sanjay\",\"Bijay\"]\n",
    "sorted(name)"
   ]
  },
  {
   "cell_type": "code",
   "execution_count": 86,
   "id": "1cc45aff-c3ed-42e6-bbdf-71a61ef65c83",
   "metadata": {},
   "outputs": [
    {
     "data": {
      "text/plain": [
       "['Alishan', 'KKHH', 'Magic', 'Singham']"
      ]
     },
     "execution_count": 86,
     "metadata": {},
     "output_type": "execute_result"
    }
   ],
   "source": [
    "playlist = [\"KKHH\",\"Magic\",\"Singham\",\"Alishan\"]\n",
    "sorted(playlist)"
   ]
  },
  {
   "cell_type": "code",
   "execution_count": 87,
   "id": "6f57737a-4f09-48bc-b477-a2cb91b8cadf",
   "metadata": {},
   "outputs": [
    {
     "data": {
      "text/plain": [
       "'              pwskills                 '"
      ]
     },
     "execution_count": 87,
     "metadata": {},
     "output_type": "execute_result"
    }
   ],
   "source": [
    "#common string operations\n",
    "input_str = \"              pwskills                 \"\n",
    "input_str"
   ]
  },
  {
   "cell_type": "code",
   "execution_count": 88,
   "id": "3cbc1cb6-2f8c-4a76-9251-e05976003671",
   "metadata": {},
   "outputs": [
    {
     "data": {
      "text/plain": [
       "'pwskills'"
      ]
     },
     "execution_count": 88,
     "metadata": {},
     "output_type": "execute_result"
    }
   ],
   "source": [
    "input_str.strip()"
   ]
  },
  {
   "cell_type": "code",
   "execution_count": 89,
   "id": "5e66046d-bd84-4253-a25d-f951d09360b0",
   "metadata": {},
   "outputs": [
    {
     "data": {
      "text/plain": [
       "'Apple'"
      ]
     },
     "execution_count": 89,
     "metadata": {},
     "output_type": "execute_result"
    }
   ],
   "source": [
    "row = \"Apple             \"\n",
    "row.strip()"
   ]
  },
  {
   "cell_type": "code",
   "execution_count": 90,
   "id": "3d484daa-b54d-4bee-915b-34dcad05f88b",
   "metadata": {},
   "outputs": [
    {
     "data": {
      "text/plain": [
       "'Ajay, data science,teacher'"
      ]
     },
     "execution_count": 90,
     "metadata": {},
     "output_type": "execute_result"
    }
   ],
   "source": [
    "# string splitting\n",
    "data = \"Ajay, data science,teacher\"\n",
    "data"
   ]
  },
  {
   "cell_type": "code",
   "execution_count": 91,
   "id": "96f9d49a-4dbd-4fd6-b680-32b53d49c7a8",
   "metadata": {},
   "outputs": [],
   "source": [
    "teacher_info = data.split(',')"
   ]
  },
  {
   "cell_type": "code",
   "execution_count": 92,
   "id": "7e84f9db-d592-4e94-bd8e-c7502c7a9928",
   "metadata": {},
   "outputs": [
    {
     "data": {
      "text/plain": [
       "['Ajay', ' data science', 'teacher']"
      ]
     },
     "execution_count": 92,
     "metadata": {},
     "output_type": "execute_result"
    }
   ],
   "source": [
    "teacher_info"
   ]
  },
  {
   "cell_type": "code",
   "execution_count": 93,
   "id": "1be32f4a-6e1a-427b-a904-9eec8c9fdab5",
   "metadata": {},
   "outputs": [],
   "source": [
    "name = teacher_info[0]\n",
    "sub = teacher_info[1]\n",
    "des = teacher_info[2]"
   ]
  },
  {
   "cell_type": "code",
   "execution_count": 94,
   "id": "45050fee-e55e-42db-aa6e-93be7f78d1f2",
   "metadata": {},
   "outputs": [
    {
     "data": {
      "text/plain": [
       "'Ajay'"
      ]
     },
     "execution_count": 94,
     "metadata": {},
     "output_type": "execute_result"
    }
   ],
   "source": [
    "name"
   ]
  },
  {
   "cell_type": "code",
   "execution_count": 95,
   "id": "ffe2eb8e-f740-41f3-b26c-477744d06348",
   "metadata": {},
   "outputs": [
    {
     "data": {
      "text/plain": [
       "' data science'"
      ]
     },
     "execution_count": 95,
     "metadata": {},
     "output_type": "execute_result"
    }
   ],
   "source": [
    "sub"
   ]
  },
  {
   "cell_type": "code",
   "execution_count": 96,
   "id": "28936d94-d9ad-4775-9b63-94483a0da247",
   "metadata": {},
   "outputs": [
    {
     "data": {
      "text/plain": [
       "'teacher'"
      ]
     },
     "execution_count": 96,
     "metadata": {},
     "output_type": "execute_result"
    }
   ],
   "source": [
    "des"
   ]
  },
  {
   "cell_type": "code",
   "execution_count": 97,
   "id": "2880bb73-0417-4b98-9a08-972b4002da4a",
   "metadata": {},
   "outputs": [
    {
     "data": {
      "text/plain": [
       "'teacher'"
      ]
     },
     "execution_count": 97,
     "metadata": {},
     "output_type": "execute_result"
    }
   ],
   "source": [
    "des.strip()"
   ]
  },
  {
   "cell_type": "code",
   "execution_count": 98,
   "id": "38a23c8f-4df6-438c-a3fb-df91d95c0108",
   "metadata": {},
   "outputs": [
    {
     "data": {
      "text/plain": [
       "'data science'"
      ]
     },
     "execution_count": 98,
     "metadata": {},
     "output_type": "execute_result"
    }
   ],
   "source": [
    "sub.strip()"
   ]
  },
  {
   "cell_type": "code",
   "execution_count": 99,
   "id": "ff3b90b4-9123-4cf8-b1f7-580155519886",
   "metadata": {},
   "outputs": [],
   "source": [
    "# Escape sequences >> special combination of characters used within a string"
   ]
  },
  {
   "cell_type": "code",
   "execution_count": 100,
   "id": "8b5ed472-9743-4567-a590-0f2454f393e9",
   "metadata": {},
   "outputs": [],
   "source": [
    "address = \"\"\"123, sanmukha villa, \n",
    "marathalii,\n",
    "bangalore\"\"\""
   ]
  },
  {
   "cell_type": "code",
   "execution_count": 101,
   "id": "ba7477f4-dc3c-4262-87e1-c0b86eb7d270",
   "metadata": {},
   "outputs": [
    {
     "data": {
      "text/plain": [
       "'123, sanmukha villa, \\nmarathalii,\\nbangalore'"
      ]
     },
     "execution_count": 101,
     "metadata": {},
     "output_type": "execute_result"
    }
   ],
   "source": [
    "address"
   ]
  },
  {
   "cell_type": "code",
   "execution_count": 102,
   "id": "1c71a721-3c37-489b-a405-a5eaf15c56cc",
   "metadata": {},
   "outputs": [
    {
     "name": "stdout",
     "output_type": "stream",
     "text": [
      "123, sanmukha villa, \n",
      "marathalii,\n",
      "bangalore\n"
     ]
    }
   ],
   "source": [
    "print(address)"
   ]
  },
  {
   "cell_type": "code",
   "execution_count": 103,
   "id": "a5dcb46c-251b-4ead-9098-6d186a480dae",
   "metadata": {},
   "outputs": [],
   "source": [
    "address = \"\"\"123, sanmukha villa,\\nmarathalii,\\nbangalore\"\"\""
   ]
  },
  {
   "cell_type": "code",
   "execution_count": 104,
   "id": "50da8aa0-4abb-40af-855f-d449583b5cf0",
   "metadata": {},
   "outputs": [
    {
     "data": {
      "text/plain": [
       "'123, sanmukha villa,\\nmarathalii,\\nbangalore'"
      ]
     },
     "execution_count": 104,
     "metadata": {},
     "output_type": "execute_result"
    }
   ],
   "source": [
    "address"
   ]
  },
  {
   "cell_type": "code",
   "execution_count": 105,
   "id": "b55f2900-7b4e-4498-bc8e-52bfce0dcf86",
   "metadata": {},
   "outputs": [
    {
     "name": "stdout",
     "output_type": "stream",
     "text": [
      "123, sanmukha villa,\n",
      "marathalii,\n",
      "bangalore\n"
     ]
    }
   ],
   "source": [
    "print(address) #\\n  >> to insert a new line character"
   ]
  },
  {
   "cell_type": "code",
   "execution_count": 106,
   "id": "5e1fbf71-4524-4d48-b2c2-7745faf47287",
   "metadata": {},
   "outputs": [
    {
     "data": {
      "text/plain": [
       "'Name\\tAge\\tGrade\\nAjay\\t21\\tA\\nBijay\\t22\\tA+'"
      ]
     },
     "execution_count": 106,
     "metadata": {},
     "output_type": "execute_result"
    }
   ],
   "source": [
    "# \\t >> tab >> it will create four spaces\n",
    "table = \"Name\\tAge\\tGrade\\nAjay\\t21\\tA\\nBijay\\t22\\tA+\"\n",
    "table"
   ]
  },
  {
   "cell_type": "code",
   "execution_count": 107,
   "id": "cfc893cf-33b8-4b0b-ac9d-a21f8dbcee5b",
   "metadata": {},
   "outputs": [
    {
     "name": "stdout",
     "output_type": "stream",
     "text": [
      "Name\tAge\tGrade\n",
      "Ajay\t21\tA\n",
      "Bijay\t22\tA+\n"
     ]
    }
   ],
   "source": [
    "print(table)"
   ]
  },
  {
   "cell_type": "code",
   "execution_count": 108,
   "id": "1ceecaf2-8019-41d6-8bdc-3770f314db67",
   "metadata": {},
   "outputs": [
    {
     "data": {
      "text/plain": [
       "'C:\\\\USERS\\\\DOWNLOADS\\\\FILES.txt'"
      ]
     },
     "execution_count": 108,
     "metadata": {},
     "output_type": "execute_result"
    }
   ],
   "source": [
    "file_path = \"C:\\\\USERS\\\\DOWNLOADS\\\\FILES.txt\"\n",
    "file_path"
   ]
  },
  {
   "cell_type": "code",
   "execution_count": 109,
   "id": "2d50ef43-3b63-42e6-87f2-2cb1c504127c",
   "metadata": {},
   "outputs": [
    {
     "name": "stdout",
     "output_type": "stream",
     "text": [
      "C:\\USERS\\DOWNLOADS\\FILES.txt\n"
     ]
    }
   ],
   "source": [
    "print(file_path)"
   ]
  },
  {
   "cell_type": "code",
   "execution_count": 110,
   "id": "0621e667-7969-49c8-81ab-e8cc20c11582",
   "metadata": {},
   "outputs": [
    {
     "data": {
      "text/plain": [
       "\"I can't play cricet\""
      ]
     },
     "execution_count": 110,
     "metadata": {},
     "output_type": "execute_result"
    }
   ],
   "source": [
    "# \\' single quuote escape\n",
    "str1 = 'I can\\'t play cricet'\n",
    "str1"
   ]
  },
  {
   "cell_type": "code",
   "execution_count": 111,
   "id": "f6aa2171-5332-45e9-b41c-8566c32d8dbe",
   "metadata": {},
   "outputs": [
    {
     "name": "stdout",
     "output_type": "stream",
     "text": [
      "I can't play cricet\n"
     ]
    }
   ],
   "source": [
    "print(str1)"
   ]
  },
  {
   "cell_type": "code",
   "execution_count": 112,
   "id": "443a4f17-6b66-4920-8ed6-7a96e9bbde77",
   "metadata": {},
   "outputs": [
    {
     "name": "stdout",
     "output_type": "stream",
     "text": [
      "Riya, I am going to delhi\n"
     ]
    }
   ],
   "source": [
    "# carriage return \\r >> moves the cursor to biginning of line\n",
    "print(\"Hello, I am \\rRiya, I am going to delhi\")"
   ]
  },
  {
   "cell_type": "code",
   "execution_count": 113,
   "id": "2318cd90-11da-4f6d-b159-27338ad001cf",
   "metadata": {},
   "outputs": [
    {
     "name": "stdout",
     "output_type": "stream",
     "text": [
      "My name is Riya\n",
      "My name is Priya\n",
      "My name is Sujata\n"
     ]
    }
   ],
   "source": [
    "# string formatting >> creating string with placeholder for variables\n",
    "print(\"My name is Riya\")\n",
    "print(\"My name is Priya\")\n",
    "print(\"My name is Sujata\")"
   ]
  },
  {
   "cell_type": "code",
   "execution_count": 114,
   "id": "a1d1d26f-bfb6-47e3-8a49-cec826753d96",
   "metadata": {},
   "outputs": [
    {
     "name": "stdout",
     "output_type": "stream",
     "text": [
      "hello Riya, how are you?\n"
     ]
    }
   ],
   "source": [
    "name = \"Riya\"\n",
    "greetings = f\"hello {name}, how are you?\"\n",
    "print(greetings)"
   ]
  },
  {
   "cell_type": "code",
   "execution_count": 115,
   "id": "e167b4f2-67d2-4b98-9c03-7049db0bae12",
   "metadata": {},
   "outputs": [
    {
     "name": "stdout",
     "output_type": "stream",
     "text": [
      "Hello PW Skills,wish you a wonderful day\n"
     ]
    }
   ],
   "source": [
    "# string formatting\n",
    "name = \"PW Skills\"\n",
    "greetings = \"Hello %s,wish you a wonderful day\"%name\n",
    "print(greetings)"
   ]
  },
  {
   "cell_type": "code",
   "execution_count": 116,
   "id": "6af2dc78-b26c-4f16-b070-342017e50de6",
   "metadata": {},
   "outputs": [
    {
     "name": "stdout",
     "output_type": "stream",
     "text": [
      "Hello,Ajay welcome to Data Science\n"
     ]
    }
   ],
   "source": [
    "#.format\n",
    "tempelate = \"Hello,{} welcome to {}\"\n",
    "message = tempelate.format(\"Ajay\",\"Data Science\")\n",
    "print(message)"
   ]
  },
  {
   "cell_type": "code",
   "execution_count": 117,
   "id": "4f358712-a9d1-4acf-bd64-c78f0e6fd6a5",
   "metadata": {},
   "outputs": [
    {
     "data": {
      "text/plain": [
       "'My course is pw data + frontend and its duration is 4 years.'"
      ]
     },
     "execution_count": 117,
     "metadata": {},
     "output_type": "execute_result"
    }
   ],
   "source": [
    "# f string (formatted string literals)\n",
    "course = \"pw data + frontend\"\n",
    "duration = 4 \n",
    "f\"My course is {course} and its duration is {duration} years.\""
   ]
  },
  {
   "cell_type": "code",
   "execution_count": 118,
   "id": "be6cdf1d-4b29-4d78-a968-01b609bca879",
   "metadata": {},
   "outputs": [
    {
     "name": "stdout",
     "output_type": "stream",
     "text": [
      "Hello User Ajay, Today is 2024-06-03 post.\n"
     ]
    }
   ],
   "source": [
    "user_name = \"Ajay\"\n",
    "post_date = \"2024-06-03\"\n",
    "\n",
    "print(f\"Hello User {user_name}, Today is {post_date} post.\")"
   ]
  },
  {
   "cell_type": "code",
   "execution_count": 119,
   "id": "db3c4e08-4f43-4528-9156-506b163a96f2",
   "metadata": {},
   "outputs": [
    {
     "data": {
      "text/plain": [
       "'30 C is equals to 86.0F'"
      ]
     },
     "execution_count": 119,
     "metadata": {},
     "output_type": "execute_result"
    }
   ],
   "source": [
    "celsius = 30\n",
    "f\"{celsius} C is equals to {(celsius * 9 /5)+32}F\""
   ]
  },
  {
   "cell_type": "code",
   "execution_count": 120,
   "id": "4baf5e80-9a33-4af4-a777-e9620cec518c",
   "metadata": {},
   "outputs": [
    {
     "data": {
      "text/plain": [
       "True"
      ]
     },
     "execution_count": 120,
     "metadata": {},
     "output_type": "execute_result"
    }
   ],
   "source": [
    "str1 = \"pwskills\"\n",
    "str1.startswith(\"p\")"
   ]
  },
  {
   "cell_type": "code",
   "execution_count": 121,
   "id": "0f725340-1e3d-476f-80ae-007e5ec76f23",
   "metadata": {},
   "outputs": [
    {
     "data": {
      "text/plain": [
       "True"
      ]
     },
     "execution_count": 121,
     "metadata": {},
     "output_type": "execute_result"
    }
   ],
   "source": [
    "str1 = \"pwskills\"\n",
    "str1.startswith(\"pws\")"
   ]
  },
  {
   "cell_type": "code",
   "execution_count": 122,
   "id": "f28547cf-2db9-4fcb-a41e-dda361d0c772",
   "metadata": {},
   "outputs": [
    {
     "data": {
      "text/plain": [
       "False"
      ]
     },
     "execution_count": 122,
     "metadata": {},
     "output_type": "execute_result"
    }
   ],
   "source": [
    "str1 = \"pwskills\"\n",
    "str1.startswith(\"aws\")"
   ]
  },
  {
   "cell_type": "code",
   "execution_count": 124,
   "id": "4ed4819d-7ba8-43ff-95b5-71909e5cc5d6",
   "metadata": {},
   "outputs": [
    {
     "data": {
      "text/plain": [
       "True"
      ]
     },
     "execution_count": 124,
     "metadata": {},
     "output_type": "execute_result"
    }
   ],
   "source": [
    "str1.endswith(\"lls\")"
   ]
  },
  {
   "cell_type": "code",
   "execution_count": 125,
   "id": "18340291-b12f-4211-a7b8-5344ac2b5ca6",
   "metadata": {},
   "outputs": [
    {
     "data": {
      "text/plain": [
       "False"
      ]
     },
     "execution_count": 125,
     "metadata": {},
     "output_type": "execute_result"
    }
   ],
   "source": [
    "str1.endswith(\"lly\")"
   ]
  },
  {
   "cell_type": "code",
   "execution_count": 126,
   "id": "d3a7ee9f-e44e-43fd-8e26-970ecfb44cc0",
   "metadata": {},
   "outputs": [
    {
     "data": {
      "text/plain": [
       "True"
      ]
     },
     "execution_count": 126,
     "metadata": {},
     "output_type": "execute_result"
    }
   ],
   "source": [
    "a = \"123abc\"\n",
    "a.isalnum()"
   ]
  },
  {
   "cell_type": "code",
   "execution_count": 127,
   "id": "3666ec2b-def9-4460-b5d4-a43ed43c5650",
   "metadata": {},
   "outputs": [
    {
     "data": {
      "text/plain": [
       "True"
      ]
     },
     "execution_count": 127,
     "metadata": {},
     "output_type": "execute_result"
    }
   ],
   "source": [
    "a = \"Abs\"\n",
    "a.isalnum()"
   ]
  },
  {
   "cell_type": "code",
   "execution_count": 131,
   "id": "2f185eca-9778-450a-90ce-39076884e8b5",
   "metadata": {},
   "outputs": [
    {
     "data": {
      "text/plain": [
       "True"
      ]
     },
     "execution_count": 131,
     "metadata": {},
     "output_type": "execute_result"
    }
   ],
   "source": [
    "a = \"123\"\n",
    "a.isalnum()"
   ]
  },
  {
   "cell_type": "code",
   "execution_count": 132,
   "id": "0980e5f9-8a8f-490e-bb70-571fd5078362",
   "metadata": {},
   "outputs": [
    {
     "data": {
      "text/plain": [
       "8"
      ]
     },
     "execution_count": 132,
     "metadata": {},
     "output_type": "execute_result"
    }
   ],
   "source": [
    "s = \"pwskills\"\n",
    "len(s)"
   ]
  },
  {
   "cell_type": "code",
   "execution_count": 133,
   "id": "d0b497aa-f946-4d3e-8a31-1b7b8edcc34f",
   "metadata": {},
   "outputs": [
    {
     "name": "stdout",
     "output_type": "stream",
     "text": [
      "p\n",
      "w\n",
      "s\n",
      "k\n",
      "i\n",
      "l\n",
      "l\n",
      "s\n",
      "8\n"
     ]
    }
   ],
   "source": [
    "count = 0\n",
    "for i in s:\n",
    "    print(i)\n",
    "    count = count + 1\n",
    "print(count)"
   ]
  },
  {
   "cell_type": "code",
   "execution_count": 134,
   "id": "0a9e8aac-ac32-4631-92f7-8ed63d7e44ee",
   "metadata": {},
   "outputs": [
    {
     "data": {
      "text/plain": [
       "8"
      ]
     },
     "execution_count": 134,
     "metadata": {},
     "output_type": "execute_result"
    }
   ],
   "source": [
    "count"
   ]
  },
  {
   "cell_type": "code",
   "execution_count": null,
   "id": "e540d0f7-eacc-4797-975e-abad8dc7ce3c",
   "metadata": {},
   "outputs": [],
   "source": []
  }
 ],
 "metadata": {
  "kernelspec": {
   "display_name": "Python 3 (ipykernel)",
   "language": "python",
   "name": "python3"
  },
  "language_info": {
   "codemirror_mode": {
    "name": "ipython",
    "version": 3
   },
   "file_extension": ".py",
   "mimetype": "text/x-python",
   "name": "python",
   "nbconvert_exporter": "python",
   "pygments_lexer": "ipython3",
   "version": "3.10.13"
  }
 },
 "nbformat": 4,
 "nbformat_minor": 5
}
