{
 "cells": [
  {
   "cell_type": "code",
   "execution_count": 1,
   "id": "3f4bd06c",
   "metadata": {},
   "outputs": [],
   "source": [
    "# Lambda function >> Anonymus function and short hand function\n",
    "# syntax \n",
    "# lambda arguments : expression >> no need of return statement and def keyword"
   ]
  },
  {
   "cell_type": "code",
   "execution_count": 2,
   "id": "11298311",
   "metadata": {},
   "outputs": [
    {
     "data": {
      "text/plain": [
       "4"
      ]
     },
     "execution_count": 2,
     "metadata": {},
     "output_type": "execute_result"
    }
   ],
   "source": [
    "def square(x):\n",
    "    return x**2\n",
    "square(2)"
   ]
  },
  {
   "cell_type": "code",
   "execution_count": 3,
   "id": "302cc93d",
   "metadata": {},
   "outputs": [],
   "source": [
    "sq_lambda = lambda x : x**2"
   ]
  },
  {
   "cell_type": "code",
   "execution_count": 4,
   "id": "abe8de35",
   "metadata": {},
   "outputs": [
    {
     "data": {
      "text/plain": [
       "4"
      ]
     },
     "execution_count": 4,
     "metadata": {},
     "output_type": "execute_result"
    }
   ],
   "source": [
    "sq_lambda(2)"
   ]
  },
  {
   "cell_type": "code",
   "execution_count": 5,
   "id": "bd7e1dce",
   "metadata": {},
   "outputs": [],
   "source": [
    "add = lambda a,b : a+b"
   ]
  },
  {
   "cell_type": "code",
   "execution_count": 6,
   "id": "8ad54a5e",
   "metadata": {},
   "outputs": [
    {
     "data": {
      "text/plain": [
       "7"
      ]
     },
     "execution_count": 6,
     "metadata": {},
     "output_type": "execute_result"
    }
   ],
   "source": [
    "add(2,5)"
   ]
  },
  {
   "cell_type": "code",
   "execution_count": 7,
   "id": "d8015f13",
   "metadata": {},
   "outputs": [
    {
     "data": {
      "text/plain": [
       "True"
      ]
     },
     "execution_count": 7,
     "metadata": {},
     "output_type": "execute_result"
    }
   ],
   "source": [
    "is_even = lambda x : x%2 == 0\n",
    "is_even(4)"
   ]
  },
  {
   "cell_type": "code",
   "execution_count": 8,
   "id": "576379a9",
   "metadata": {},
   "outputs": [
    {
     "data": {
      "text/plain": [
       "['Python', 'Data Science', 'Ajay']"
      ]
     },
     "execution_count": 8,
     "metadata": {},
     "output_type": "execute_result"
    }
   ],
   "source": [
    "x = [\"Python\",\"Data Science\",\"Ajay\"]\n",
    "x"
   ]
  },
  {
   "cell_type": "code",
   "execution_count": 9,
   "id": "ebd33947",
   "metadata": {},
   "outputs": [
    {
     "data": {
      "text/plain": [
       "['Ajay', 'Data Science', 'Python']"
      ]
     },
     "execution_count": 9,
     "metadata": {},
     "output_type": "execute_result"
    }
   ],
   "source": [
    "sorted(x)"
   ]
  },
  {
   "cell_type": "code",
   "execution_count": 10,
   "id": "d08cfcd3",
   "metadata": {},
   "outputs": [
    {
     "data": {
      "text/plain": [
       "4"
      ]
     },
     "execution_count": 10,
     "metadata": {},
     "output_type": "execute_result"
    }
   ],
   "source": [
    "# sort the list based on length of element of a list\n",
    "le = lambda y : len(y)\n",
    "le(\"Ajay\")"
   ]
  },
  {
   "cell_type": "code",
   "execution_count": 11,
   "id": "22f555aa",
   "metadata": {},
   "outputs": [
    {
     "data": {
      "text/plain": [
       "['Ajay', 'Python', 'Data Science']"
      ]
     },
     "execution_count": 11,
     "metadata": {},
     "output_type": "execute_result"
    }
   ],
   "source": [
    "sorted(x,key = le)"
   ]
  },
  {
   "cell_type": "code",
   "execution_count": 13,
   "id": "c2381a8d",
   "metadata": {},
   "outputs": [
    {
     "data": {
      "text/plain": [
       "[0, 1, 1, 2, 3, 5, 8, 13, 21, 34]"
      ]
     },
     "execution_count": 13,
     "metadata": {},
     "output_type": "execute_result"
    }
   ],
   "source": [
    "fib = lambda n: n if n<=1 else fib(n-1) + fib(n-2)\n",
    "[fib(i) for i in range(10)]"
   ]
  },
  {
   "cell_type": "code",
   "execution_count": 14,
   "id": "f3ab362e",
   "metadata": {},
   "outputs": [],
   "source": [
    "# factorial 5"
   ]
  },
  {
   "cell_type": "code",
   "execution_count": 15,
   "id": "db489048",
   "metadata": {},
   "outputs": [],
   "source": [
    "def fact_num(n):\n",
    "    if n == 0:\n",
    "        return 1\n",
    "    else:\n",
    "        return n*fact_num(n-1)"
   ]
  },
  {
   "cell_type": "code",
   "execution_count": 16,
   "id": "8230d67f",
   "metadata": {},
   "outputs": [
    {
     "data": {
      "text/plain": [
       "120"
      ]
     },
     "execution_count": 16,
     "metadata": {},
     "output_type": "execute_result"
    }
   ],
   "source": [
    "fact_num(5)"
   ]
  },
  {
   "cell_type": "code",
   "execution_count": 17,
   "id": "940332f7",
   "metadata": {},
   "outputs": [
    {
     "data": {
      "text/plain": [
       "120"
      ]
     },
     "execution_count": 17,
     "metadata": {},
     "output_type": "execute_result"
    }
   ],
   "source": [
    "fact = lambda n : 1 if n == 0 else n* fact(n-1)\n",
    "fact(5)"
   ]
  },
  {
   "cell_type": "code",
   "execution_count": 18,
   "id": "d429ef27",
   "metadata": {},
   "outputs": [],
   "source": [
    "# map function >> executes a specified function for each of item of an iterable\n",
    "# syntax >> map(func, *iterables)"
   ]
  },
  {
   "cell_type": "code",
   "execution_count": 19,
   "id": "2a80b1e0",
   "metadata": {},
   "outputs": [],
   "source": [
    "l = [1,2,3,4,5]\n",
    "def square(n):\n",
    "    sq = []\n",
    "    for i in l:\n",
    "        sq.append(i**2)\n",
    "    return sq"
   ]
  },
  {
   "cell_type": "code",
   "execution_count": 20,
   "id": "41dab4fe",
   "metadata": {},
   "outputs": [
    {
     "data": {
      "text/plain": [
       "[1, 4, 9, 16, 25]"
      ]
     },
     "execution_count": 20,
     "metadata": {},
     "output_type": "execute_result"
    }
   ],
   "source": [
    "square(l)"
   ]
  },
  {
   "cell_type": "code",
   "execution_count": 21,
   "id": "12425fb2",
   "metadata": {},
   "outputs": [],
   "source": [
    "def sq(x):\n",
    "    return x**2"
   ]
  },
  {
   "cell_type": "code",
   "execution_count": 22,
   "id": "e39669dd",
   "metadata": {},
   "outputs": [],
   "source": [
    "l = [1,2,3,4,5]"
   ]
  },
  {
   "cell_type": "code",
   "execution_count": 23,
   "id": "e4743e99",
   "metadata": {},
   "outputs": [
    {
     "data": {
      "text/plain": [
       "[1, 2, 3, 4, 5]"
      ]
     },
     "execution_count": 23,
     "metadata": {},
     "output_type": "execute_result"
    }
   ],
   "source": [
    "l"
   ]
  },
  {
   "cell_type": "code",
   "execution_count": 28,
   "id": "be3bb40f",
   "metadata": {},
   "outputs": [
    {
     "data": {
      "text/plain": [
       "[1, 4, 9, 16, 25]"
      ]
     },
     "execution_count": 28,
     "metadata": {},
     "output_type": "execute_result"
    }
   ],
   "source": [
    "#map(func,iterable)\n",
    "list(map(sq,l))"
   ]
  },
  {
   "cell_type": "code",
   "execution_count": 29,
   "id": "371ed74f",
   "metadata": {},
   "outputs": [
    {
     "data": {
      "text/plain": [
       "[11, 12, 13, 14, 15]"
      ]
     },
     "execution_count": 29,
     "metadata": {},
     "output_type": "execute_result"
    }
   ],
   "source": [
    "def add(x):\n",
    "    return x + 10\n",
    "list(map(add,l))"
   ]
  },
  {
   "cell_type": "code",
   "execution_count": 31,
   "id": "f3e78465",
   "metadata": {},
   "outputs": [
    {
     "data": {
      "text/plain": [
       "[1, 4, 9, 16, 25]"
      ]
     },
     "execution_count": 31,
     "metadata": {},
     "output_type": "execute_result"
    }
   ],
   "source": [
    "# using lambda function with map\n",
    "# map(lambds_func,iterables)\n",
    "list(map(lambda x: x**2,l))"
   ]
  },
  {
   "cell_type": "code",
   "execution_count": 32,
   "id": "5adba089",
   "metadata": {},
   "outputs": [
    {
     "data": {
      "text/plain": [
       "[11, 12, 13, 14, 15]"
      ]
     },
     "execution_count": 32,
     "metadata": {},
     "output_type": "execute_result"
    }
   ],
   "source": [
    "list(map(lambda x : x+10,l))"
   ]
  },
  {
   "cell_type": "code",
   "execution_count": 33,
   "id": "df98c04a",
   "metadata": {},
   "outputs": [
    {
     "data": {
      "text/plain": [
       "[1, 2, 3]"
      ]
     },
     "execution_count": 33,
     "metadata": {},
     "output_type": "execute_result"
    }
   ],
   "source": [
    "l = [\"1\",\"2\",\"3\"]\n",
    "list(map(lambda x : int(x),l))"
   ]
  },
  {
   "cell_type": "code",
   "execution_count": 34,
   "id": "b3b46dfc",
   "metadata": {},
   "outputs": [
    {
     "data": {
      "text/plain": [
       "[101, 202, 303, 404]"
      ]
     },
     "execution_count": 34,
     "metadata": {},
     "output_type": "execute_result"
    }
   ],
   "source": [
    "l1 = [100,200,300,400]\n",
    "l2 = [1,2,3,4]\n",
    "list(map(lambda x,y : x+y,l1,l2))"
   ]
  },
  {
   "cell_type": "code",
   "execution_count": 35,
   "id": "b3068647",
   "metadata": {},
   "outputs": [
    {
     "data": {
      "text/plain": [
       "['P', 'W', 'S', 'K', 'I', 'L', 'L', 'S']"
      ]
     },
     "execution_count": 35,
     "metadata": {},
     "output_type": "execute_result"
    }
   ],
   "source": [
    "s = \"pwskills\"\n",
    "list(map(lambda x : x.upper() ,s))"
   ]
  },
  {
   "cell_type": "code",
   "execution_count": 37,
   "id": "e27b53a6",
   "metadata": {},
   "outputs": [
    {
     "data": {
      "text/plain": [
       "['Python', 'Ajay']"
      ]
     },
     "execution_count": 37,
     "metadata": {},
     "output_type": "execute_result"
    }
   ],
   "source": [
    "words = [\"python\",\"ajay\"]\n",
    "list(map(str.capitalize,words))"
   ]
  },
  {
   "cell_type": "code",
   "execution_count": 38,
   "id": "3e4aa63d",
   "metadata": {},
   "outputs": [
    {
     "data": {
      "text/plain": [
       "[4, 3, 2, 2]"
      ]
     },
     "execution_count": 38,
     "metadata": {},
     "output_type": "execute_result"
    }
   ],
   "source": [
    "grades = [\"A\",\"B\",\"C\",\"D\"]\n",
    "list(map(lambda grade: 4 if grade == \"A\" else (3 if grade == \"B\" else 2),grades))"
   ]
  },
  {
   "cell_type": "code",
   "execution_count": 40,
   "id": "34ac67cc",
   "metadata": {},
   "outputs": [
    {
     "data": {
      "text/plain": [
       "25"
      ]
     },
     "execution_count": 40,
     "metadata": {},
     "output_type": "execute_result"
    }
   ],
   "source": [
    "# reduce >> folding/reduction\n",
    "from functools import reduce\n",
    "l = [2,1,3,4,4,5,6]\n",
    "# syntax\n",
    "# reduce(func,iterable)\n",
    "# reduce will always take two arguments in function\n",
    "reduce(lambda x,y:x+y,l)"
   ]
  },
  {
   "cell_type": "code",
   "execution_count": 41,
   "id": "21ea664a",
   "metadata": {},
   "outputs": [
    {
     "ename": "TypeError",
     "evalue": "reduce() of empty iterable with no initial value",
     "output_type": "error",
     "traceback": [
      "\u001b[1;31m---------------------------------------------------------------------------\u001b[0m",
      "\u001b[1;31mTypeError\u001b[0m                                 Traceback (most recent call last)",
      "Cell \u001b[1;32mIn[41], line 1\u001b[0m\n\u001b[1;32m----> 1\u001b[0m reduce(\u001b[38;5;28;01mlambda\u001b[39;00m x,y:x\u001b[38;5;241m+\u001b[39my,[])\n",
      "\u001b[1;31mTypeError\u001b[0m: reduce() of empty iterable with no initial value"
     ]
    }
   ],
   "source": [
    "reduce(lambda x,y:x+y,[])"
   ]
  },
  {
   "cell_type": "code",
   "execution_count": 42,
   "id": "9a702d21",
   "metadata": {},
   "outputs": [
    {
     "data": {
      "text/plain": [
       "2880"
      ]
     },
     "execution_count": 42,
     "metadata": {},
     "output_type": "execute_result"
    }
   ],
   "source": [
    "reduce(lambda x,y:x*y,l)"
   ]
  },
  {
   "cell_type": "code",
   "execution_count": 43,
   "id": "a8829c9d",
   "metadata": {},
   "outputs": [
    {
     "data": {
      "text/plain": [
       "'Data Science Courses'"
      ]
     },
     "execution_count": 43,
     "metadata": {},
     "output_type": "execute_result"
    }
   ],
   "source": [
    "words = [\"Data\",\"Science\",\"Courses\"]\n",
    "reduce(lambda x,y: x+ \" \"+y,words)"
   ]
  },
  {
   "cell_type": "code",
   "execution_count": 46,
   "id": "f1a2ab37",
   "metadata": {},
   "outputs": [
    {
     "data": {
      "text/plain": [
       "10000"
      ]
     },
     "execution_count": 46,
     "metadata": {},
     "output_type": "execute_result"
    }
   ],
   "source": [
    "# the highest value at each stage you are comparing x and y\n",
    "numbers = [1,2,3,100,1000,6,10000]\n",
    "reduce(lambda x,y : x if x>y else y,numbers)"
   ]
  },
  {
   "cell_type": "code",
   "execution_count": 47,
   "id": "dfbdce16",
   "metadata": {},
   "outputs": [],
   "source": [
    "def factorial(n):\n",
    "    return reduce(lambda x,y : x*y,range(1,n+1))"
   ]
  },
  {
   "cell_type": "code",
   "execution_count": 48,
   "id": "f3c8578c",
   "metadata": {},
   "outputs": [
    {
     "data": {
      "text/plain": [
       "120"
      ]
     },
     "execution_count": 48,
     "metadata": {},
     "output_type": "execute_result"
    }
   ],
   "source": [
    "factorial(5)"
   ]
  },
  {
   "cell_type": "code",
   "execution_count": 49,
   "id": "1a50f4e0",
   "metadata": {},
   "outputs": [],
   "source": [
    "# filter function >> it is used to filter elements from an iterable based on some condition\n",
    "# syntax\n",
    "# filter(func,iterable)"
   ]
  },
  {
   "cell_type": "code",
   "execution_count": 50,
   "id": "8aeff574",
   "metadata": {},
   "outputs": [
    {
     "data": {
      "text/plain": [
       "[2, 1, 3, 4, 4, 5, 6]"
      ]
     },
     "execution_count": 50,
     "metadata": {},
     "output_type": "execute_result"
    }
   ],
   "source": [
    "l"
   ]
  },
  {
   "cell_type": "code",
   "execution_count": 52,
   "id": "8371b572",
   "metadata": {},
   "outputs": [
    {
     "data": {
      "text/plain": [
       "[2, 4, 4, 6]"
      ]
     },
     "execution_count": 52,
     "metadata": {},
     "output_type": "execute_result"
    }
   ],
   "source": [
    "# filter even numbers\n",
    "list(filter(lambda x : x%2 == 0,l))"
   ]
  },
  {
   "cell_type": "code",
   "execution_count": 53,
   "id": "048c12d6",
   "metadata": {},
   "outputs": [
    {
     "data": {
      "text/plain": [
       "[1, 3, 5]"
      ]
     },
     "execution_count": 53,
     "metadata": {},
     "output_type": "execute_result"
    }
   ],
   "source": [
    "# filter odd numbers\n",
    "list(filter(lambda x : x%2 != 0,l))"
   ]
  },
  {
   "cell_type": "code",
   "execution_count": 54,
   "id": "0c8a51f6",
   "metadata": {},
   "outputs": [
    {
     "data": {
      "text/plain": [
       "[-1, -2]"
      ]
     },
     "execution_count": 54,
     "metadata": {},
     "output_type": "execute_result"
    }
   ],
   "source": [
    "# filter negative numbers\n",
    "l1 = [-1,-2,3,4,5]\n",
    "list(filter(lambda x : x<0,l1))"
   ]
  },
  {
   "cell_type": "code",
   "execution_count": 55,
   "id": "75cb3565",
   "metadata": {},
   "outputs": [
    {
     "data": {
      "text/plain": [
       "[3, 4, 5]"
      ]
     },
     "execution_count": 55,
     "metadata": {},
     "output_type": "execute_result"
    }
   ],
   "source": [
    "# filter positive numbers\n",
    "l1 = [-1,-2,3,4,5]\n",
    "list(filter(lambda x : x>0,l1))"
   ]
  },
  {
   "cell_type": "code",
   "execution_count": 56,
   "id": "e716f784",
   "metadata": {},
   "outputs": [
    {
     "data": {
      "text/plain": [
       "['pwskills', 'Data Science']"
      ]
     },
     "execution_count": 56,
     "metadata": {},
     "output_type": "execute_result"
    }
   ],
   "source": [
    "s = [\"Ajay\",\"pwskills\",\"Data Science\"]\n",
    "list(filter(lambda x : len(x) > 4,s))"
   ]
  },
  {
   "cell_type": "code",
   "execution_count": 57,
   "id": "b0120154",
   "metadata": {},
   "outputs": [],
   "source": [
    "def check_even(num):\n",
    "    if num%2 == 0:\n",
    "        return True\n",
    "    else:\n",
    "        return False"
   ]
  },
  {
   "cell_type": "code",
   "execution_count": 58,
   "id": "6c54935b",
   "metadata": {},
   "outputs": [
    {
     "data": {
      "text/plain": [
       "[2, 4, 6, 8, 10]"
      ]
     },
     "execution_count": 58,
     "metadata": {},
     "output_type": "execute_result"
    }
   ],
   "source": [
    "num = [1,2,4,6,8,9,10,13]\n",
    "list(filter(check_even,num))"
   ]
  },
  {
   "cell_type": "code",
   "execution_count": null,
   "id": "d6b1dead",
   "metadata": {},
   "outputs": [],
   "source": []
  }
 ],
 "metadata": {
  "kernelspec": {
   "display_name": "Python 3 (ipykernel)",
   "language": "python",
   "name": "python3"
  },
  "language_info": {
   "codemirror_mode": {
    "name": "ipython",
    "version": 3
   },
   "file_extension": ".py",
   "mimetype": "text/x-python",
   "name": "python",
   "nbconvert_exporter": "python",
   "pygments_lexer": "ipython3",
   "version": "3.11.5"
  }
 },
 "nbformat": 4,
 "nbformat_minor": 5
}
