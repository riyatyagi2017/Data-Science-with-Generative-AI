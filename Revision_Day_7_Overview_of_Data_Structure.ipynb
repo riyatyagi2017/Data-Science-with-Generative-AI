{
 "cells": [
  {
   "cell_type": "code",
   "execution_count": 1,
   "id": "4910e309-4e57-4031-8767-2c189cd0fd89",
   "metadata": {},
   "outputs": [],
   "source": [
    "# data structure >> way of organizing and storing data so that it can be accessed and manipulated efficiently."
   ]
  },
  {
   "cell_type": "code",
   "execution_count": 2,
   "id": "4480c58e-f866-4c19-8f66-428db1629ae6",
   "metadata": {},
   "outputs": [],
   "source": [
    "# data structure >> string, list,tuples, dictionary, array"
   ]
  },
  {
   "cell_type": "code",
   "execution_count": 3,
   "id": "e0f975ee-97b8-4832-9c57-6525db293df9",
   "metadata": {},
   "outputs": [],
   "source": [
    "# List >> you can store anything in list>> can store hetrogeneous data\n",
    "# list is an ordered collection of elements that can be of any datatype\n",
    "# list are mutable"
   ]
  },
  {
   "cell_type": "code",
   "execution_count": 4,
   "id": "60c5cc30-c607-414a-8b40-aab42ffa058e",
   "metadata": {},
   "outputs": [],
   "source": [
    "num = [1,2,3,4,5]"
   ]
  },
  {
   "cell_type": "code",
   "execution_count": 5,
   "id": "0fe45c92-c071-4b5a-b558-40c44dc73386",
   "metadata": {},
   "outputs": [
    {
     "data": {
      "text/plain": [
       "[1, 2, 3, 4, 5]"
      ]
     },
     "execution_count": 5,
     "metadata": {},
     "output_type": "execute_result"
    }
   ],
   "source": [
    "num"
   ]
  },
  {
   "cell_type": "code",
   "execution_count": 6,
   "id": "e46cc1d2-3d08-498d-bf5a-c94a7d1e8220",
   "metadata": {},
   "outputs": [
    {
     "data": {
      "text/plain": [
       "list"
      ]
     },
     "execution_count": 6,
     "metadata": {},
     "output_type": "execute_result"
    }
   ],
   "source": [
    "type(num)"
   ]
  },
  {
   "cell_type": "code",
   "execution_count": 7,
   "id": "5617fbd3-2fb2-4000-b74c-5de1f4ee2831",
   "metadata": {},
   "outputs": [
    {
     "data": {
      "text/plain": [
       "1"
      ]
     },
     "execution_count": 7,
     "metadata": {},
     "output_type": "execute_result"
    }
   ],
   "source": [
    "num[0]"
   ]
  },
  {
   "cell_type": "code",
   "execution_count": 8,
   "id": "e2597571-3a1c-40ff-a2d5-516047632556",
   "metadata": {},
   "outputs": [
    {
     "data": {
      "text/plain": [
       "2"
      ]
     },
     "execution_count": 8,
     "metadata": {},
     "output_type": "execute_result"
    }
   ],
   "source": [
    "num[1]"
   ]
  },
  {
   "cell_type": "code",
   "execution_count": 9,
   "id": "7a6d5ff7-9f32-40de-a215-7e1a375d0a7d",
   "metadata": {},
   "outputs": [
    {
     "data": {
      "text/plain": [
       "5"
      ]
     },
     "execution_count": 9,
     "metadata": {},
     "output_type": "execute_result"
    }
   ],
   "source": [
    "num[-1]"
   ]
  },
  {
   "cell_type": "code",
   "execution_count": 10,
   "id": "c4f5eb63-0da6-4e76-a0bc-e285e073b565",
   "metadata": {},
   "outputs": [
    {
     "data": {
      "text/plain": [
       "5"
      ]
     },
     "execution_count": 10,
     "metadata": {},
     "output_type": "execute_result"
    }
   ],
   "source": [
    "num[4]"
   ]
  },
  {
   "cell_type": "code",
   "execution_count": 11,
   "id": "21585b2e-e437-4939-9aad-571af4bcc7b4",
   "metadata": {},
   "outputs": [
    {
     "ename": "IndexError",
     "evalue": "list index out of range",
     "output_type": "error",
     "traceback": [
      "\u001b[0;31m---------------------------------------------------------------------------\u001b[0m",
      "\u001b[0;31mIndexError\u001b[0m                                Traceback (most recent call last)",
      "Cell \u001b[0;32mIn[11], line 1\u001b[0m\n\u001b[0;32m----> 1\u001b[0m \u001b[43mnum\u001b[49m\u001b[43m[\u001b[49m\u001b[38;5;241;43m5\u001b[39;49m\u001b[43m]\u001b[49m \u001b[38;5;66;03m# list index out of range\u001b[39;00m\n",
      "\u001b[0;31mIndexError\u001b[0m: list index out of range"
     ]
    }
   ],
   "source": [
    "num[5] # list index out of range"
   ]
  },
  {
   "cell_type": "code",
   "execution_count": null,
   "id": "8d71ec15-6113-4e0a-88c3-674b2ba78e65",
   "metadata": {},
   "outputs": [],
   "source": [
    "a = [1,2,3.2,\"baingan\",\"tomato\",\"banana\",True,False,3+7j]"
   ]
  },
  {
   "cell_type": "code",
   "execution_count": 12,
   "id": "e316b059-3e6e-4725-a849-8aca971617bc",
   "metadata": {},
   "outputs": [
    {
     "ename": "NameError",
     "evalue": "name 'a' is not defined",
     "output_type": "error",
     "traceback": [
      "\u001b[0;31m---------------------------------------------------------------------------\u001b[0m",
      "\u001b[0;31mNameError\u001b[0m                                 Traceback (most recent call last)",
      "Cell \u001b[0;32mIn[12], line 1\u001b[0m\n\u001b[0;32m----> 1\u001b[0m \u001b[43ma\u001b[49m \u001b[38;5;66;03m#list can story any kind of datatype\u001b[39;00m\n",
      "\u001b[0;31mNameError\u001b[0m: name 'a' is not defined"
     ]
    }
   ],
   "source": [
    "a #list can story any kind of datatype"
   ]
  },
  {
   "cell_type": "code",
   "execution_count": 13,
   "id": "d7e94bf3-47f1-43e4-a585-7d949a977314",
   "metadata": {},
   "outputs": [
    {
     "ename": "NameError",
     "evalue": "name 'a' is not defined",
     "output_type": "error",
     "traceback": [
      "\u001b[0;31m---------------------------------------------------------------------------\u001b[0m",
      "\u001b[0;31mNameError\u001b[0m                                 Traceback (most recent call last)",
      "Cell \u001b[0;32mIn[13], line 1\u001b[0m\n\u001b[0;32m----> 1\u001b[0m \u001b[38;5;28mtype\u001b[39m(\u001b[43ma\u001b[49m)\n",
      "\u001b[0;31mNameError\u001b[0m: name 'a' is not defined"
     ]
    }
   ],
   "source": [
    "type(a)"
   ]
  },
  {
   "cell_type": "code",
   "execution_count": 14,
   "id": "df4c464f-7c3c-4601-839e-ef6c4a9fd981",
   "metadata": {},
   "outputs": [],
   "source": [
    "# adding element to the list"
   ]
  },
  {
   "cell_type": "code",
   "execution_count": 15,
   "id": "64f71cf3-c2a0-496b-91f9-8f8b08872074",
   "metadata": {},
   "outputs": [
    {
     "ename": "NameError",
     "evalue": "name 'a' is not defined",
     "output_type": "error",
     "traceback": [
      "\u001b[0;31m---------------------------------------------------------------------------\u001b[0m",
      "\u001b[0;31mNameError\u001b[0m                                 Traceback (most recent call last)",
      "Cell \u001b[0;32mIn[15], line 1\u001b[0m\n\u001b[0;32m----> 1\u001b[0m \u001b[43ma\u001b[49m\u001b[38;5;241m.\u001b[39mappend(\u001b[38;5;124m\"\u001b[39m\u001b[38;5;124mOrange\u001b[39m\u001b[38;5;124m\"\u001b[39m)\n",
      "\u001b[0;31mNameError\u001b[0m: name 'a' is not defined"
     ]
    }
   ],
   "source": [
    "a.append(\"Orange\")"
   ]
  },
  {
   "cell_type": "code",
   "execution_count": 16,
   "id": "02a90930-2d95-4f26-a2fd-f875be46bec9",
   "metadata": {},
   "outputs": [
    {
     "ename": "NameError",
     "evalue": "name 'a' is not defined",
     "output_type": "error",
     "traceback": [
      "\u001b[0;31m---------------------------------------------------------------------------\u001b[0m",
      "\u001b[0;31mNameError\u001b[0m                                 Traceback (most recent call last)",
      "Cell \u001b[0;32mIn[16], line 1\u001b[0m\n\u001b[0;32m----> 1\u001b[0m \u001b[43ma\u001b[49m\n",
      "\u001b[0;31mNameError\u001b[0m: name 'a' is not defined"
     ]
    }
   ],
   "source": [
    "a"
   ]
  },
  {
   "cell_type": "code",
   "execution_count": 17,
   "id": "fe3cddbc-c912-4e05-8444-3b50d6dff80c",
   "metadata": {},
   "outputs": [
    {
     "ename": "NameError",
     "evalue": "name 'a' is not defined",
     "output_type": "error",
     "traceback": [
      "\u001b[0;31m---------------------------------------------------------------------------\u001b[0m",
      "\u001b[0;31mNameError\u001b[0m                                 Traceback (most recent call last)",
      "Cell \u001b[0;32mIn[17], line 1\u001b[0m\n\u001b[0;32m----> 1\u001b[0m \u001b[43ma\u001b[49m\u001b[38;5;241m.\u001b[39mappend(\u001b[38;5;124m\"\u001b[39m\u001b[38;5;124mpwskills\u001b[39m\u001b[38;5;124m\"\u001b[39m)\n",
      "\u001b[0;31mNameError\u001b[0m: name 'a' is not defined"
     ]
    }
   ],
   "source": [
    "a.append(\"pwskills\")"
   ]
  },
  {
   "cell_type": "code",
   "execution_count": 18,
   "id": "5076fef8-dac8-4beb-b00d-48e3dc9aa3a9",
   "metadata": {},
   "outputs": [
    {
     "ename": "NameError",
     "evalue": "name 'a' is not defined",
     "output_type": "error",
     "traceback": [
      "\u001b[0;31m---------------------------------------------------------------------------\u001b[0m",
      "\u001b[0;31mNameError\u001b[0m                                 Traceback (most recent call last)",
      "Cell \u001b[0;32mIn[18], line 1\u001b[0m\n\u001b[0;32m----> 1\u001b[0m \u001b[43ma\u001b[49m\n",
      "\u001b[0;31mNameError\u001b[0m: name 'a' is not defined"
     ]
    }
   ],
   "source": [
    "a"
   ]
  },
  {
   "cell_type": "code",
   "execution_count": 19,
   "id": "2137219a-85e3-41dc-ad71-0a0f11a423a7",
   "metadata": {},
   "outputs": [
    {
     "ename": "NameError",
     "evalue": "name 'a' is not defined",
     "output_type": "error",
     "traceback": [
      "\u001b[0;31m---------------------------------------------------------------------------\u001b[0m",
      "\u001b[0;31mNameError\u001b[0m                                 Traceback (most recent call last)",
      "Cell \u001b[0;32mIn[19], line 1\u001b[0m\n\u001b[0;32m----> 1\u001b[0m \u001b[43ma\u001b[49m\u001b[38;5;241m.\u001b[39mremove(\u001b[38;5;124m\"\u001b[39m\u001b[38;5;124mpwskills\u001b[39m\u001b[38;5;124m\"\u001b[39m)\n",
      "\u001b[0;31mNameError\u001b[0m: name 'a' is not defined"
     ]
    }
   ],
   "source": [
    "a.remove(\"pwskills\")"
   ]
  },
  {
   "cell_type": "code",
   "execution_count": 20,
   "id": "5fea81e5-06c1-4173-8938-265026fee54e",
   "metadata": {},
   "outputs": [
    {
     "ename": "NameError",
     "evalue": "name 'a' is not defined",
     "output_type": "error",
     "traceback": [
      "\u001b[0;31m---------------------------------------------------------------------------\u001b[0m",
      "\u001b[0;31mNameError\u001b[0m                                 Traceback (most recent call last)",
      "Cell \u001b[0;32mIn[20], line 1\u001b[0m\n\u001b[0;32m----> 1\u001b[0m \u001b[43ma\u001b[49m\n",
      "\u001b[0;31mNameError\u001b[0m: name 'a' is not defined"
     ]
    }
   ],
   "source": [
    "a"
   ]
  },
  {
   "cell_type": "code",
   "execution_count": 21,
   "id": "f7bcf3de-7e1c-44fc-a15a-2e9da85485c6",
   "metadata": {},
   "outputs": [
    {
     "ename": "NameError",
     "evalue": "name 'a' is not defined",
     "output_type": "error",
     "traceback": [
      "\u001b[0;31m---------------------------------------------------------------------------\u001b[0m",
      "\u001b[0;31mNameError\u001b[0m                                 Traceback (most recent call last)",
      "Cell \u001b[0;32mIn[21], line 1\u001b[0m\n\u001b[0;32m----> 1\u001b[0m \u001b[43ma\u001b[49m\u001b[38;5;241m.\u001b[39mremove(\u001b[38;5;124m\"\u001b[39m\u001b[38;5;124mbaingan\u001b[39m\u001b[38;5;124m\"\u001b[39m)\n",
      "\u001b[0;31mNameError\u001b[0m: name 'a' is not defined"
     ]
    }
   ],
   "source": [
    "a.remove(\"baingan\")"
   ]
  },
  {
   "cell_type": "code",
   "execution_count": 22,
   "id": "b02d76a5-bb52-4654-92d2-9ed0a3caa406",
   "metadata": {},
   "outputs": [
    {
     "ename": "NameError",
     "evalue": "name 'a' is not defined",
     "output_type": "error",
     "traceback": [
      "\u001b[0;31m---------------------------------------------------------------------------\u001b[0m",
      "\u001b[0;31mNameError\u001b[0m                                 Traceback (most recent call last)",
      "Cell \u001b[0;32mIn[22], line 1\u001b[0m\n\u001b[0;32m----> 1\u001b[0m \u001b[43ma\u001b[49m\n",
      "\u001b[0;31mNameError\u001b[0m: name 'a' is not defined"
     ]
    }
   ],
   "source": [
    "a"
   ]
  },
  {
   "cell_type": "code",
   "execution_count": 23,
   "id": "c444fa45-267d-468a-b02d-f8fe017dfc54",
   "metadata": {},
   "outputs": [],
   "source": [
    "lis = [[1,2,3],[4,5,6],[7,8,9]]"
   ]
  },
  {
   "cell_type": "code",
   "execution_count": 24,
   "id": "a7e9ac31-3c9f-4044-9f9e-e69d5a0c6ead",
   "metadata": {},
   "outputs": [
    {
     "data": {
      "text/plain": [
       "[[1, 2, 3], [4, 5, 6], [7, 8, 9]]"
      ]
     },
     "execution_count": 24,
     "metadata": {},
     "output_type": "execute_result"
    }
   ],
   "source": [
    "lis"
   ]
  },
  {
   "cell_type": "code",
   "execution_count": 25,
   "id": "41069a85-38cc-4491-8932-cccdb2ee0f73",
   "metadata": {},
   "outputs": [
    {
     "data": {
      "text/plain": [
       "list"
      ]
     },
     "execution_count": 25,
     "metadata": {},
     "output_type": "execute_result"
    }
   ],
   "source": [
    "type(lis)"
   ]
  },
  {
   "cell_type": "code",
   "execution_count": 26,
   "id": "4aba7256-3072-4752-8d52-12fb60e87fa4",
   "metadata": {},
   "outputs": [
    {
     "data": {
      "text/plain": [
       "3"
      ]
     },
     "execution_count": 26,
     "metadata": {},
     "output_type": "execute_result"
    }
   ],
   "source": [
    "lis[0][2]"
   ]
  },
  {
   "cell_type": "code",
   "execution_count": 27,
   "id": "0960aa68-7111-4c0e-8136-922d6eceb075",
   "metadata": {},
   "outputs": [
    {
     "data": {
      "text/plain": [
       "2"
      ]
     },
     "execution_count": 27,
     "metadata": {},
     "output_type": "execute_result"
    }
   ],
   "source": [
    "lis[0][1]"
   ]
  },
  {
   "cell_type": "code",
   "execution_count": 28,
   "id": "bbc6c0df-ed1f-402c-9db5-b8f7a8ab8a9e",
   "metadata": {},
   "outputs": [
    {
     "data": {
      "text/plain": [
       "9"
      ]
     },
     "execution_count": 28,
     "metadata": {},
     "output_type": "execute_result"
    }
   ],
   "source": [
    "lis[2][2]"
   ]
  },
  {
   "cell_type": "code",
   "execution_count": 29,
   "id": "f05acac0-082a-445a-8312-2a285c26669e",
   "metadata": {},
   "outputs": [
    {
     "data": {
      "text/plain": [
       "5"
      ]
     },
     "execution_count": 29,
     "metadata": {},
     "output_type": "execute_result"
    }
   ],
   "source": [
    "lis[1][1]"
   ]
  },
  {
   "cell_type": "code",
   "execution_count": 30,
   "id": "8c03f2af-1ad4-49be-b8b6-97fd35e18071",
   "metadata": {},
   "outputs": [],
   "source": [
    "# list is mutable\n",
    "shopping_list = ['baingan','apple',2,3.4,True]\n",
    "shopping_list[0] = 'Potato'"
   ]
  },
  {
   "cell_type": "code",
   "execution_count": 31,
   "id": "1984341d-3171-44f4-815c-c7cdf18e2020",
   "metadata": {},
   "outputs": [
    {
     "data": {
      "text/plain": [
       "['Potato', 'apple', 2, 3.4, True]"
      ]
     },
     "execution_count": 31,
     "metadata": {},
     "output_type": "execute_result"
    }
   ],
   "source": [
    "shopping_list"
   ]
  },
  {
   "cell_type": "code",
   "execution_count": 32,
   "id": "caf8dd54-5320-42cd-afe8-3bae2d87f107",
   "metadata": {},
   "outputs": [
    {
     "name": "stdout",
     "output_type": "stream",
     "text": [
      "Potato  apple  2  3.4  True  "
     ]
    }
   ],
   "source": [
    "for i in shopping_list:\n",
    "    print(i, end = \"  \")"
   ]
  },
  {
   "cell_type": "code",
   "execution_count": 33,
   "id": "a58de840-3ac8-4d27-863f-326b180e3d75",
   "metadata": {},
   "outputs": [],
   "source": [
    "# Tuples >> Immutable \n",
    "point = (2,3)"
   ]
  },
  {
   "cell_type": "code",
   "execution_count": 34,
   "id": "df81c7d5-06ee-4013-98a2-86a97baccfb8",
   "metadata": {},
   "outputs": [
    {
     "data": {
      "text/plain": [
       "(2, 3)"
      ]
     },
     "execution_count": 34,
     "metadata": {},
     "output_type": "execute_result"
    }
   ],
   "source": [
    "point"
   ]
  },
  {
   "cell_type": "code",
   "execution_count": 35,
   "id": "df185838-a4b2-4117-ab5d-4884401ce03f",
   "metadata": {},
   "outputs": [
    {
     "data": {
      "text/plain": [
       "tuple"
      ]
     },
     "execution_count": 35,
     "metadata": {},
     "output_type": "execute_result"
    }
   ],
   "source": [
    "type(point)"
   ]
  },
  {
   "cell_type": "code",
   "execution_count": 36,
   "id": "19c3af10-2c40-445b-a449-24611390d06f",
   "metadata": {},
   "outputs": [],
   "source": [
    "# use cases of tuple >> adhar card, atm,empid >> u don't want to edit,in this case u will use tple to store the data."
   ]
  },
  {
   "cell_type": "code",
   "execution_count": 37,
   "id": "67b05504-f115-43f5-935c-5a3022028e17",
   "metadata": {},
   "outputs": [],
   "source": [
    "t = (1,2,2.3,True,3+5j,'Riya')# tuple can also store hetrogenous data but it is immutable"
   ]
  },
  {
   "cell_type": "code",
   "execution_count": 38,
   "id": "6725107f-b9b0-4cfe-8981-1f57888a64e4",
   "metadata": {},
   "outputs": [
    {
     "data": {
      "text/plain": [
       "tuple"
      ]
     },
     "execution_count": 38,
     "metadata": {},
     "output_type": "execute_result"
    }
   ],
   "source": [
    "type(t)"
   ]
  },
  {
   "cell_type": "code",
   "execution_count": 39,
   "id": "82e015db-1fa3-404b-a2ab-b95e7de8e82e",
   "metadata": {},
   "outputs": [
    {
     "data": {
      "text/plain": [
       "(1, 2, 2.3, True, (3+5j), 'Riya')"
      ]
     },
     "execution_count": 39,
     "metadata": {},
     "output_type": "execute_result"
    }
   ],
   "source": [
    "t"
   ]
  },
  {
   "cell_type": "code",
   "execution_count": 40,
   "id": "a7ae8095-c0ce-4371-bac9-f0341d0b6325",
   "metadata": {},
   "outputs": [],
   "source": [
    "emp_name = ('Ajay','Ajay1','Riya','Piyush')"
   ]
  },
  {
   "cell_type": "code",
   "execution_count": 41,
   "id": "a3c6c0fa-5d52-4f81-8f13-08f53da70a7f",
   "metadata": {},
   "outputs": [
    {
     "data": {
      "text/plain": [
       "('Ajay', 'Ajay1', 'Riya', 'Piyush')"
      ]
     },
     "execution_count": 41,
     "metadata": {},
     "output_type": "execute_result"
    }
   ],
   "source": [
    "emp_name"
   ]
  },
  {
   "cell_type": "code",
   "execution_count": 42,
   "id": "c47f65e2-ff38-43c4-903a-a6e5c6e5ae5b",
   "metadata": {},
   "outputs": [
    {
     "data": {
      "text/plain": [
       "tuple"
      ]
     },
     "execution_count": 42,
     "metadata": {},
     "output_type": "execute_result"
    }
   ],
   "source": [
    "type(emp_name)"
   ]
  },
  {
   "cell_type": "code",
   "execution_count": 43,
   "id": "af5b046f-c3a5-4c49-9066-654ad27d4089",
   "metadata": {},
   "outputs": [
    {
     "data": {
      "text/plain": [
       "'Ajay'"
      ]
     },
     "execution_count": 43,
     "metadata": {},
     "output_type": "execute_result"
    }
   ],
   "source": [
    "emp_name[0]"
   ]
  },
  {
   "cell_type": "code",
   "execution_count": 44,
   "id": "20d83737-e5c0-45e6-ad48-7e3560ad0ba9",
   "metadata": {},
   "outputs": [
    {
     "data": {
      "text/plain": [
       "'Ajay1'"
      ]
     },
     "execution_count": 44,
     "metadata": {},
     "output_type": "execute_result"
    }
   ],
   "source": [
    "emp_name[1]"
   ]
  },
  {
   "cell_type": "code",
   "execution_count": 45,
   "id": "1906dc77-3797-4ffd-9fa8-31b4a39a1421",
   "metadata": {},
   "outputs": [
    {
     "data": {
      "text/plain": [
       "'Piyush'"
      ]
     },
     "execution_count": 45,
     "metadata": {},
     "output_type": "execute_result"
    }
   ],
   "source": [
    "emp_name[-1]"
   ]
  },
  {
   "cell_type": "code",
   "execution_count": 46,
   "id": "2216323c-7c6c-4543-b339-cb94ff014179",
   "metadata": {},
   "outputs": [
    {
     "ename": "TypeError",
     "evalue": "'tuple' object does not support item assignment",
     "output_type": "error",
     "traceback": [
      "\u001b[0;31m---------------------------------------------------------------------------\u001b[0m",
      "\u001b[0;31mTypeError\u001b[0m                                 Traceback (most recent call last)",
      "Cell \u001b[0;32mIn[46], line 1\u001b[0m\n\u001b[0;32m----> 1\u001b[0m \u001b[43memp_name\u001b[49m\u001b[43m[\u001b[49m\u001b[38;5;241;43m3\u001b[39;49m\u001b[43m]\u001b[49m \u001b[38;5;241m=\u001b[39m \u001b[38;5;124m'\u001b[39m\u001b[38;5;124mRohan\u001b[39m\u001b[38;5;124m'\u001b[39m\u001b[38;5;66;03m#'tuple' object does not support item assignment(immutable)\u001b[39;00m\n",
      "\u001b[0;31mTypeError\u001b[0m: 'tuple' object does not support item assignment"
     ]
    }
   ],
   "source": [
    "emp_name[3] = 'Rohan'#'tuple' object does not support item assignment(immutable)"
   ]
  },
  {
   "cell_type": "code",
   "execution_count": 47,
   "id": "11994239-c994-42cc-8760-06c42b2ba935",
   "metadata": {},
   "outputs": [],
   "source": [
    "box1 = (\"a\",\"b\")\n",
    "box2 = (\"c\",\"d\")\n",
    "choclate_bag = (box1,box2)"
   ]
  },
  {
   "cell_type": "code",
   "execution_count": 48,
   "id": "1d2680fb-2a44-4ad3-8d6b-a48d473ae7d5",
   "metadata": {},
   "outputs": [
    {
     "data": {
      "text/plain": [
       "(('a', 'b'), ('c', 'd'))"
      ]
     },
     "execution_count": 48,
     "metadata": {},
     "output_type": "execute_result"
    }
   ],
   "source": [
    "choclate_bag"
   ]
  },
  {
   "cell_type": "code",
   "execution_count": 49,
   "id": "ee108bc7-2c38-4c0c-a3e2-ab79e45882a6",
   "metadata": {},
   "outputs": [
    {
     "data": {
      "text/plain": [
       "tuple"
      ]
     },
     "execution_count": 49,
     "metadata": {},
     "output_type": "execute_result"
    }
   ],
   "source": [
    "type(choclate_bag)"
   ]
  },
  {
   "cell_type": "code",
   "execution_count": 50,
   "id": "6f79ea8c-3fa6-45b0-b20d-fccdb35068a3",
   "metadata": {},
   "outputs": [
    {
     "name": "stdout",
     "output_type": "stream",
     "text": [
      "a\n",
      "b\n",
      "c\n",
      "d\n"
     ]
    }
   ],
   "source": [
    "for box in choclate_bag:\n",
    "    for choc in box:\n",
    "        print(choc)"
   ]
  },
  {
   "cell_type": "code",
   "execution_count": 51,
   "id": "529ce7f9-5764-40c4-b419-c37c10396791",
   "metadata": {},
   "outputs": [],
   "source": [
    "# sets >> are unordered collection of unique elemnts"
   ]
  },
  {
   "cell_type": "code",
   "execution_count": 52,
   "id": "8834ffcb-cf68-4d19-a54a-e953623318ce",
   "metadata": {},
   "outputs": [],
   "source": [
    "s = {\"red\",\"orange\"}"
   ]
  },
  {
   "cell_type": "code",
   "execution_count": 53,
   "id": "7debbd40-382f-42d0-beef-f6411fba329a",
   "metadata": {},
   "outputs": [
    {
     "data": {
      "text/plain": [
       "set"
      ]
     },
     "execution_count": 53,
     "metadata": {},
     "output_type": "execute_result"
    }
   ],
   "source": [
    "type(s)"
   ]
  },
  {
   "cell_type": "code",
   "execution_count": 54,
   "id": "a3c2ad62-22bf-4b1f-b354-79570bb7fe39",
   "metadata": {},
   "outputs": [],
   "source": [
    "s = {\"red\",\"orange\",\"red\",\"blue\",\"orange\"}"
   ]
  },
  {
   "cell_type": "code",
   "execution_count": 55,
   "id": "b84fce0e-9592-4f93-9816-d50ca57e9022",
   "metadata": {},
   "outputs": [
    {
     "data": {
      "text/plain": [
       "{'blue', 'orange', 'red'}"
      ]
     },
     "execution_count": 55,
     "metadata": {},
     "output_type": "execute_result"
    }
   ],
   "source": [
    "s"
   ]
  },
  {
   "cell_type": "code",
   "execution_count": 56,
   "id": "cb035d22-b50f-4f69-9b64-e12edcb5e570",
   "metadata": {},
   "outputs": [],
   "source": [
    "s ={\"a\",\"a\",1,1.1,1.1,1.1,2,2,2}"
   ]
  },
  {
   "cell_type": "code",
   "execution_count": 57,
   "id": "8113016f-f2ff-407f-95bb-e1939c5f576d",
   "metadata": {},
   "outputs": [
    {
     "data": {
      "text/plain": [
       "{1, 1.1, 2, 'a'}"
      ]
     },
     "execution_count": 57,
     "metadata": {},
     "output_type": "execute_result"
    }
   ],
   "source": [
    "s"
   ]
  },
  {
   "cell_type": "code",
   "execution_count": 58,
   "id": "28f13631-87a6-437e-93b4-c74b65f3e276",
   "metadata": {},
   "outputs": [
    {
     "ename": "TypeError",
     "evalue": "'set' object is not subscriptable",
     "output_type": "error",
     "traceback": [
      "\u001b[0;31m---------------------------------------------------------------------------\u001b[0m",
      "\u001b[0;31mTypeError\u001b[0m                                 Traceback (most recent call last)",
      "Cell \u001b[0;32mIn[58], line 1\u001b[0m\n\u001b[0;32m----> 1\u001b[0m \u001b[43ms\u001b[49m\u001b[43m[\u001b[49m\u001b[38;5;241;43m0\u001b[39;49m\u001b[43m]\u001b[49m \u001b[38;5;66;03m# error >> there is no concept of indexing as set are unordered and unique\u001b[39;00m\n",
      "\u001b[0;31mTypeError\u001b[0m: 'set' object is not subscriptable"
     ]
    }
   ],
   "source": [
    "s[0] # error >> there is no concept of indexing as set are unordered and unique"
   ]
  },
  {
   "cell_type": "code",
   "execution_count": 59,
   "id": "f71379d5-4448-4614-aba2-925bd1bd88f6",
   "metadata": {},
   "outputs": [
    {
     "data": {
      "text/plain": [
       "{1, 1.1, 2, 'a'}"
      ]
     },
     "execution_count": 59,
     "metadata": {},
     "output_type": "execute_result"
    }
   ],
   "source": [
    "s"
   ]
  },
  {
   "cell_type": "code",
   "execution_count": 60,
   "id": "aeb87068-f6b6-4be8-9db9-d6d9df926074",
   "metadata": {},
   "outputs": [],
   "source": [
    "s.add(\"pwskills\") # set are mutables"
   ]
  },
  {
   "cell_type": "code",
   "execution_count": 61,
   "id": "ab77617b-716b-47f8-9c02-a81763d5c72b",
   "metadata": {},
   "outputs": [
    {
     "data": {
      "text/plain": [
       "{1, 1.1, 2, 'a', 'pwskills'}"
      ]
     },
     "execution_count": 61,
     "metadata": {},
     "output_type": "execute_result"
    }
   ],
   "source": [
    "s"
   ]
  },
  {
   "cell_type": "code",
   "execution_count": 62,
   "id": "91247744-7fe6-4957-aae3-c544423dc55f",
   "metadata": {},
   "outputs": [],
   "source": [
    "s.remove(\"pwskills\")"
   ]
  },
  {
   "cell_type": "code",
   "execution_count": 63,
   "id": "59a0db67-7658-4d68-9a6a-bceeb4a6e19f",
   "metadata": {},
   "outputs": [
    {
     "data": {
      "text/plain": [
       "{1, 1.1, 2, 'a'}"
      ]
     },
     "execution_count": 63,
     "metadata": {},
     "output_type": "execute_result"
    }
   ],
   "source": [
    "s"
   ]
  },
  {
   "cell_type": "code",
   "execution_count": 64,
   "id": "cb49e1c4-cda1-42db-9764-d6ae8a1c4863",
   "metadata": {},
   "outputs": [
    {
     "data": {
      "text/plain": [
       "{'apple', 'banana', 'egg'}"
      ]
     },
     "execution_count": 64,
     "metadata": {},
     "output_type": "execute_result"
    }
   ],
   "source": [
    "# use case of set >> it is used to get unique elements\n",
    "groc_list = {\"apple\",\"banana\",\"banana\",\"egg\",\"egg\"}\n",
    "groc_list"
   ]
  },
  {
   "cell_type": "code",
   "execution_count": 65,
   "id": "f7cb77e3-e137-4c70-9b34-8e66dd3aa764",
   "metadata": {},
   "outputs": [],
   "source": [
    "# Dictionaries >> which stores the data in the form key value pair\n",
    "my_dict = {}"
   ]
  },
  {
   "cell_type": "code",
   "execution_count": 66,
   "id": "2159220d-27de-4e00-b8cd-eaaa27134e73",
   "metadata": {},
   "outputs": [
    {
     "data": {
      "text/plain": [
       "dict"
      ]
     },
     "execution_count": 66,
     "metadata": {},
     "output_type": "execute_result"
    }
   ],
   "source": [
    "type(my_dict)"
   ]
  },
  {
   "cell_type": "code",
   "execution_count": 67,
   "id": "fbdea2b1-4ea4-416a-8ded-adff9cddd429",
   "metadata": {},
   "outputs": [],
   "source": [
    "my_dict = {\"Key_course\":\"Data Science\",\"Duration\":200}"
   ]
  },
  {
   "cell_type": "code",
   "execution_count": 68,
   "id": "352afb88-068e-4142-a219-5aaf3f5b9410",
   "metadata": {},
   "outputs": [
    {
     "data": {
      "text/plain": [
       "{'Key_course': 'Data Science', 'Duration': 200}"
      ]
     },
     "execution_count": 68,
     "metadata": {},
     "output_type": "execute_result"
    }
   ],
   "source": [
    "my_dict"
   ]
  },
  {
   "cell_type": "code",
   "execution_count": 69,
   "id": "ecb71294-3183-4cc7-b4ab-b5903318c5a3",
   "metadata": {},
   "outputs": [
    {
     "data": {
      "text/plain": [
       "dict"
      ]
     },
     "execution_count": 69,
     "metadata": {},
     "output_type": "execute_result"
    }
   ],
   "source": [
    "type(my_dict)"
   ]
  },
  {
   "cell_type": "code",
   "execution_count": 70,
   "id": "67529c95-dc91-45c2-9da1-6ac0ba92ee29",
   "metadata": {},
   "outputs": [],
   "source": [
    "# use cases of Dictionaries\n",
    "phonebook={\"Dad\":1234,\"Mom\":4567}"
   ]
  },
  {
   "cell_type": "code",
   "execution_count": 71,
   "id": "b15e9af4-705a-470c-82e3-e1773a569c4d",
   "metadata": {},
   "outputs": [
    {
     "data": {
      "text/plain": [
       "{'Dad': 1234, 'Mom': 4567}"
      ]
     },
     "execution_count": 71,
     "metadata": {},
     "output_type": "execute_result"
    }
   ],
   "source": [
    "phonebook"
   ]
  },
  {
   "cell_type": "code",
   "execution_count": 72,
   "id": "ac664501-c091-40e5-879f-d682094f8224",
   "metadata": {},
   "outputs": [
    {
     "data": {
      "text/plain": [
       "dict"
      ]
     },
     "execution_count": 72,
     "metadata": {},
     "output_type": "execute_result"
    }
   ],
   "source": [
    "type(phonebook)"
   ]
  },
  {
   "cell_type": "code",
   "execution_count": 73,
   "id": "e5f14575-5d59-4ba2-af77-2cedd9d54a30",
   "metadata": {},
   "outputs": [
    {
     "data": {
      "text/plain": [
       "1234"
      ]
     },
     "execution_count": 73,
     "metadata": {},
     "output_type": "execute_result"
    }
   ],
   "source": [
    "phonebook[\"Dad\"]"
   ]
  },
  {
   "cell_type": "code",
   "execution_count": 74,
   "id": "7d79d1d1-b6c7-4928-bddc-95ec6b3d3188",
   "metadata": {},
   "outputs": [
    {
     "data": {
      "text/plain": [
       "4567"
      ]
     },
     "execution_count": 74,
     "metadata": {},
     "output_type": "execute_result"
    }
   ],
   "source": [
    "phonebook[\"Mom\"]"
   ]
  },
  {
   "cell_type": "code",
   "execution_count": 75,
   "id": "96aa2718-a541-464f-bb10-7ebc7f2bc0da",
   "metadata": {},
   "outputs": [],
   "source": [
    "phonebook={\"Dad\":1234,\"Mom\":4567,\"Dad\":7899}"
   ]
  },
  {
   "cell_type": "code",
   "execution_count": 76,
   "id": "21c79455-c186-47b4-a76d-6ae9a4177657",
   "metadata": {},
   "outputs": [
    {
     "data": {
      "text/plain": [
       "7899"
      ]
     },
     "execution_count": 76,
     "metadata": {},
     "output_type": "execute_result"
    }
   ],
   "source": [
    "phonebook[\"Dad\"]"
   ]
  },
  {
   "cell_type": "code",
   "execution_count": 77,
   "id": "7d0b51c9-15a6-4754-a565-67765445eb16",
   "metadata": {},
   "outputs": [
    {
     "data": {
      "text/plain": [
       "{'Dad': 7899, 'Mom': 4567}"
      ]
     },
     "execution_count": 77,
     "metadata": {},
     "output_type": "execute_result"
    }
   ],
   "source": [
    "phonebook"
   ]
  },
  {
   "cell_type": "code",
   "execution_count": 78,
   "id": "e1071465-eab1-4402-8aba-e59c59b28eed",
   "metadata": {},
   "outputs": [],
   "source": [
    "rest_menu = {\"paneer_kofta\":480,\"chicken_handi\":590}"
   ]
  },
  {
   "cell_type": "code",
   "execution_count": 79,
   "id": "0ba4d293-3e71-4ae8-9dba-78994975a8e2",
   "metadata": {},
   "outputs": [
    {
     "data": {
      "text/plain": [
       "{'paneer_kofta': 480, 'chicken_handi': 590}"
      ]
     },
     "execution_count": 79,
     "metadata": {},
     "output_type": "execute_result"
    }
   ],
   "source": [
    "rest_menu"
   ]
  },
  {
   "cell_type": "code",
   "execution_count": 80,
   "id": "100876ac-908f-4331-af5f-8c6cab7bd458",
   "metadata": {},
   "outputs": [
    {
     "data": {
      "text/plain": [
       "480"
      ]
     },
     "execution_count": 80,
     "metadata": {},
     "output_type": "execute_result"
    }
   ],
   "source": [
    "rest_menu[\"paneer_kofta\"]"
   ]
  },
  {
   "cell_type": "code",
   "execution_count": 81,
   "id": "b87118b5-b569-4a20-8bc5-98738c31c7e4",
   "metadata": {},
   "outputs": [],
   "source": [
    "rest_menu[\"paneer_kofta\"]=790"
   ]
  },
  {
   "cell_type": "code",
   "execution_count": 82,
   "id": "21f80d4e-3ab9-4796-8826-07eb53ccaba4",
   "metadata": {},
   "outputs": [
    {
     "data": {
      "text/plain": [
       "{'paneer_kofta': 790, 'chicken_handi': 590}"
      ]
     },
     "execution_count": 82,
     "metadata": {},
     "output_type": "execute_result"
    }
   ],
   "source": [
    "rest_menu"
   ]
  },
  {
   "cell_type": "code",
   "execution_count": 83,
   "id": "46603274-c9c1-4eb7-a199-d6ccf0593ffe",
   "metadata": {},
   "outputs": [
    {
     "data": {
      "text/plain": [
       "{'Dad': 7899, 'Mom': 4567}"
      ]
     },
     "execution_count": 83,
     "metadata": {},
     "output_type": "execute_result"
    }
   ],
   "source": [
    "phonebook"
   ]
  },
  {
   "cell_type": "code",
   "execution_count": 84,
   "id": "f4712810-95cd-484c-a08c-c86c4c05f48c",
   "metadata": {},
   "outputs": [],
   "source": [
    "phonebook[\"Dad\"] = \"private number\""
   ]
  },
  {
   "cell_type": "code",
   "execution_count": 85,
   "id": "13df6fe9-4689-4f95-b4a8-e67d28164349",
   "metadata": {},
   "outputs": [
    {
     "data": {
      "text/plain": [
       "{'Dad': 'private number', 'Mom': 4567}"
      ]
     },
     "execution_count": 85,
     "metadata": {},
     "output_type": "execute_result"
    }
   ],
   "source": [
    "phonebook"
   ]
  },
  {
   "cell_type": "code",
   "execution_count": 86,
   "id": "47080457-b72b-4f10-9143-a6913cd219d0",
   "metadata": {},
   "outputs": [
    {
     "data": {
      "text/plain": [
       "{'paneer_kofta': 790, 'chicken_handi': 590}"
      ]
     },
     "execution_count": 86,
     "metadata": {},
     "output_type": "execute_result"
    }
   ],
   "source": [
    "rest_menu"
   ]
  },
  {
   "cell_type": "code",
   "execution_count": 87,
   "id": "c91a6d29-204a-4595-b99f-890cbee5e593",
   "metadata": {},
   "outputs": [
    {
     "data": {
      "text/plain": [
       "dict_keys(['paneer_kofta', 'chicken_handi'])"
      ]
     },
     "execution_count": 87,
     "metadata": {},
     "output_type": "execute_result"
    }
   ],
   "source": [
    "rest_menu.keys()"
   ]
  },
  {
   "cell_type": "code",
   "execution_count": 88,
   "id": "0f8e6dc0-09af-4d9c-924f-3f6e676ab091",
   "metadata": {},
   "outputs": [
    {
     "data": {
      "text/plain": [
       "dict_keys(['Dad', 'Mom'])"
      ]
     },
     "execution_count": 88,
     "metadata": {},
     "output_type": "execute_result"
    }
   ],
   "source": [
    "phonebook.keys()"
   ]
  },
  {
   "cell_type": "code",
   "execution_count": 89,
   "id": "89bf4ea5-3bc4-4ff0-9e4a-87260402ea39",
   "metadata": {},
   "outputs": [
    {
     "data": {
      "text/plain": [
       "dict_values([790, 590])"
      ]
     },
     "execution_count": 89,
     "metadata": {},
     "output_type": "execute_result"
    }
   ],
   "source": [
    "rest_menu.values()"
   ]
  },
  {
   "cell_type": "code",
   "execution_count": 90,
   "id": "e9dcdec7-a914-498e-9b43-6129045dfae1",
   "metadata": {},
   "outputs": [
    {
     "data": {
      "text/plain": [
       "dict_values(['private number', 4567])"
      ]
     },
     "execution_count": 90,
     "metadata": {},
     "output_type": "execute_result"
    }
   ],
   "source": [
    "phonebook.values()"
   ]
  },
  {
   "cell_type": "code",
   "execution_count": 91,
   "id": "bedcfefe-a644-41af-9bbe-8005d4d837f3",
   "metadata": {},
   "outputs": [],
   "source": [
    "from array import array"
   ]
  },
  {
   "cell_type": "code",
   "execution_count": 92,
   "id": "bbc64a8e-f098-47f2-8807-1f7656bd79f8",
   "metadata": {},
   "outputs": [
    {
     "data": {
      "text/plain": [
       "array('i', [1, 2, 3, 4])"
      ]
     },
     "execution_count": 92,
     "metadata": {},
     "output_type": "execute_result"
    }
   ],
   "source": [
    "# array is similar to list >> only difference it stores homgenous data\n",
    "array('i',[1,2,3,4])"
   ]
  },
  {
   "cell_type": "code",
   "execution_count": 93,
   "id": "ef0418b8-b6a8-4421-8469-10abbaef2d12",
   "metadata": {},
   "outputs": [
    {
     "data": {
      "text/plain": [
       "str"
      ]
     },
     "execution_count": 93,
     "metadata": {},
     "output_type": "execute_result"
    }
   ],
   "source": [
    "# string\n",
    "s = \"Riya\"\n",
    "type(s)"
   ]
  },
  {
   "cell_type": "code",
   "execution_count": 94,
   "id": "970b308f-5d16-434a-bb1c-6a5f8a274413",
   "metadata": {},
   "outputs": [
    {
     "name": "stdout",
     "output_type": "stream",
     "text": [
      "R\n",
      "i\n",
      "y\n",
      "a\n"
     ]
    }
   ],
   "source": [
    "for i in s:\n",
    "    print(i)"
   ]
  },
  {
   "cell_type": "code",
   "execution_count": 96,
   "id": "6eb14704-6f61-4d6e-917d-7bb663f6e40d",
   "metadata": {},
   "outputs": [
    {
     "ename": "TypeError",
     "evalue": "'str' object does not support item assignment",
     "output_type": "error",
     "traceback": [
      "\u001b[0;31m---------------------------------------------------------------------------\u001b[0m",
      "\u001b[0;31mTypeError\u001b[0m                                 Traceback (most recent call last)",
      "Cell \u001b[0;32mIn[96], line 1\u001b[0m\n\u001b[0;32m----> 1\u001b[0m \u001b[43ms\u001b[49m\u001b[43m[\u001b[49m\u001b[38;5;241;43m0\u001b[39;49m\u001b[43m]\u001b[49m\u001b[38;5;241m=\u001b[39m\u001b[38;5;124m'\u001b[39m\u001b[38;5;124mB\u001b[39m\u001b[38;5;124m'\u001b[39m \u001b[38;5;66;03m# string is immutable\u001b[39;00m\n",
      "\u001b[0;31mTypeError\u001b[0m: 'str' object does not support item assignment"
     ]
    }
   ],
   "source": [
    "s[0]='B' # string is immutable"
   ]
  },
  {
   "cell_type": "code",
   "execution_count": null,
   "id": "03ea2fd3-35e6-44f0-b497-823ed9a94017",
   "metadata": {},
   "outputs": [],
   "source": []
  }
 ],
 "metadata": {
  "kernelspec": {
   "display_name": "Python 3 (ipykernel)",
   "language": "python",
   "name": "python3"
  },
  "language_info": {
   "codemirror_mode": {
    "name": "ipython",
    "version": 3
   },
   "file_extension": ".py",
   "mimetype": "text/x-python",
   "name": "python",
   "nbconvert_exporter": "python",
   "pygments_lexer": "ipython3",
   "version": "3.10.13"
  }
 },
 "nbformat": 4,
 "nbformat_minor": 5
}
