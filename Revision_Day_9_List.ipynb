{
 "cells": [
  {
   "cell_type": "code",
   "execution_count": 1,
   "id": "2a67f486-6fd6-4f70-9040-023e3c236013",
   "metadata": {},
   "outputs": [],
   "source": [
    "# List are ordered collection of items\n",
    "#[]\n",
    "# List is like a shooping bag wihich can store everything\n",
    "# can store anydatatype"
   ]
  },
  {
   "cell_type": "code",
   "execution_count": 2,
   "id": "8f691e10-9b81-470e-8e96-295f7be23917",
   "metadata": {},
   "outputs": [
    {
     "data": {
      "text/plain": [
       "list"
      ]
     },
     "execution_count": 2,
     "metadata": {},
     "output_type": "execute_result"
    }
   ],
   "source": [
    "type([])"
   ]
  },
  {
   "cell_type": "code",
   "execution_count": 3,
   "id": "06031923-be8b-4ddb-a9b8-60ae009dd1a3",
   "metadata": {},
   "outputs": [],
   "source": [
    "grocery_list = [\"Milk\",\"Orange\",1,2.2,True,3+5j]"
   ]
  },
  {
   "cell_type": "code",
   "execution_count": 4,
   "id": "ceb852f5-d813-4e8e-b73a-e8e3eb53a2ed",
   "metadata": {},
   "outputs": [
    {
     "data": {
      "text/plain": [
       "list"
      ]
     },
     "execution_count": 4,
     "metadata": {},
     "output_type": "execute_result"
    }
   ],
   "source": [
    "type(grocery_list)"
   ]
  },
  {
   "cell_type": "code",
   "execution_count": 5,
   "id": "badb0823-7cc4-479b-92b8-2b37338c986f",
   "metadata": {},
   "outputs": [],
   "source": [
    "# Lists are mutable"
   ]
  },
  {
   "cell_type": "code",
   "execution_count": 6,
   "id": "52b7a72f-d6ba-4cab-aad7-e04d305fade5",
   "metadata": {},
   "outputs": [
    {
     "data": {
      "text/plain": [
       "'Milk'"
      ]
     },
     "execution_count": 6,
     "metadata": {},
     "output_type": "execute_result"
    }
   ],
   "source": [
    "grocery_list[0]"
   ]
  },
  {
   "cell_type": "code",
   "execution_count": 7,
   "id": "24479f94-e039-4722-9a2b-d1f0d707627e",
   "metadata": {},
   "outputs": [
    {
     "data": {
      "text/plain": [
       "(3+5j)"
      ]
     },
     "execution_count": 7,
     "metadata": {},
     "output_type": "execute_result"
    }
   ],
   "source": [
    "grocery_list[-1]"
   ]
  },
  {
   "cell_type": "code",
   "execution_count": 8,
   "id": "f9e8dadf-40ba-4df2-805a-882b7c9187b4",
   "metadata": {},
   "outputs": [
    {
     "data": {
      "text/plain": [
       "['Orange', 1, 2.2, True, (3+5j)]"
      ]
     },
     "execution_count": 8,
     "metadata": {},
     "output_type": "execute_result"
    }
   ],
   "source": [
    "grocery_list[1:]"
   ]
  },
  {
   "cell_type": "code",
   "execution_count": 9,
   "id": "27bdae35-d8be-457f-9de1-e352b34cdaa2",
   "metadata": {},
   "outputs": [
    {
     "data": {
      "text/plain": [
       "['Orange', 1, 2.2]"
      ]
     },
     "execution_count": 9,
     "metadata": {},
     "output_type": "execute_result"
    }
   ],
   "source": [
    "grocery_list[1:4]"
   ]
  },
  {
   "cell_type": "code",
   "execution_count": 10,
   "id": "b7f37532-5cc9-4a50-8268-bee7271f67aa",
   "metadata": {},
   "outputs": [
    {
     "data": {
      "text/plain": [
       "['Action2', 'Comedy', 'Thriller']"
      ]
     },
     "execution_count": 10,
     "metadata": {},
     "output_type": "execute_result"
    }
   ],
   "source": [
    "movies = [\"Action1\",\"Action2\",\"Comedy\",\"Thriller\"]\n",
    "movies[1:]"
   ]
  },
  {
   "cell_type": "code",
   "execution_count": 11,
   "id": "01e21f33-f498-4c07-9ed7-9eb171871aa4",
   "metadata": {},
   "outputs": [
    {
     "data": {
      "text/plain": [
       "['Action1', 'Action2', 'Comedy']"
      ]
     },
     "execution_count": 11,
     "metadata": {},
     "output_type": "execute_result"
    }
   ],
   "source": [
    "movies[0:3]"
   ]
  },
  {
   "cell_type": "code",
   "execution_count": 12,
   "id": "3861f09b-de11-4977-8553-0728aaf20dc7",
   "metadata": {},
   "outputs": [
    {
     "data": {
      "text/plain": [
       "'Index'"
      ]
     },
     "execution_count": 12,
     "metadata": {},
     "output_type": "execute_result"
    }
   ],
   "source": [
    "pages = [\"Title page\",\"chap1\",\"chap2\",\"Conclusion\",\"Index\"]\n",
    "pages[-1]"
   ]
  },
  {
   "cell_type": "code",
   "execution_count": 13,
   "id": "d947f70c-f373-4336-a887-ce0920518eb9",
   "metadata": {},
   "outputs": [
    {
     "data": {
      "text/plain": [
       "'Conclusion'"
      ]
     },
     "execution_count": 13,
     "metadata": {},
     "output_type": "execute_result"
    }
   ],
   "source": [
    "pages[-2]"
   ]
  },
  {
   "cell_type": "code",
   "execution_count": 14,
   "id": "8f540154-2e0f-4758-bfda-466439196ed1",
   "metadata": {},
   "outputs": [
    {
     "data": {
      "text/plain": [
       "'Ajay'"
      ]
     },
     "execution_count": 14,
     "metadata": {},
     "output_type": "execute_result"
    }
   ],
   "source": [
    "queue = [\"Ranjan\",\"Sanjay\",\"Bijay\",\"Ajay\"]\n",
    "queue[-1]"
   ]
  },
  {
   "cell_type": "code",
   "execution_count": 15,
   "id": "7e792fb2-ce2a-43b6-b58a-87c04305a796",
   "metadata": {},
   "outputs": [
    {
     "data": {
      "text/plain": [
       "'Bijay'"
      ]
     },
     "execution_count": 15,
     "metadata": {},
     "output_type": "execute_result"
    }
   ],
   "source": [
    "queue[-2]"
   ]
  },
  {
   "cell_type": "code",
   "execution_count": 16,
   "id": "03f78725-d4c9-47ba-b624-92872ceffec8",
   "metadata": {},
   "outputs": [
    {
     "data": {
      "text/plain": [
       "['Apple', 'Orange']"
      ]
     },
     "execution_count": 16,
     "metadata": {},
     "output_type": "execute_result"
    }
   ],
   "source": [
    "lis = [\"Apple\",\"Orange\"]\n",
    "lis"
   ]
  },
  {
   "cell_type": "code",
   "execution_count": 17,
   "id": "d86261fe-6c3a-4e59-a7a4-865844107146",
   "metadata": {},
   "outputs": [],
   "source": [
    "lis.append(\"Banana\")"
   ]
  },
  {
   "cell_type": "code",
   "execution_count": 18,
   "id": "d505092b-46d3-4d50-9e0f-bedab67c4acc",
   "metadata": {},
   "outputs": [
    {
     "data": {
      "text/plain": [
       "['Apple', 'Orange', 'Banana']"
      ]
     },
     "execution_count": 18,
     "metadata": {},
     "output_type": "execute_result"
    }
   ],
   "source": [
    "lis"
   ]
  },
  {
   "cell_type": "code",
   "execution_count": 19,
   "id": "9ffa8c39-6980-4390-9936-04b0cbfb4fb4",
   "metadata": {},
   "outputs": [],
   "source": [
    "# use cases\n",
    "playlist = []\n",
    "playlist.append(\"sare jahan se acha\")\n",
    "playlist.append(\"Ae mere watan ke logo\")\n",
    "playlist.append(\"Tujhe dekha toh\")"
   ]
  },
  {
   "cell_type": "code",
   "execution_count": 20,
   "id": "41d85361-6d10-480f-a288-668eeba07864",
   "metadata": {},
   "outputs": [
    {
     "data": {
      "text/plain": [
       "['sare jahan se acha', 'Ae mere watan ke logo', 'Tujhe dekha toh']"
      ]
     },
     "execution_count": 20,
     "metadata": {},
     "output_type": "execute_result"
    }
   ],
   "source": [
    "playlist"
   ]
  },
  {
   "cell_type": "code",
   "execution_count": 21,
   "id": "4edf4db1-025b-4d26-b190-7efe9d05c1dc",
   "metadata": {},
   "outputs": [],
   "source": [
    "bookself = []\n",
    "bookself.append(\"Book1\")\n",
    "bookself.append(\"Book2\")"
   ]
  },
  {
   "cell_type": "code",
   "execution_count": 22,
   "id": "6e245bd2-10b4-4f30-8c63-3a384a97294f",
   "metadata": {},
   "outputs": [
    {
     "data": {
      "text/plain": [
       "['Book1', 'Book2']"
      ]
     },
     "execution_count": 22,
     "metadata": {},
     "output_type": "execute_result"
    }
   ],
   "source": [
    "bookself"
   ]
  },
  {
   "cell_type": "code",
   "execution_count": 23,
   "id": "e8796e8f-2aa0-44ec-b95f-e5df7d26d31e",
   "metadata": {},
   "outputs": [],
   "source": [
    "# list is mutable"
   ]
  },
  {
   "cell_type": "code",
   "execution_count": 24,
   "id": "cccdf8c3-8d6a-476d-8fc4-8f3a577395ad",
   "metadata": {},
   "outputs": [
    {
     "data": {
      "text/plain": [
       "['Apple', 'Orange', 'Banana']"
      ]
     },
     "execution_count": 24,
     "metadata": {},
     "output_type": "execute_result"
    }
   ],
   "source": [
    "lis"
   ]
  },
  {
   "cell_type": "code",
   "execution_count": 25,
   "id": "9edc1baa-4432-47ac-b253-6645bf463a0c",
   "metadata": {},
   "outputs": [
    {
     "data": {
      "text/plain": [
       "'Apple'"
      ]
     },
     "execution_count": 25,
     "metadata": {},
     "output_type": "execute_result"
    }
   ],
   "source": [
    "lis[0]"
   ]
  },
  {
   "cell_type": "code",
   "execution_count": 26,
   "id": "c1b5d277-be79-48a5-b64c-00a9ad4b69f9",
   "metadata": {},
   "outputs": [],
   "source": [
    "lis[0] = \"Mango\""
   ]
  },
  {
   "cell_type": "code",
   "execution_count": 27,
   "id": "a53c29f8-48dd-405b-af11-37874fd2e0ce",
   "metadata": {},
   "outputs": [
    {
     "data": {
      "text/plain": [
       "['Mango', 'Orange', 'Banana']"
      ]
     },
     "execution_count": 27,
     "metadata": {},
     "output_type": "execute_result"
    }
   ],
   "source": [
    "lis"
   ]
  },
  {
   "cell_type": "code",
   "execution_count": 28,
   "id": "7b1c6346-6462-4dc9-bd95-5119e3723cdd",
   "metadata": {},
   "outputs": [
    {
     "data": {
      "text/plain": [
       "'Orange'"
      ]
     },
     "execution_count": 28,
     "metadata": {},
     "output_type": "execute_result"
    }
   ],
   "source": [
    "lis[1]"
   ]
  },
  {
   "cell_type": "code",
   "execution_count": 29,
   "id": "91d8e592-6888-4112-a6b6-0cecb9f53d8e",
   "metadata": {},
   "outputs": [],
   "source": [
    "lis[1]=\"brinjal\""
   ]
  },
  {
   "cell_type": "code",
   "execution_count": 30,
   "id": "5b6b3f0b-524e-4b9a-9faa-be5ec88a0a5b",
   "metadata": {},
   "outputs": [
    {
     "data": {
      "text/plain": [
       "['Mango', 'brinjal', 'Banana']"
      ]
     },
     "execution_count": 30,
     "metadata": {},
     "output_type": "execute_result"
    }
   ],
   "source": [
    "lis"
   ]
  },
  {
   "cell_type": "code",
   "execution_count": 31,
   "id": "6f3e8628-1612-4bd1-908c-51b3d4e399e3",
   "metadata": {},
   "outputs": [],
   "source": [
    "lis.insert(1,\"Potato\")# insert object before index"
   ]
  },
  {
   "cell_type": "code",
   "execution_count": 32,
   "id": "c7e6ca5f-1d35-446d-abb9-79720c44c716",
   "metadata": {},
   "outputs": [
    {
     "data": {
      "text/plain": [
       "['Mango', 'Potato', 'brinjal', 'Banana']"
      ]
     },
     "execution_count": 32,
     "metadata": {},
     "output_type": "execute_result"
    }
   ],
   "source": [
    "lis"
   ]
  },
  {
   "cell_type": "code",
   "execution_count": 33,
   "id": "5f066842-1a50-43cd-8a2b-e72235339296",
   "metadata": {},
   "outputs": [],
   "source": [
    "# use case\n",
    "bus_seat = [\"Ajay\",\"Aman\",\"Kishan\"]\n",
    "bus_seat.insert(2,\"Khushi\")"
   ]
  },
  {
   "cell_type": "code",
   "execution_count": 34,
   "id": "36d6450a-dab5-4cc9-b133-f190ed4326c0",
   "metadata": {},
   "outputs": [
    {
     "data": {
      "text/plain": [
       "['Ajay', 'Aman', 'Khushi', 'Kishan']"
      ]
     },
     "execution_count": 34,
     "metadata": {},
     "output_type": "execute_result"
    }
   ],
   "source": [
    "bus_seat"
   ]
  },
  {
   "cell_type": "code",
   "execution_count": 35,
   "id": "49f8ee19-777e-4ad7-907a-3ebd1106fce8",
   "metadata": {},
   "outputs": [],
   "source": [
    "#extend >> use to append elements from another list\n",
    "my_list = [\"Apple\",\"Banana\",\"Orange\"]\n",
    "brother_list = [\"Brinjal\",\"Potato\"]\n",
    "my_list.extend(brother_list)"
   ]
  },
  {
   "cell_type": "code",
   "execution_count": 36,
   "id": "418dad22-3c30-4f4b-b46b-46535de7ca87",
   "metadata": {},
   "outputs": [
    {
     "data": {
      "text/plain": [
       "['Apple', 'Banana', 'Orange', 'Brinjal', 'Potato']"
      ]
     },
     "execution_count": 36,
     "metadata": {},
     "output_type": "execute_result"
    }
   ],
   "source": [
    "my_list"
   ]
  },
  {
   "cell_type": "code",
   "execution_count": 37,
   "id": "38bd62a1-f438-42ee-9358-b54c375f6265",
   "metadata": {},
   "outputs": [],
   "source": [
    "my_list = [\"Apple\",\"Banana\",\"Orange\"]\n",
    "brother_list = [\"Brinjal\",\"Potato\"]\n",
    "brother_list.extend(my_list)"
   ]
  },
  {
   "cell_type": "code",
   "execution_count": 38,
   "id": "958bfe80-ddd4-41eb-be85-69a4d6ac0209",
   "metadata": {},
   "outputs": [
    {
     "data": {
      "text/plain": [
       "['Brinjal', 'Potato', 'Apple', 'Banana', 'Orange']"
      ]
     },
     "execution_count": 38,
     "metadata": {},
     "output_type": "execute_result"
    }
   ],
   "source": [
    "brother_list"
   ]
  },
  {
   "cell_type": "code",
   "execution_count": 39,
   "id": "a85ec0fb-c636-46be-8dbe-d2536029d7bb",
   "metadata": {},
   "outputs": [
    {
     "data": {
      "text/plain": [
       "['Apple', 'Banana', 'Orange']"
      ]
     },
     "execution_count": 39,
     "metadata": {},
     "output_type": "execute_result"
    }
   ],
   "source": [
    "my_list"
   ]
  },
  {
   "cell_type": "code",
   "execution_count": 40,
   "id": "425cdb03-f878-4113-bc60-9e07250bc16f",
   "metadata": {},
   "outputs": [
    {
     "data": {
      "text/plain": [
       "['Apple', 'Banana', 'Orange', 'Brinjal', 'Potato']"
      ]
     },
     "execution_count": 40,
     "metadata": {},
     "output_type": "execute_result"
    }
   ],
   "source": [
    "# concatenate\n",
    "my_list = [\"Apple\",\"Banana\",\"Orange\"]\n",
    "brother_list = [\"Brinjal\",\"Potato\"]\n",
    "my_list + brother_list"
   ]
  },
  {
   "cell_type": "code",
   "execution_count": 41,
   "id": "d29287cc-cd16-4ee8-955c-c6e05668717e",
   "metadata": {},
   "outputs": [
    {
     "data": {
      "text/plain": [
       "['Apple', 'Banana', 'Orange']"
      ]
     },
     "execution_count": 41,
     "metadata": {},
     "output_type": "execute_result"
    }
   ],
   "source": [
    "my_list"
   ]
  },
  {
   "cell_type": "code",
   "execution_count": 42,
   "id": "c38a9fbe-3006-4365-851f-d511307cbd34",
   "metadata": {},
   "outputs": [
    {
     "data": {
      "text/plain": [
       "['Brinjal', 'Potato']"
      ]
     },
     "execution_count": 42,
     "metadata": {},
     "output_type": "execute_result"
    }
   ],
   "source": [
    "brother_list"
   ]
  },
  {
   "cell_type": "code",
   "execution_count": 43,
   "id": "2ac0ab08-2af9-4e99-bc0b-9a3ab8694ffd",
   "metadata": {},
   "outputs": [
    {
     "data": {
      "text/plain": [
       "'***************'"
      ]
     },
     "execution_count": 43,
     "metadata": {},
     "output_type": "execute_result"
    }
   ],
   "source": [
    "# repetation operation\n",
    "\n",
    "\"*\" * 15"
   ]
  },
  {
   "cell_type": "code",
   "execution_count": 44,
   "id": "2f192e1c-4a64-4c67-b86a-02c2d684fb5e",
   "metadata": {},
   "outputs": [
    {
     "data": {
      "text/plain": [
       "'----------'"
      ]
     },
     "execution_count": 44,
     "metadata": {},
     "output_type": "execute_result"
    }
   ],
   "source": [
    "\"-\" * 10"
   ]
  },
  {
   "cell_type": "code",
   "execution_count": 45,
   "id": "79182727-08cf-4e6e-9f76-8043fd7e2e9c",
   "metadata": {},
   "outputs": [
    {
     "data": {
      "text/plain": [
       "[0, 0, 0, 0, 0, 0, 0, 0, 0, 0]"
      ]
     },
     "execution_count": 45,
     "metadata": {},
     "output_type": "execute_result"
    }
   ],
   "source": [
    "[0] * 10"
   ]
  },
  {
   "cell_type": "code",
   "execution_count": 46,
   "id": "68f0e267-c549-467b-86d0-12a69658ecf4",
   "metadata": {},
   "outputs": [
    {
     "data": {
      "text/plain": [
       "[1, 2, 3, 1, 2, 3, 1, 2, 3, 1, 2, 3, 1, 2, 3]"
      ]
     },
     "execution_count": 46,
     "metadata": {},
     "output_type": "execute_result"
    }
   ],
   "source": [
    "[1,2,3] * 5"
   ]
  },
  {
   "cell_type": "code",
   "execution_count": 47,
   "id": "885a1ad8-2954-4262-8675-2f4f19f1d5f7",
   "metadata": {},
   "outputs": [
    {
     "data": {
      "text/plain": [
       "[0, 1, 2, 3, 4, 5, 6, 7, 8, 9, 0, 1, 2, 3, 4, 5, 6, 7, 8, 9]"
      ]
     },
     "execution_count": 47,
     "metadata": {},
     "output_type": "execute_result"
    }
   ],
   "source": [
    "list(range(10))*2"
   ]
  },
  {
   "cell_type": "code",
   "execution_count": 48,
   "id": "ab690dda-a207-4fa8-9cb2-c12ffe3aa160",
   "metadata": {},
   "outputs": [
    {
     "name": "stdout",
     "output_type": "stream",
     "text": [
      "Your appointment is tomorrow \n",
      "Your appointment is tomorrow \n",
      "Your appointment is tomorrow \n",
      "\n"
     ]
    }
   ],
   "source": [
    "msg = \"Your appointment is tomorrow \\n\"\n",
    "print(msg * 3)"
   ]
  },
  {
   "cell_type": "code",
   "execution_count": 49,
   "id": "13e22bb7-d073-4dd3-b0f2-66155f086ddd",
   "metadata": {},
   "outputs": [
    {
     "data": {
      "text/plain": [
       "['Milk', 'Orange', 1, 2.2, True, (3+5j)]"
      ]
     },
     "execution_count": 49,
     "metadata": {},
     "output_type": "execute_result"
    }
   ],
   "source": [
    "# membership in, not in\n",
    "\n",
    "grocery_list"
   ]
  },
  {
   "cell_type": "code",
   "execution_count": 50,
   "id": "12e94491-3242-4c32-a872-1992b498478d",
   "metadata": {},
   "outputs": [
    {
     "data": {
      "text/plain": [
       "True"
      ]
     },
     "execution_count": 50,
     "metadata": {},
     "output_type": "execute_result"
    }
   ],
   "source": [
    "\"Milk\" in grocery_list"
   ]
  },
  {
   "cell_type": "code",
   "execution_count": 51,
   "id": "43e13e51-8d7d-40bc-99ce-8e3a3689ffbf",
   "metadata": {},
   "outputs": [
    {
     "data": {
      "text/plain": [
       "False"
      ]
     },
     "execution_count": 51,
     "metadata": {},
     "output_type": "execute_result"
    }
   ],
   "source": [
    "\"Potato\" in grocery_list"
   ]
  },
  {
   "cell_type": "code",
   "execution_count": 52,
   "id": "54b5fedf-2b3d-443b-b4a6-e46cf03cbe5a",
   "metadata": {},
   "outputs": [
    {
     "data": {
      "text/plain": [
       "True"
      ]
     },
     "execution_count": 52,
     "metadata": {},
     "output_type": "execute_result"
    }
   ],
   "source": [
    "\"Potato\" not in grocery_list"
   ]
  },
  {
   "cell_type": "code",
   "execution_count": 53,
   "id": "7a6391e4-e94c-419d-8483-5601499034bc",
   "metadata": {},
   "outputs": [],
   "source": [
    "# deep copy and shallow copy\n",
    "\n",
    "# shallow copy >> value will change with change in other list"
   ]
  },
  {
   "cell_type": "code",
   "execution_count": 54,
   "id": "307f6cd6-57ad-4bc7-80fa-41aa79d980be",
   "metadata": {},
   "outputs": [
    {
     "data": {
      "text/plain": [
       "['Milk', 'Orange', 1, 2.2, True, (3+5j)]"
      ]
     },
     "execution_count": 54,
     "metadata": {},
     "output_type": "execute_result"
    }
   ],
   "source": [
    "grocery_list"
   ]
  },
  {
   "cell_type": "code",
   "execution_count": 55,
   "id": "cb244c2c-f90d-4da3-8ced-60c61d06d9eb",
   "metadata": {},
   "outputs": [],
   "source": [
    "a = [\"A\",\"B\"]\n",
    "a = grocery_list "
   ]
  },
  {
   "cell_type": "code",
   "execution_count": 56,
   "id": "c826d3f0-0e38-448a-a3c8-dccde4b4a894",
   "metadata": {},
   "outputs": [
    {
     "data": {
      "text/plain": [
       "['Milk', 'Orange', 1, 2.2, True, (3+5j)]"
      ]
     },
     "execution_count": 56,
     "metadata": {},
     "output_type": "execute_result"
    }
   ],
   "source": [
    "a"
   ]
  },
  {
   "cell_type": "code",
   "execution_count": 57,
   "id": "c16f6547-7541-4561-ac03-637ca6275e08",
   "metadata": {},
   "outputs": [],
   "source": [
    "a[0] = \"Potato\""
   ]
  },
  {
   "cell_type": "code",
   "execution_count": 58,
   "id": "c87dde29-64a5-410e-9e74-147c4adddce5",
   "metadata": {},
   "outputs": [
    {
     "data": {
      "text/plain": [
       "['Potato', 'Orange', 1, 2.2, True, (3+5j)]"
      ]
     },
     "execution_count": 58,
     "metadata": {},
     "output_type": "execute_result"
    }
   ],
   "source": [
    "a"
   ]
  },
  {
   "cell_type": "code",
   "execution_count": 59,
   "id": "04166d0f-db24-4073-a090-26e1eef5d534",
   "metadata": {},
   "outputs": [
    {
     "data": {
      "text/plain": [
       "['Potato', 'Orange', 1, 2.2, True, (3+5j)]"
      ]
     },
     "execution_count": 59,
     "metadata": {},
     "output_type": "execute_result"
    }
   ],
   "source": [
    "grocery_list"
   ]
  },
  {
   "cell_type": "code",
   "execution_count": 60,
   "id": "bda5f89f-4de5-4c61-a07b-ce85be06d884",
   "metadata": {},
   "outputs": [],
   "source": [
    "# deep copy >> will not change the value in another list"
   ]
  },
  {
   "cell_type": "code",
   "execution_count": 61,
   "id": "ea409899-2750-4537-b23f-0a8de26a1c4b",
   "metadata": {},
   "outputs": [
    {
     "data": {
      "text/plain": [
       "['Potato', 'Orange', 1, 2.2, True, (3+5j)]"
      ]
     },
     "execution_count": 61,
     "metadata": {},
     "output_type": "execute_result"
    }
   ],
   "source": [
    "grocery_list"
   ]
  },
  {
   "cell_type": "code",
   "execution_count": 62,
   "id": "36f90367-55ed-4de0-80a1-be3bbc4316e0",
   "metadata": {},
   "outputs": [],
   "source": [
    "b = grocery_list.copy()"
   ]
  },
  {
   "cell_type": "code",
   "execution_count": 63,
   "id": "1919c076-acd7-4885-a7f0-369ef16f0332",
   "metadata": {},
   "outputs": [
    {
     "data": {
      "text/plain": [
       "['Potato', 'Orange', 1, 2.2, True, (3+5j)]"
      ]
     },
     "execution_count": 63,
     "metadata": {},
     "output_type": "execute_result"
    }
   ],
   "source": [
    "b"
   ]
  },
  {
   "cell_type": "code",
   "execution_count": 64,
   "id": "78b14715-7605-47f1-af56-e3bd80d2910c",
   "metadata": {},
   "outputs": [],
   "source": [
    "b[0] = \"Milk\""
   ]
  },
  {
   "cell_type": "code",
   "execution_count": 65,
   "id": "031b249d-e43c-4e4b-a977-c83e6f067bb3",
   "metadata": {},
   "outputs": [
    {
     "data": {
      "text/plain": [
       "['Milk', 'Orange', 1, 2.2, True, (3+5j)]"
      ]
     },
     "execution_count": 65,
     "metadata": {},
     "output_type": "execute_result"
    }
   ],
   "source": [
    "b"
   ]
  },
  {
   "cell_type": "code",
   "execution_count": 66,
   "id": "c2f2bc63-662c-49ab-ac86-fb3a4038f349",
   "metadata": {},
   "outputs": [
    {
     "data": {
      "text/plain": [
       "['Potato', 'Orange', 1, 2.2, True, (3+5j)]"
      ]
     },
     "execution_count": 66,
     "metadata": {},
     "output_type": "execute_result"
    }
   ],
   "source": [
    "grocery_list"
   ]
  },
  {
   "cell_type": "code",
   "execution_count": 67,
   "id": "dfca02ef-691d-4b5e-a440-979c14b7cf33",
   "metadata": {},
   "outputs": [
    {
     "data": {
      "text/plain": [
       "['Algorithm', 'Algorithm', 'Data Structure', 'Web devlopment']"
      ]
     },
     "execution_count": 67,
     "metadata": {},
     "output_type": "execute_result"
    }
   ],
   "source": [
    "# sorting of list\n",
    "book_list = [\"Data Structure\",\"Algorithm\",\"Web devlopment\",\"Algorithm\"]\n",
    "sorted(book_list)"
   ]
  },
  {
   "cell_type": "code",
   "execution_count": 68,
   "id": "41736cbc-5900-4154-9a9d-4ec04d95b095",
   "metadata": {},
   "outputs": [
    {
     "data": {
      "text/plain": [
       "['Data Structure', 'Algorithm', 'Web devlopment', 'Algorithm']"
      ]
     },
     "execution_count": 68,
     "metadata": {},
     "output_type": "execute_result"
    }
   ],
   "source": [
    "book_list"
   ]
  },
  {
   "cell_type": "code",
   "execution_count": 69,
   "id": "1a22f327-cbc4-46e0-badc-bdae05f55983",
   "metadata": {},
   "outputs": [
    {
     "data": {
      "text/plain": [
       "1"
      ]
     },
     "execution_count": 69,
     "metadata": {},
     "output_type": "execute_result"
    }
   ],
   "source": [
    "book_list.index(\"Algorithm\") # returns the index of first occurence of the element"
   ]
  },
  {
   "cell_type": "code",
   "execution_count": 70,
   "id": "57f9af99-183b-4a39-b4fa-955d5fff1741",
   "metadata": {},
   "outputs": [
    {
     "data": {
      "text/plain": [
       "2"
      ]
     },
     "execution_count": 70,
     "metadata": {},
     "output_type": "execute_result"
    }
   ],
   "source": [
    "book_list.index(\"Web devlopment\")"
   ]
  },
  {
   "cell_type": "code",
   "execution_count": 71,
   "id": "ef4b4cf9-82d0-4c24-892d-6dcc69a14327",
   "metadata": {},
   "outputs": [
    {
     "data": {
      "text/plain": [
       "4"
      ]
     },
     "execution_count": 71,
     "metadata": {},
     "output_type": "execute_result"
    }
   ],
   "source": [
    "len(book_list) # no. of elements in the list"
   ]
  },
  {
   "cell_type": "code",
   "execution_count": 72,
   "id": "4375ca18-4557-4346-8a9d-dd61a0e243f7",
   "metadata": {},
   "outputs": [
    {
     "data": {
      "text/plain": [
       "2"
      ]
     },
     "execution_count": 72,
     "metadata": {},
     "output_type": "execute_result"
    }
   ],
   "source": [
    "book_list.count(\"Algorithm\") # gives count of specifcic element in a list"
   ]
  },
  {
   "cell_type": "code",
   "execution_count": 73,
   "id": "0077d346-209c-4bec-b252-5472e501dcae",
   "metadata": {},
   "outputs": [
    {
     "data": {
      "text/plain": [
       "['Data Structure', 'Algorithm', 'Web devlopment', 'Algorithm']"
      ]
     },
     "execution_count": 73,
     "metadata": {},
     "output_type": "execute_result"
    }
   ],
   "source": [
    "book_list"
   ]
  },
  {
   "cell_type": "code",
   "execution_count": 74,
   "id": "9b77d059-7715-475c-81e5-dad58941b24a",
   "metadata": {},
   "outputs": [],
   "source": [
    "book_list.remove(\"Data Structure\")"
   ]
  },
  {
   "cell_type": "code",
   "execution_count": 75,
   "id": "dc1258a0-18f7-40a5-859b-da30be0ccc10",
   "metadata": {},
   "outputs": [
    {
     "data": {
      "text/plain": [
       "['Algorithm', 'Web devlopment', 'Algorithm']"
      ]
     },
     "execution_count": 75,
     "metadata": {},
     "output_type": "execute_result"
    }
   ],
   "source": [
    "book_list"
   ]
  },
  {
   "cell_type": "code",
   "execution_count": 76,
   "id": "33e85c16-e587-4701-b7a6-e8082b5e3b3f",
   "metadata": {},
   "outputs": [],
   "source": [
    "book_list.sort()"
   ]
  },
  {
   "cell_type": "code",
   "execution_count": 77,
   "id": "b75e9eba-82d5-40fb-a26b-a5055a96c8b5",
   "metadata": {},
   "outputs": [
    {
     "data": {
      "text/plain": [
       "['Algorithm', 'Algorithm', 'Web devlopment']"
      ]
     },
     "execution_count": 77,
     "metadata": {},
     "output_type": "execute_result"
    }
   ],
   "source": [
    "book_list"
   ]
  },
  {
   "cell_type": "code",
   "execution_count": 78,
   "id": "9666219a-499c-4974-ba70-bcca4b5cb223",
   "metadata": {},
   "outputs": [],
   "source": [
    "del book_list"
   ]
  },
  {
   "cell_type": "code",
   "execution_count": 79,
   "id": "b4a46ec4-fec8-40b3-adca-74c9cc5aad7d",
   "metadata": {},
   "outputs": [
    {
     "ename": "NameError",
     "evalue": "name 'book_list' is not defined",
     "output_type": "error",
     "traceback": [
      "\u001b[0;31m---------------------------------------------------------------------------\u001b[0m",
      "\u001b[0;31mNameError\u001b[0m                                 Traceback (most recent call last)",
      "Cell \u001b[0;32mIn[79], line 1\u001b[0m\n\u001b[0;32m----> 1\u001b[0m \u001b[43mbook_list\u001b[49m\n",
      "\u001b[0;31mNameError\u001b[0m: name 'book_list' is not defined"
     ]
    }
   ],
   "source": [
    "book_list"
   ]
  },
  {
   "cell_type": "code",
   "execution_count": 80,
   "id": "4e2b51f3-7c6e-4299-a27d-6f0b7086e962",
   "metadata": {},
   "outputs": [],
   "source": [
    "book_list = [\"Data Structure\",\"Algorithm\",\"Web devlopment\",\"Algorithm\"]\n",
    "book_list.clear() # It clears the element of list and return the empty list"
   ]
  },
  {
   "cell_type": "code",
   "execution_count": 81,
   "id": "4a3419ba-ab58-41fa-8775-b6226377f820",
   "metadata": {},
   "outputs": [
    {
     "data": {
      "text/plain": [
       "[]"
      ]
     },
     "execution_count": 81,
     "metadata": {},
     "output_type": "execute_result"
    }
   ],
   "source": [
    "book_list"
   ]
  },
  {
   "cell_type": "code",
   "execution_count": 82,
   "id": "53d8d253-182a-4604-8ffe-e84770045257",
   "metadata": {},
   "outputs": [
    {
     "data": {
      "text/plain": [
       "'Algorithm'"
      ]
     },
     "execution_count": 82,
     "metadata": {},
     "output_type": "execute_result"
    }
   ],
   "source": [
    "book_list = [\"Data Structure\",\"Algorithm\",\"Web devlopment\",\"Algorithm\"]\n",
    "book_list.pop() # By default removes the last element"
   ]
  },
  {
   "cell_type": "code",
   "execution_count": 83,
   "id": "5efc9901-8d69-4533-9f89-a8437f1a2bd3",
   "metadata": {},
   "outputs": [
    {
     "data": {
      "text/plain": [
       "['Data Structure', 'Algorithm', 'Web devlopment']"
      ]
     },
     "execution_count": 83,
     "metadata": {},
     "output_type": "execute_result"
    }
   ],
   "source": [
    "book_list"
   ]
  },
  {
   "cell_type": "code",
   "execution_count": 84,
   "id": "be18e3f1-ff33-43f0-8c7b-5b0abf15c726",
   "metadata": {},
   "outputs": [
    {
     "data": {
      "text/plain": [
       "'Algorithm'"
      ]
     },
     "execution_count": 84,
     "metadata": {},
     "output_type": "execute_result"
    }
   ],
   "source": [
    "book_list.pop(1)"
   ]
  },
  {
   "cell_type": "code",
   "execution_count": 85,
   "id": "ef6e4b02-81ed-416b-84d5-eac180d73022",
   "metadata": {},
   "outputs": [
    {
     "data": {
      "text/plain": [
       "['Data Structure', 'Web devlopment']"
      ]
     },
     "execution_count": 85,
     "metadata": {},
     "output_type": "execute_result"
    }
   ],
   "source": [
    "book_list"
   ]
  },
  {
   "cell_type": "code",
   "execution_count": 86,
   "id": "e454a8ed-3b53-4c1e-842c-9783a671e18f",
   "metadata": {},
   "outputs": [],
   "source": [
    "prices = [10,20,30,40,50]\n",
    "doubled_price = []\n",
    "for i in prices:\n",
    "    doubled_price.append(i*2)"
   ]
  },
  {
   "cell_type": "code",
   "execution_count": 87,
   "id": "95f859e7-df6e-4d9b-830f-cdc19b839403",
   "metadata": {},
   "outputs": [
    {
     "data": {
      "text/plain": [
       "[20, 40, 60, 80, 100]"
      ]
     },
     "execution_count": 87,
     "metadata": {},
     "output_type": "execute_result"
    }
   ],
   "source": [
    "doubled_price"
   ]
  },
  {
   "cell_type": "code",
   "execution_count": 88,
   "id": "edad4a7b-a38b-4679-b840-366187796c09",
   "metadata": {},
   "outputs": [],
   "source": [
    "# List comprehension >> Concise code\n",
    "doubled_price = [price *2 for price in prices]"
   ]
  },
  {
   "cell_type": "code",
   "execution_count": 89,
   "id": "eeb124a5-d234-4e4d-b463-eb1b2b4a9320",
   "metadata": {},
   "outputs": [
    {
     "data": {
      "text/plain": [
       "[20, 40, 60, 80, 100]"
      ]
     },
     "execution_count": 89,
     "metadata": {},
     "output_type": "execute_result"
    }
   ],
   "source": [
    "doubled_price"
   ]
  },
  {
   "cell_type": "code",
   "execution_count": 90,
   "id": "317def52-03cd-467f-a5d5-97a568331b26",
   "metadata": {},
   "outputs": [],
   "source": [
    "names = [\"ajay\",\"bijay\",\"sanjay\"]\n",
    "Names1 = [name.title() for name in names]"
   ]
  },
  {
   "cell_type": "code",
   "execution_count": 91,
   "id": "3d4353d7-269a-4066-aaed-5fd8c827564d",
   "metadata": {},
   "outputs": [
    {
     "ename": "NameError",
     "evalue": "name 'Names' is not defined",
     "output_type": "error",
     "traceback": [
      "\u001b[0;31m---------------------------------------------------------------------------\u001b[0m",
      "\u001b[0;31mNameError\u001b[0m                                 Traceback (most recent call last)",
      "Cell \u001b[0;32mIn[91], line 1\u001b[0m\n\u001b[0;32m----> 1\u001b[0m \u001b[43mNames\u001b[49m\n",
      "\u001b[0;31mNameError\u001b[0m: name 'Names' is not defined"
     ]
    }
   ],
   "source": [
    "Names"
   ]
  },
  {
   "cell_type": "code",
   "execution_count": 92,
   "id": "afea9e22-ce1b-45b5-8392-02c7599be4ad",
   "metadata": {},
   "outputs": [],
   "source": [
    "names = [\"ajay\",\"bijay\",\"sanjay\"]\n",
    "Names2 = [name.capitalize() for name in names]"
   ]
  },
  {
   "cell_type": "code",
   "execution_count": 93,
   "id": "0508afc3-0b10-4a32-bd69-958d23ad6fc1",
   "metadata": {},
   "outputs": [
    {
     "data": {
      "text/plain": [
       "['Ajay', 'Bijay', 'Sanjay']"
      ]
     },
     "execution_count": 93,
     "metadata": {},
     "output_type": "execute_result"
    }
   ],
   "source": [
    "Names2"
   ]
  },
  {
   "cell_type": "code",
   "execution_count": 94,
   "id": "b25fbe52-d6c5-4f06-bd4c-44191c93d1cf",
   "metadata": {},
   "outputs": [],
   "source": [
    "# use cases\n",
    "numbers = [1,2,3,4,5]\n",
    "power_two = [number ** 2 for number in numbers]"
   ]
  },
  {
   "cell_type": "code",
   "execution_count": 95,
   "id": "06137478-859b-4747-a75c-4deda70d4cd8",
   "metadata": {},
   "outputs": [
    {
     "data": {
      "text/plain": [
       "[1, 4, 9, 16, 25]"
      ]
     },
     "execution_count": 95,
     "metadata": {},
     "output_type": "execute_result"
    }
   ],
   "source": [
    "power_two"
   ]
  },
  {
   "cell_type": "code",
   "execution_count": 96,
   "id": "e55cfbb5-fa92-4535-8ec8-1f2c9f9702e4",
   "metadata": {},
   "outputs": [],
   "source": [
    "str1 = \"doc1.ppt\"\n",
    "split_string = str1.split('.')"
   ]
  },
  {
   "cell_type": "code",
   "execution_count": 97,
   "id": "61c87a05-17e4-4a8a-8255-34096795d676",
   "metadata": {},
   "outputs": [
    {
     "data": {
      "text/plain": [
       "['doc1', 'ppt']"
      ]
     },
     "execution_count": 97,
     "metadata": {},
     "output_type": "execute_result"
    }
   ],
   "source": [
    "split_string"
   ]
  },
  {
   "cell_type": "code",
   "execution_count": 98,
   "id": "88ae5b96-89fc-44f3-b067-deaa4e14641e",
   "metadata": {},
   "outputs": [
    {
     "data": {
      "text/plain": [
       "'ppt'"
      ]
     },
     "execution_count": 98,
     "metadata": {},
     "output_type": "execute_result"
    }
   ],
   "source": [
    "split_string[-1]"
   ]
  },
  {
   "cell_type": "code",
   "execution_count": 99,
   "id": "6fabdd54-fdd7-4be5-87a6-8014a56ac95f",
   "metadata": {},
   "outputs": [
    {
     "data": {
      "text/plain": [
       "['ppt', 'pdf', 'jpg', 'py']"
      ]
     },
     "execution_count": 99,
     "metadata": {},
     "output_type": "execute_result"
    }
   ],
   "source": [
    "file_name = [\"doc1.ppt\",\"doc2.pdf\",\"doc3.jpg\",\"doc4.py\"]\n",
    "[file.split('.')[-1] for file in file_name]"
   ]
  },
  {
   "cell_type": "code",
   "execution_count": 100,
   "id": "ddd8119d-8126-4437-a872-cb80b40e52e7",
   "metadata": {},
   "outputs": [
    {
     "data": {
      "text/plain": [
       "['sj@yahoo.com', 'rj@yahoo.com']"
      ]
     },
     "execution_count": 100,
     "metadata": {},
     "output_type": "execute_result"
    }
   ],
   "source": [
    "# Conditional list comprehension\n",
    "email_address = [\"aj@gamil.com\",\"sj@yahoo.com\",\"rj@yahoo.com\",\"mj@gmail.com\"]\n",
    "[email for email in email_address if email.endswith(\"@yahoo.com\")]"
   ]
  },
  {
   "cell_type": "code",
   "execution_count": 101,
   "id": "9a723ba0-14e3-440a-b0db-c56710e30fa0",
   "metadata": {},
   "outputs": [],
   "source": [
    "# nested list comprehension"
   ]
  },
  {
   "cell_type": "code",
   "execution_count": 102,
   "id": "7eb8e937-2f2a-442a-a5f2-a8d4b9dfda98",
   "metadata": {},
   "outputs": [
    {
     "name": "stdout",
     "output_type": "stream",
     "text": [
      "[[1, 4], [1, 5], [1, 6], [2, 4], [2, 5], [2, 6], [3, 4], [3, 5], [3, 6]]\n"
     ]
    }
   ],
   "source": [
    "pairs = []\n",
    "for x in [1,2,3]:\n",
    "    for y in [4,5,6]:\n",
    "        pairs.append([x,y])\n",
    "print(pairs)"
   ]
  },
  {
   "cell_type": "code",
   "execution_count": 103,
   "id": "a3ed59f8-3d81-4459-a3b8-1c160fd1a839",
   "metadata": {},
   "outputs": [
    {
     "data": {
      "text/plain": [
       "[[1, 4], [1, 5], [1, 6], [2, 4], [2, 5], [2, 6], [3, 4], [3, 5], [3, 6]]"
      ]
     },
     "execution_count": 103,
     "metadata": {},
     "output_type": "execute_result"
    }
   ],
   "source": [
    "[[x,y] for x in [1,2,3] for y in [4,5,6]]"
   ]
  },
  {
   "cell_type": "code",
   "execution_count": 104,
   "id": "e480cadb-cda7-4cd3-b159-3402ebc24aff",
   "metadata": {},
   "outputs": [],
   "source": [
    "# List as stack and Queue (optional)"
   ]
  },
  {
   "cell_type": "code",
   "execution_count": 105,
   "id": "c706de6d-5a3d-4e08-b444-f97d97016cd4",
   "metadata": {},
   "outputs": [],
   "source": [
    "# stack >> work on the principal of LIFO(Last In first out)>> The last added to the stack will be the first one to be removed"
   ]
  },
  {
   "cell_type": "code",
   "execution_count": 106,
   "id": "de353b06-544f-48ae-b9ea-886c706414cf",
   "metadata": {},
   "outputs": [],
   "source": [
    "stack_of_plates = []\n",
    "stack_of_plates.append(\"plate1\")\n",
    "stack_of_plates.append(\"plate2\")\n",
    "stack_of_plates.append(\"plate3\")\n",
    "stack_of_plates.append(\"plate4\")"
   ]
  },
  {
   "cell_type": "code",
   "execution_count": 107,
   "id": "58e35012-e9ac-4750-a550-4c86eeeeee13",
   "metadata": {},
   "outputs": [
    {
     "data": {
      "text/plain": [
       "['plate1', 'plate2', 'plate3', 'plate4']"
      ]
     },
     "execution_count": 107,
     "metadata": {},
     "output_type": "execute_result"
    }
   ],
   "source": [
    "stack_of_plates"
   ]
  },
  {
   "cell_type": "code",
   "execution_count": 108,
   "id": "894c3c12-ccf1-4f7c-97f0-8b1aa3e5a0e2",
   "metadata": {},
   "outputs": [
    {
     "data": {
      "text/plain": [
       "'plate4'"
      ]
     },
     "execution_count": 108,
     "metadata": {},
     "output_type": "execute_result"
    }
   ],
   "source": [
    "stack_of_plates.pop()"
   ]
  },
  {
   "cell_type": "code",
   "execution_count": 109,
   "id": "59c51223-de48-4fa6-8b3b-48ee88890f82",
   "metadata": {},
   "outputs": [
    {
     "data": {
      "text/plain": [
       "['plate1', 'plate2', 'plate3']"
      ]
     },
     "execution_count": 109,
     "metadata": {},
     "output_type": "execute_result"
    }
   ],
   "source": [
    "stack_of_plates"
   ]
  },
  {
   "cell_type": "code",
   "execution_count": 110,
   "id": "491bbc0a-0c99-4f41-a115-1d2d1994ab1f",
   "metadata": {},
   "outputs": [],
   "source": [
    "# use case \n",
    "browsing_history = []\n",
    "browsing_history.append(\"home_page\")\n",
    "browsing_history.append(\"about_us\")\n",
    "browsing_history.append(\"contact\")"
   ]
  },
  {
   "cell_type": "code",
   "execution_count": 111,
   "id": "72ebeb12-6893-4658-89b9-3e4e22e3d6f8",
   "metadata": {},
   "outputs": [
    {
     "data": {
      "text/plain": [
       "['home_page', 'about_us', 'contact']"
      ]
     },
     "execution_count": 111,
     "metadata": {},
     "output_type": "execute_result"
    }
   ],
   "source": [
    "browsing_history"
   ]
  },
  {
   "cell_type": "code",
   "execution_count": 112,
   "id": "4a1065d9-a2ce-43a8-949d-bd692eb8b548",
   "metadata": {},
   "outputs": [
    {
     "data": {
      "text/plain": [
       "'contact'"
      ]
     },
     "execution_count": 112,
     "metadata": {},
     "output_type": "execute_result"
    }
   ],
   "source": [
    "browsing_history.pop()"
   ]
  },
  {
   "cell_type": "code",
   "execution_count": 113,
   "id": "75c79fc1-53d7-44f4-bde4-84c5e40025b9",
   "metadata": {},
   "outputs": [
    {
     "data": {
      "text/plain": [
       "['home_page', 'about_us']"
      ]
     },
     "execution_count": 113,
     "metadata": {},
     "output_type": "execute_result"
    }
   ],
   "source": [
    "browsing_history"
   ]
  },
  {
   "cell_type": "code",
   "execution_count": 114,
   "id": "dbd192e2-394c-4f47-a9b8-8ce7756c3b47",
   "metadata": {},
   "outputs": [],
   "source": [
    "# Queue >> follows FIFO (First in First Out)\n",
    "# It works in sequential manner\n",
    "# It has two ends"
   ]
  },
  {
   "cell_type": "code",
   "execution_count": 117,
   "id": "c23684f6-ef02-4603-9bad-c4b383817ed4",
   "metadata": {},
   "outputs": [],
   "source": [
    "from collections import deque"
   ]
  },
  {
   "cell_type": "code",
   "execution_count": 118,
   "id": "303992d3-a20f-4b01-ad79-9efbea799fc5",
   "metadata": {},
   "outputs": [],
   "source": [
    "checkout = deque()\n",
    "checkout.append(\"cus1\")\n",
    "checkout.append(\"cus2\")\n",
    "checkout.append(\"cus3\")\n",
    "checkout.append(\"cus4\")\n",
    "checkout.append(\"cus5\")"
   ]
  },
  {
   "cell_type": "code",
   "execution_count": 119,
   "id": "fc87d756-2308-43e4-9afd-caaa23f87ce0",
   "metadata": {},
   "outputs": [
    {
     "data": {
      "text/plain": [
       "deque(['cus1', 'cus2', 'cus3', 'cus4', 'cus5'])"
      ]
     },
     "execution_count": 119,
     "metadata": {},
     "output_type": "execute_result"
    }
   ],
   "source": [
    "checkout"
   ]
  },
  {
   "cell_type": "code",
   "execution_count": 120,
   "id": "a5d066e7-deb3-46f5-b051-a58df87ea222",
   "metadata": {},
   "outputs": [
    {
     "name": "stdout",
     "output_type": "stream",
     "text": [
      "Serving  cus1\n",
      "Serving  cus2\n",
      "Serving  cus3\n",
      "Serving  cus4\n",
      "Serving  cus5\n"
     ]
    }
   ],
   "source": [
    "while checkout :\n",
    "    customer = checkout.popleft()\n",
    "    print(\"Serving \",customer)"
   ]
  },
  {
   "cell_type": "code",
   "execution_count": 122,
   "id": "649b481f-1f2c-45ca-97bc-59e606df21f2",
   "metadata": {},
   "outputs": [
    {
     "name": "stdout",
     "output_type": "stream",
     "text": [
      "printing Print the 1 pdf\n",
      "printing Print the 2 pdf\n",
      "printing Print the 3 pdf\n",
      "printing Print the 4 pdf\n",
      "printing Print the 5 pdf\n"
     ]
    }
   ],
   "source": [
    "from queue import Queue\n",
    "print_queue = Queue()\n",
    "print_queue.put(\"Print the 1 pdf\") # put is similar to push\n",
    "print_queue.put(\"Print the 2 pdf\")\n",
    "print_queue.put(\"Print the 3 pdf\")\n",
    "print_queue.put(\"Print the 4 pdf\")\n",
    "print_queue.put(\"Print the 5 pdf\")\n",
    "\n",
    "while not print_queue.empty():\n",
    "    print_job = print_queue.get() # get is similar pop\n",
    "    print(\"printing\",print_job)"
   ]
  },
  {
   "cell_type": "code",
   "execution_count": null,
   "id": "ff293a6b-d5ee-4d6b-9ab8-3cba73270c2e",
   "metadata": {},
   "outputs": [],
   "source": []
  }
 ],
 "metadata": {
  "kernelspec": {
   "display_name": "Python 3 (ipykernel)",
   "language": "python",
   "name": "python3"
  },
  "language_info": {
   "codemirror_mode": {
    "name": "ipython",
    "version": 3
   },
   "file_extension": ".py",
   "mimetype": "text/x-python",
   "name": "python",
   "nbconvert_exporter": "python",
   "pygments_lexer": "ipython3",
   "version": "3.10.13"
  }
 },
 "nbformat": 4,
 "nbformat_minor": 5
}
