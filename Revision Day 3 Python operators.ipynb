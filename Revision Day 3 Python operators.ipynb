{
 "cells": [
  {
   "cell_type": "markdown",
   "id": "b7a77204-802b-44e2-ac07-b885117ae346",
   "metadata": {},
   "source": [
    "Python Operators - Special keywords / symbols that are used to perform operations on values or variables.\n",
    "\n",
    "why?\n",
    " 1. because we want to manage , do computation and make decision using data."
   ]
  },
  {
   "cell_type": "code",
   "execution_count": 1,
   "id": "21db6c6e-5787-4b6f-bc49-b470dbbf5387",
   "metadata": {},
   "outputs": [
    {
     "data": {
      "text/plain": [
       "5"
      ]
     },
     "execution_count": 1,
     "metadata": {},
     "output_type": "execute_result"
    }
   ],
   "source": [
    "a = 3\n",
    "b = 2\n",
    "a + b"
   ]
  },
  {
   "cell_type": "code",
   "execution_count": 2,
   "id": "8ed0075d-88ef-4c97-9783-8679d67b6ab3",
   "metadata": {},
   "outputs": [],
   "source": [
    "# airthematic operators"
   ]
  },
  {
   "cell_type": "code",
   "execution_count": 3,
   "id": "72791fe7-e598-4d8e-b076-518a708aaf46",
   "metadata": {},
   "outputs": [
    {
     "data": {
      "text/plain": [
       "5"
      ]
     },
     "execution_count": 3,
     "metadata": {},
     "output_type": "execute_result"
    }
   ],
   "source": [
    "add = a + b\n",
    "add"
   ]
  },
  {
   "cell_type": "code",
   "execution_count": 4,
   "id": "801a8180-605c-48f4-9926-f456d45cedc1",
   "metadata": {},
   "outputs": [
    {
     "data": {
      "text/plain": [
       "97"
      ]
     },
     "execution_count": 4,
     "metadata": {},
     "output_type": "execute_result"
    }
   ],
   "source": [
    "100-3"
   ]
  },
  {
   "cell_type": "code",
   "execution_count": 5,
   "id": "a89df24d-fb44-4c75-954a-fdbdff6f1627",
   "metadata": {},
   "outputs": [
    {
     "data": {
      "text/plain": [
       "-2"
      ]
     },
     "execution_count": 5,
     "metadata": {},
     "output_type": "execute_result"
    }
   ],
   "source": [
    "3-5"
   ]
  },
  {
   "cell_type": "code",
   "execution_count": 6,
   "id": "5b4da764-7621-480c-9d26-38a11833953f",
   "metadata": {},
   "outputs": [
    {
     "data": {
      "text/plain": [
       "15"
      ]
     },
     "execution_count": 6,
     "metadata": {},
     "output_type": "execute_result"
    }
   ],
   "source": [
    "3 * 5"
   ]
  },
  {
   "cell_type": "code",
   "execution_count": 7,
   "id": "dd741acd-4818-4855-a4ae-778826c497b1",
   "metadata": {},
   "outputs": [
    {
     "data": {
      "text/plain": [
       "5.25"
      ]
     },
     "execution_count": 7,
     "metadata": {},
     "output_type": "execute_result"
    }
   ],
   "source": [
    "21 / 4"
   ]
  },
  {
   "cell_type": "code",
   "execution_count": 8,
   "id": "e17e726e-5a7c-4b99-81a7-9fb9cdc8a81d",
   "metadata": {},
   "outputs": [
    {
     "data": {
      "text/plain": [
       "5.0"
      ]
     },
     "execution_count": 8,
     "metadata": {},
     "output_type": "execute_result"
    }
   ],
   "source": [
    "20/4 "
   ]
  },
  {
   "cell_type": "code",
   "execution_count": 9,
   "id": "8445fc52-5ec7-40f7-b856-59266ea7b1dc",
   "metadata": {},
   "outputs": [
    {
     "data": {
      "text/plain": [
       "1"
      ]
     },
     "execution_count": 9,
     "metadata": {},
     "output_type": "execute_result"
    }
   ],
   "source": [
    "# modulus operator << gives remainder\n",
    "21 % 4"
   ]
  },
  {
   "cell_type": "code",
   "execution_count": 10,
   "id": "2b4d410a-6874-4beb-bc76-989b56cc8c6a",
   "metadata": {},
   "outputs": [
    {
     "data": {
      "text/plain": [
       "32"
      ]
     },
     "execution_count": 10,
     "metadata": {},
     "output_type": "execute_result"
    }
   ],
   "source": [
    "2 ** 5 # 2 to power 5"
   ]
  },
  {
   "cell_type": "code",
   "execution_count": 11,
   "id": "3b48c0a8-98cc-4dfc-9df9-e37047a75fe4",
   "metadata": {},
   "outputs": [
    {
     "data": {
      "text/plain": [
       "515377520732011331036461129765621272702107522001"
      ]
     },
     "execution_count": 11,
     "metadata": {},
     "output_type": "execute_result"
    }
   ],
   "source": [
    "3 ** 100"
   ]
  },
  {
   "cell_type": "code",
   "execution_count": 12,
   "id": "1f6939a5-e3fb-40e5-98ff-af2a4089e471",
   "metadata": {},
   "outputs": [
    {
     "data": {
      "text/plain": [
       "1.3333333333333333"
      ]
     },
     "execution_count": 12,
     "metadata": {},
     "output_type": "execute_result"
    }
   ],
   "source": [
    "4 / 3"
   ]
  },
  {
   "cell_type": "code",
   "execution_count": 13,
   "id": "126bb68a-492f-4e30-abf9-caf50f037378",
   "metadata": {},
   "outputs": [
    {
     "data": {
      "text/plain": [
       "1"
      ]
     },
     "execution_count": 13,
     "metadata": {},
     "output_type": "execute_result"
    }
   ],
   "source": [
    "# floor operator\n",
    "4 // 3"
   ]
  },
  {
   "cell_type": "markdown",
   "id": "fc9721d0-0809-46e4-abb6-9457abf14abf",
   "metadata": {},
   "source": [
    "#### Comparison operators"
   ]
  },
  {
   "cell_type": "code",
   "execution_count": 14,
   "id": "8e82fc1b-4ae5-4fde-9e85-3d5d6a83cf08",
   "metadata": {},
   "outputs": [],
   "source": [
    "# comparison operator >> compare two values >> return a boolean value"
   ]
  },
  {
   "cell_type": "code",
   "execution_count": 15,
   "id": "d1485a8d-f9f0-4240-85ef-6d617c5caa5d",
   "metadata": {},
   "outputs": [
    {
     "data": {
      "text/plain": [
       "True"
      ]
     },
     "execution_count": 15,
     "metadata": {},
     "output_type": "execute_result"
    }
   ],
   "source": [
    "2 == 2"
   ]
  },
  {
   "cell_type": "code",
   "execution_count": 16,
   "id": "3d000e9b-45ac-4b75-9e4c-bb4c4bb0ff99",
   "metadata": {},
   "outputs": [
    {
     "data": {
      "text/plain": [
       "False"
      ]
     },
     "execution_count": 16,
     "metadata": {},
     "output_type": "execute_result"
    }
   ],
   "source": [
    "2 != 2"
   ]
  },
  {
   "cell_type": "code",
   "execution_count": 17,
   "id": "3d98ffca-7db8-4523-9e26-41299933ca01",
   "metadata": {},
   "outputs": [
    {
     "data": {
      "text/plain": [
       "True"
      ]
     },
     "execution_count": 17,
     "metadata": {},
     "output_type": "execute_result"
    }
   ],
   "source": [
    "5 != 2"
   ]
  },
  {
   "cell_type": "code",
   "execution_count": 18,
   "id": "c70419aa-0de0-4268-a3a9-64b3bc4d0053",
   "metadata": {},
   "outputs": [
    {
     "data": {
      "text/plain": [
       "True"
      ]
     },
     "execution_count": 18,
     "metadata": {},
     "output_type": "execute_result"
    }
   ],
   "source": [
    "10 > 2"
   ]
  },
  {
   "cell_type": "code",
   "execution_count": 19,
   "id": "4b035653-83cf-4869-9199-7a1effc9ca2f",
   "metadata": {},
   "outputs": [
    {
     "data": {
      "text/plain": [
       "True"
      ]
     },
     "execution_count": 19,
     "metadata": {},
     "output_type": "execute_result"
    }
   ],
   "source": [
    "10 >= 2"
   ]
  },
  {
   "cell_type": "code",
   "execution_count": 20,
   "id": "7ddc0bf5-6139-47b4-9bfd-45e242a4ed83",
   "metadata": {},
   "outputs": [
    {
     "data": {
      "text/plain": [
       "False"
      ]
     },
     "execution_count": 20,
     "metadata": {},
     "output_type": "execute_result"
    }
   ],
   "source": [
    "10 < 2"
   ]
  },
  {
   "cell_type": "code",
   "execution_count": 21,
   "id": "005a1660-1f44-4ae8-8c15-5d8388cd24bf",
   "metadata": {},
   "outputs": [
    {
     "data": {
      "text/plain": [
       "False"
      ]
     },
     "execution_count": 21,
     "metadata": {},
     "output_type": "execute_result"
    }
   ],
   "source": [
    "10 <= 2"
   ]
  },
  {
   "cell_type": "code",
   "execution_count": 22,
   "id": "2626a3ad-a167-4cae-bc70-b3b6d45d57df",
   "metadata": {},
   "outputs": [
    {
     "data": {
      "text/plain": [
       "True"
      ]
     },
     "execution_count": 22,
     "metadata": {},
     "output_type": "execute_result"
    }
   ],
   "source": [
    "12 >= 5"
   ]
  },
  {
   "cell_type": "code",
   "execution_count": 23,
   "id": "5808667d-b083-4bfe-ad66-c12cbe2e426a",
   "metadata": {},
   "outputs": [
    {
     "data": {
      "text/plain": [
       "True"
      ]
     },
     "execution_count": 23,
     "metadata": {},
     "output_type": "execute_result"
    }
   ],
   "source": [
    "12 >= 12"
   ]
  },
  {
   "cell_type": "code",
   "execution_count": 24,
   "id": "89c377bb-83ef-423d-90ae-e1c87b257a26",
   "metadata": {},
   "outputs": [],
   "source": [
    "# Logical Operators\n",
    "# and\n",
    "# or"
   ]
  },
  {
   "cell_type": "code",
   "execution_count": 25,
   "id": "4b3bddd8-f5c0-49f0-93b6-e938c56cda15",
   "metadata": {},
   "outputs": [
    {
     "data": {
      "text/plain": [
       "True"
      ]
     },
     "execution_count": 25,
     "metadata": {},
     "output_type": "execute_result"
    }
   ],
   "source": [
    "True and True"
   ]
  },
  {
   "cell_type": "code",
   "execution_count": 26,
   "id": "59a69b41-f057-40cb-ac5a-bec0f3dd56db",
   "metadata": {},
   "outputs": [
    {
     "data": {
      "text/plain": [
       "False"
      ]
     },
     "execution_count": 26,
     "metadata": {},
     "output_type": "execute_result"
    }
   ],
   "source": [
    "True and False"
   ]
  },
  {
   "cell_type": "code",
   "execution_count": 27,
   "id": "84f50f70-5b95-4d9f-b40f-4e266effe70e",
   "metadata": {},
   "outputs": [
    {
     "data": {
      "text/plain": [
       "False"
      ]
     },
     "execution_count": 27,
     "metadata": {},
     "output_type": "execute_result"
    }
   ],
   "source": [
    "False and True"
   ]
  },
  {
   "cell_type": "code",
   "execution_count": 28,
   "id": "8aebb07e-a5be-455e-b6d4-aad07b39bde6",
   "metadata": {},
   "outputs": [
    {
     "data": {
      "text/plain": [
       "False"
      ]
     },
     "execution_count": 28,
     "metadata": {},
     "output_type": "execute_result"
    }
   ],
   "source": [
    "False and False"
   ]
  },
  {
   "cell_type": "code",
   "execution_count": 29,
   "id": "0400e6a7-8e02-4735-bf02-c7bfc9bd5dde",
   "metadata": {},
   "outputs": [
    {
     "data": {
      "text/plain": [
       "True"
      ]
     },
     "execution_count": 29,
     "metadata": {},
     "output_type": "execute_result"
    }
   ],
   "source": [
    "True or True"
   ]
  },
  {
   "cell_type": "code",
   "execution_count": 30,
   "id": "02031b43-2ecd-407a-bce4-85c608160319",
   "metadata": {},
   "outputs": [
    {
     "data": {
      "text/plain": [
       "True"
      ]
     },
     "execution_count": 30,
     "metadata": {},
     "output_type": "execute_result"
    }
   ],
   "source": [
    "True or False"
   ]
  },
  {
   "cell_type": "code",
   "execution_count": 31,
   "id": "95567e7f-1fa9-44cb-9b9e-0687ed51efdc",
   "metadata": {},
   "outputs": [
    {
     "data": {
      "text/plain": [
       "True"
      ]
     },
     "execution_count": 31,
     "metadata": {},
     "output_type": "execute_result"
    }
   ],
   "source": [
    "False or True"
   ]
  },
  {
   "cell_type": "code",
   "execution_count": 32,
   "id": "0a275940-a807-4203-b2ee-bd3dd622cb4e",
   "metadata": {},
   "outputs": [
    {
     "data": {
      "text/plain": [
       "False"
      ]
     },
     "execution_count": 32,
     "metadata": {},
     "output_type": "execute_result"
    }
   ],
   "source": [
    "False or False"
   ]
  },
  {
   "cell_type": "code",
   "execution_count": 33,
   "id": "de910617-f977-4225-9591-e3ac8348ebbb",
   "metadata": {},
   "outputs": [
    {
     "data": {
      "text/plain": [
       "False"
      ]
     },
     "execution_count": 33,
     "metadata": {},
     "output_type": "execute_result"
    }
   ],
   "source": [
    "# not operator\n",
    "not True"
   ]
  },
  {
   "cell_type": "code",
   "execution_count": 34,
   "id": "934b0b22-36c4-41db-a412-3267d4621005",
   "metadata": {},
   "outputs": [
    {
     "data": {
      "text/plain": [
       "True"
      ]
     },
     "execution_count": 34,
     "metadata": {},
     "output_type": "execute_result"
    }
   ],
   "source": [
    "not False"
   ]
  },
  {
   "cell_type": "code",
   "execution_count": 35,
   "id": "49e86212-3fb8-4be3-9b7e-1c48e3c60251",
   "metadata": {},
   "outputs": [
    {
     "data": {
      "text/plain": [
       "10"
      ]
     },
     "execution_count": 35,
     "metadata": {},
     "output_type": "execute_result"
    }
   ],
   "source": [
    "# Assignment operator\n",
    "a = 10\n",
    "a"
   ]
  },
  {
   "cell_type": "code",
   "execution_count": 36,
   "id": "59175fd1-3ecf-4be9-9083-d7d7bb869788",
   "metadata": {},
   "outputs": [
    {
     "data": {
      "text/plain": [
       "15"
      ]
     },
     "execution_count": 36,
     "metadata": {},
     "output_type": "execute_result"
    }
   ],
   "source": [
    "a + 5"
   ]
  },
  {
   "cell_type": "code",
   "execution_count": 37,
   "id": "6be2a0e8-0933-42df-9f81-bd8e65f6032b",
   "metadata": {},
   "outputs": [
    {
     "data": {
      "text/plain": [
       "16"
      ]
     },
     "execution_count": 37,
     "metadata": {},
     "output_type": "execute_result"
    }
   ],
   "source": [
    "b = 10\n",
    "b + 6"
   ]
  },
  {
   "cell_type": "code",
   "execution_count": 38,
   "id": "eb2724b2-a50c-4769-a51e-8d224deae9d7",
   "metadata": {},
   "outputs": [
    {
     "data": {
      "text/plain": [
       "16"
      ]
     },
     "execution_count": 38,
     "metadata": {},
     "output_type": "execute_result"
    }
   ],
   "source": [
    "b = 12\n",
    "b = b + 4\n",
    "b"
   ]
  },
  {
   "cell_type": "code",
   "execution_count": 39,
   "id": "fce10b75-bb89-4951-99f9-65367e5f94ff",
   "metadata": {},
   "outputs": [
    {
     "data": {
      "text/plain": [
       "17"
      ]
     },
     "execution_count": 39,
     "metadata": {},
     "output_type": "execute_result"
    }
   ],
   "source": [
    "b = 12\n",
    "b += 5\n",
    "b"
   ]
  },
  {
   "cell_type": "code",
   "execution_count": 40,
   "id": "504fc04d-ec42-45c1-b16a-e1d11e2589a9",
   "metadata": {},
   "outputs": [
    {
     "data": {
      "text/plain": [
       "7"
      ]
     },
     "execution_count": 40,
     "metadata": {},
     "output_type": "execute_result"
    }
   ],
   "source": [
    "b = 12\n",
    "b -= 5\n",
    "b"
   ]
  },
  {
   "cell_type": "code",
   "execution_count": 41,
   "id": "8a8d4d05-4a7c-4dbc-afa8-85e3e1466e59",
   "metadata": {},
   "outputs": [],
   "source": [
    "b*=2"
   ]
  },
  {
   "cell_type": "code",
   "execution_count": 42,
   "id": "b5acfc97-6dcc-4092-9845-dc2155ad328e",
   "metadata": {},
   "outputs": [
    {
     "data": {
      "text/plain": [
       "14"
      ]
     },
     "execution_count": 42,
     "metadata": {},
     "output_type": "execute_result"
    }
   ],
   "source": [
    "b"
   ]
  },
  {
   "cell_type": "code",
   "execution_count": 43,
   "id": "5148df9d-48b1-4f27-acf8-ed1d1c0190d0",
   "metadata": {},
   "outputs": [
    {
     "data": {
      "text/plain": [
       "4.666666666666667"
      ]
     },
     "execution_count": 43,
     "metadata": {},
     "output_type": "execute_result"
    }
   ],
   "source": [
    "b/=3\n",
    "b"
   ]
  },
  {
   "cell_type": "markdown",
   "id": "ecc1b2ef-d2ca-44fd-9d58-0ab596eeefe4",
   "metadata": {},
   "source": [
    "#### membership operators"
   ]
  },
  {
   "cell_type": "code",
   "execution_count": 44,
   "id": "3b562bcd-ef82-4a6b-b1c3-82bbfb1bb6f5",
   "metadata": {},
   "outputs": [
    {
     "data": {
      "text/plain": [
       "True"
      ]
     },
     "execution_count": 44,
     "metadata": {},
     "output_type": "execute_result"
    }
   ],
   "source": [
    "# membership operators\n",
    "a = \"pwskills\"\n",
    "\"p\" in a"
   ]
  },
  {
   "cell_type": "code",
   "execution_count": 45,
   "id": "eb50de74-5674-4b23-a17b-1a2ab8ad5c4e",
   "metadata": {},
   "outputs": [
    {
     "data": {
      "text/plain": [
       "False"
      ]
     },
     "execution_count": 45,
     "metadata": {},
     "output_type": "execute_result"
    }
   ],
   "source": [
    "\"p\" not in a"
   ]
  },
  {
   "cell_type": "code",
   "execution_count": 46,
   "id": "4ef071be-0495-49ad-b6eb-9af5524cb6bd",
   "metadata": {},
   "outputs": [
    {
     "data": {
      "text/plain": [
       "False"
      ]
     },
     "execution_count": 46,
     "metadata": {},
     "output_type": "execute_result"
    }
   ],
   "source": [
    "b = \"Ajay\"\n",
    "\"am\" in b"
   ]
  },
  {
   "cell_type": "code",
   "execution_count": 47,
   "id": "97491220-74c3-4db6-9820-26543241491e",
   "metadata": {},
   "outputs": [
    {
     "data": {
      "text/plain": [
       "True"
      ]
     },
     "execution_count": 47,
     "metadata": {},
     "output_type": "execute_result"
    }
   ],
   "source": [
    "\"Aj\" in b"
   ]
  },
  {
   "cell_type": "code",
   "execution_count": 48,
   "id": "b820bb1e-18b5-49d8-9000-2d95f90107c9",
   "metadata": {},
   "outputs": [
    {
     "data": {
      "text/plain": [
       "True"
      ]
     },
     "execution_count": 48,
     "metadata": {},
     "output_type": "execute_result"
    }
   ],
   "source": [
    "\"Ram\"  not in a"
   ]
  },
  {
   "cell_type": "code",
   "execution_count": 49,
   "id": "88afc49f-52c1-45ae-ad38-c7ac8152dc25",
   "metadata": {},
   "outputs": [
    {
     "data": {
      "text/plain": [
       "True"
      ]
     },
     "execution_count": 49,
     "metadata": {},
     "output_type": "execute_result"
    }
   ],
   "source": [
    "a = [\"data\",\"analytics\", \"science\"]\n",
    "\"data\" in a"
   ]
  },
  {
   "cell_type": "code",
   "execution_count": 50,
   "id": "d034aa38-552f-419b-871e-506753eae113",
   "metadata": {},
   "outputs": [
    {
     "data": {
      "text/plain": [
       "False"
      ]
     },
     "execution_count": 50,
     "metadata": {},
     "output_type": "execute_result"
    }
   ],
   "source": [
    "\"Ajay\" in a"
   ]
  },
  {
   "cell_type": "markdown",
   "id": "ca99e969-a283-4b0b-aba5-8d903c0545ec",
   "metadata": {},
   "source": [
    "#### Identity Opertor"
   ]
  },
  {
   "cell_type": "code",
   "execution_count": 51,
   "id": "f3338319-11b9-427b-a4fc-468da1ef2171",
   "metadata": {},
   "outputs": [],
   "source": [
    "## Identity operators >> compares the location of two objects/ variables"
   ]
  },
  {
   "cell_type": "code",
   "execution_count": 52,
   "id": "28085711-875e-4d56-aa4f-d8bf3a47b147",
   "metadata": {},
   "outputs": [],
   "source": [
    "a = 2\n",
    "b = 3"
   ]
  },
  {
   "cell_type": "code",
   "execution_count": 53,
   "id": "ee8a8f61-2bf9-4c32-a181-6012e33dcf88",
   "metadata": {},
   "outputs": [
    {
     "data": {
      "text/plain": [
       "False"
      ]
     },
     "execution_count": 53,
     "metadata": {},
     "output_type": "execute_result"
    }
   ],
   "source": [
    "a is b"
   ]
  },
  {
   "cell_type": "code",
   "execution_count": 54,
   "id": "7f22686c-ca53-48a3-8341-af16f28b7233",
   "metadata": {},
   "outputs": [
    {
     "data": {
      "text/plain": [
       "True"
      ]
     },
     "execution_count": 54,
     "metadata": {},
     "output_type": "execute_result"
    }
   ],
   "source": [
    "a is not b"
   ]
  },
  {
   "cell_type": "code",
   "execution_count": 55,
   "id": "7a22d579-b684-4bc4-b5dd-73e8c8e55d5c",
   "metadata": {},
   "outputs": [
    {
     "data": {
      "text/plain": [
       "True"
      ]
     },
     "execution_count": 55,
     "metadata": {},
     "output_type": "execute_result"
    }
   ],
   "source": [
    "a = 2\n",
    "b = a\n",
    "a is b"
   ]
  },
  {
   "cell_type": "code",
   "execution_count": 56,
   "id": "264ed6c4-0f6f-43d3-9d9d-4477bbdf4720",
   "metadata": {},
   "outputs": [],
   "source": [
    "# bitwise operator >> operations at bit level, manipulating individuals bits within integers"
   ]
  },
  {
   "cell_type": "code",
   "execution_count": 57,
   "id": "0842373d-93af-4ff9-b7f8-471e03c0117d",
   "metadata": {},
   "outputs": [
    {
     "data": {
      "text/plain": [
       "10"
      ]
     },
     "execution_count": 57,
     "metadata": {},
     "output_type": "execute_result"
    }
   ],
   "source": [
    "10 & 10"
   ]
  },
  {
   "cell_type": "code",
   "execution_count": 58,
   "id": "7cd70d71-f014-478a-80a7-4641ba994816",
   "metadata": {},
   "outputs": [
    {
     "data": {
      "text/plain": [
       "'0b1010'"
      ]
     },
     "execution_count": 58,
     "metadata": {},
     "output_type": "execute_result"
    }
   ],
   "source": [
    "bin(10)"
   ]
  },
  {
   "cell_type": "code",
   "execution_count": 59,
   "id": "de2519f9-fdf5-4ecd-9833-ebfcc822bdba",
   "metadata": {},
   "outputs": [
    {
     "data": {
      "text/plain": [
       "'0b1'"
      ]
     },
     "execution_count": 59,
     "metadata": {},
     "output_type": "execute_result"
    }
   ],
   "source": [
    "bin(1)"
   ]
  },
  {
   "cell_type": "code",
   "execution_count": 60,
   "id": "4003440e-5625-4df7-9e34-cf6b4e318110",
   "metadata": {},
   "outputs": [
    {
     "data": {
      "text/plain": [
       "'0b1000'"
      ]
     },
     "execution_count": 60,
     "metadata": {},
     "output_type": "execute_result"
    }
   ],
   "source": [
    "bin(8)"
   ]
  },
  {
   "cell_type": "code",
   "execution_count": 61,
   "id": "3a6d36e7-5ca6-46d0-a914-df66f686dc96",
   "metadata": {},
   "outputs": [
    {
     "data": {
      "text/plain": [
       "2"
      ]
     },
     "execution_count": 61,
     "metadata": {},
     "output_type": "execute_result"
    }
   ],
   "source": [
    "18 & 3"
   ]
  },
  {
   "cell_type": "code",
   "execution_count": 62,
   "id": "0dc18128-e2fa-43a7-a654-ed9c20b319f6",
   "metadata": {},
   "outputs": [
    {
     "data": {
      "text/plain": [
       "'0b10010'"
      ]
     },
     "execution_count": 62,
     "metadata": {},
     "output_type": "execute_result"
    }
   ],
   "source": [
    "bin(18)"
   ]
  },
  {
   "cell_type": "code",
   "execution_count": 63,
   "id": "769bf68f-7600-4219-815d-53637c005ce4",
   "metadata": {},
   "outputs": [
    {
     "data": {
      "text/plain": [
       "'0b11'"
      ]
     },
     "execution_count": 63,
     "metadata": {},
     "output_type": "execute_result"
    }
   ],
   "source": [
    "bin(3)"
   ]
  },
  {
   "cell_type": "code",
   "execution_count": 64,
   "id": "8229690c-a1dd-4e6f-8969-6f2fb4b82fb4",
   "metadata": {},
   "outputs": [
    {
     "data": {
      "text/plain": [
       "'0b10'"
      ]
     },
     "execution_count": 64,
     "metadata": {},
     "output_type": "execute_result"
    }
   ],
   "source": [
    "bin(2)"
   ]
  },
  {
   "cell_type": "code",
   "execution_count": 65,
   "id": "a0a86f65-94ba-435e-9f16-307cf9099d7a",
   "metadata": {},
   "outputs": [
    {
     "data": {
      "text/plain": [
       "7"
      ]
     },
     "execution_count": 65,
     "metadata": {},
     "output_type": "execute_result"
    }
   ],
   "source": [
    "# bitwise or\n",
    "3 | 5"
   ]
  },
  {
   "cell_type": "code",
   "execution_count": 66,
   "id": "a246e685-0fae-4162-ad8f-3bed827ec35b",
   "metadata": {},
   "outputs": [
    {
     "data": {
      "text/plain": [
       "'0b11'"
      ]
     },
     "execution_count": 66,
     "metadata": {},
     "output_type": "execute_result"
    }
   ],
   "source": [
    "bin(3)"
   ]
  },
  {
   "cell_type": "code",
   "execution_count": 67,
   "id": "c57b6ab3-0d0c-4cc4-baa6-6d75ed380556",
   "metadata": {},
   "outputs": [
    {
     "data": {
      "text/plain": [
       "'0b101'"
      ]
     },
     "execution_count": 67,
     "metadata": {},
     "output_type": "execute_result"
    }
   ],
   "source": [
    "bin(5)"
   ]
  },
  {
   "cell_type": "code",
   "execution_count": 68,
   "id": "d7e8a032-9162-4ce2-a40f-38922cc49591",
   "metadata": {},
   "outputs": [
    {
     "data": {
      "text/plain": [
       "'0b111'"
      ]
     },
     "execution_count": 68,
     "metadata": {},
     "output_type": "execute_result"
    }
   ],
   "source": [
    "bin(7)"
   ]
  },
  {
   "cell_type": "code",
   "execution_count": 69,
   "id": "f96c8f14-8d2b-4f0e-87e0-26f9556b0e45",
   "metadata": {},
   "outputs": [
    {
     "data": {
      "text/plain": [
       "-4"
      ]
     },
     "execution_count": 69,
     "metadata": {},
     "output_type": "execute_result"
    }
   ],
   "source": [
    "# negation bitwise operator\n",
    "~3"
   ]
  },
  {
   "cell_type": "code",
   "execution_count": 70,
   "id": "7d5f3558-2d7a-45ad-b2d2-ba8119c1487c",
   "metadata": {},
   "outputs": [
    {
     "data": {
      "text/plain": [
       "-101"
      ]
     },
     "execution_count": 70,
     "metadata": {},
     "output_type": "execute_result"
    }
   ],
   "source": [
    "~100"
   ]
  },
  {
   "cell_type": "code",
   "execution_count": 71,
   "id": "c412f5bf-2e8e-42c8-b928-37a3d574d66f",
   "metadata": {},
   "outputs": [
    {
     "data": {
      "text/plain": [
       "-7"
      ]
     },
     "execution_count": 71,
     "metadata": {},
     "output_type": "execute_result"
    }
   ],
   "source": [
    "~6"
   ]
  },
  {
   "cell_type": "code",
   "execution_count": 72,
   "id": "3c3e73fd-ee68-46d0-af0e-b40c4a648589",
   "metadata": {},
   "outputs": [
    {
     "data": {
      "text/plain": [
       "6"
      ]
     },
     "execution_count": 72,
     "metadata": {},
     "output_type": "execute_result"
    }
   ],
   "source": [
    "# bitwise xor operator >> ^\n",
    "5 ^ 3"
   ]
  },
  {
   "cell_type": "code",
   "execution_count": 73,
   "id": "811fe8bf-4ca4-4182-b6fe-380c13677c8c",
   "metadata": {},
   "outputs": [],
   "source": [
    "# xor  >> returns 1 when exactly one operand is 1"
   ]
  },
  {
   "cell_type": "code",
   "execution_count": 74,
   "id": "2c8d4b70-a30a-4bcc-bfeb-b0ed279c0f29",
   "metadata": {},
   "outputs": [
    {
     "data": {
      "text/plain": [
       "'0b101'"
      ]
     },
     "execution_count": 74,
     "metadata": {},
     "output_type": "execute_result"
    }
   ],
   "source": [
    "bin(5)"
   ]
  },
  {
   "cell_type": "code",
   "execution_count": 75,
   "id": "c893c510-9939-454f-a469-87cc9d398942",
   "metadata": {},
   "outputs": [
    {
     "data": {
      "text/plain": [
       "'0b11'"
      ]
     },
     "execution_count": 75,
     "metadata": {},
     "output_type": "execute_result"
    }
   ],
   "source": [
    "bin(3)"
   ]
  },
  {
   "cell_type": "code",
   "execution_count": 76,
   "id": "e689d104-0b49-42b1-96fd-7b7ad7c26b4f",
   "metadata": {},
   "outputs": [
    {
     "data": {
      "text/plain": [
       "'0b110'"
      ]
     },
     "execution_count": 76,
     "metadata": {},
     "output_type": "execute_result"
    }
   ],
   "source": [
    "bin(6)"
   ]
  },
  {
   "cell_type": "code",
   "execution_count": 77,
   "id": "8a0e4616-4a4e-474c-859e-c6e72809a140",
   "metadata": {},
   "outputs": [
    {
     "data": {
      "text/plain": [
       "4"
      ]
     },
     "execution_count": 77,
     "metadata": {},
     "output_type": "execute_result"
    }
   ],
   "source": [
    "2 ^ 6"
   ]
  },
  {
   "cell_type": "code",
   "execution_count": 78,
   "id": "9b4d8e28-2d75-44fc-a0bf-3403e18ccb14",
   "metadata": {},
   "outputs": [
    {
     "data": {
      "text/plain": [
       "'0b10'"
      ]
     },
     "execution_count": 78,
     "metadata": {},
     "output_type": "execute_result"
    }
   ],
   "source": [
    "bin(2)"
   ]
  },
  {
   "cell_type": "code",
   "execution_count": 79,
   "id": "8a7af129-039d-44dc-9de3-f294b801481e",
   "metadata": {},
   "outputs": [
    {
     "data": {
      "text/plain": [
       "'0b110'"
      ]
     },
     "execution_count": 79,
     "metadata": {},
     "output_type": "execute_result"
    }
   ],
   "source": [
    "bin(6)"
   ]
  },
  {
   "cell_type": "code",
   "execution_count": 80,
   "id": "2ae29357-828a-4920-a91a-9fddd0e31807",
   "metadata": {},
   "outputs": [
    {
     "data": {
      "text/plain": [
       "'0b100'"
      ]
     },
     "execution_count": 80,
     "metadata": {},
     "output_type": "execute_result"
    }
   ],
   "source": [
    "bin(4)"
   ]
  },
  {
   "cell_type": "code",
   "execution_count": 81,
   "id": "0a0d061a-b1c5-4057-baca-c1bc1838e434",
   "metadata": {},
   "outputs": [],
   "source": [
    "# shift operator\n",
    "# 1. Left shift and\n",
    "# 2. Right shift"
   ]
  },
  {
   "cell_type": "code",
   "execution_count": 82,
   "id": "2e6bcc10-9d03-4310-9949-be64e23bcc85",
   "metadata": {},
   "outputs": [],
   "source": [
    "# Shift >> shifts the bits by left or right"
   ]
  },
  {
   "cell_type": "code",
   "execution_count": 83,
   "id": "2a03c0ca-64ff-444c-b69c-d66d0096dd9d",
   "metadata": {},
   "outputs": [
    {
     "data": {
      "text/plain": [
       "280"
      ]
     },
     "execution_count": 83,
     "metadata": {},
     "output_type": "execute_result"
    }
   ],
   "source": [
    "# 1. Left shift operator -- << shifts the bits to the left by a specified no. of position by filling 0 on the right\n",
    "35 << 3"
   ]
  },
  {
   "cell_type": "code",
   "execution_count": 84,
   "id": "359fb21b-d390-4c8c-9473-4c58f95017bb",
   "metadata": {},
   "outputs": [
    {
     "data": {
      "text/plain": [
       "'0b100011'"
      ]
     },
     "execution_count": 84,
     "metadata": {},
     "output_type": "execute_result"
    }
   ],
   "source": [
    "bin(35)"
   ]
  },
  {
   "cell_type": "code",
   "execution_count": 85,
   "id": "5d91b1d3-2118-487f-bfbf-40fa2fd9a780",
   "metadata": {},
   "outputs": [
    {
     "data": {
      "text/plain": [
       "'0b100011000'"
      ]
     },
     "execution_count": 85,
     "metadata": {},
     "output_type": "execute_result"
    }
   ],
   "source": [
    "bin(280)"
   ]
  },
  {
   "cell_type": "code",
   "execution_count": 86,
   "id": "71a32d9d-ac25-476c-a9e5-70481a100fc7",
   "metadata": {},
   "outputs": [
    {
     "data": {
      "text/plain": [
       "280"
      ]
     },
     "execution_count": 86,
     "metadata": {},
     "output_type": "execute_result"
    }
   ],
   "source": [
    "2**8 + 2**4 + 2**3"
   ]
  },
  {
   "cell_type": "code",
   "execution_count": 87,
   "id": "e02b1db0-239e-4dce-8bcf-4e97eef3d0b5",
   "metadata": {},
   "outputs": [
    {
     "data": {
      "text/plain": [
       "10"
      ]
     },
     "execution_count": 87,
     "metadata": {},
     "output_type": "execute_result"
    }
   ],
   "source": [
    "5 << 1 # left shift by 1"
   ]
  },
  {
   "cell_type": "code",
   "execution_count": 88,
   "id": "600d96c5-13df-4972-be21-3aaa3e6805ec",
   "metadata": {},
   "outputs": [
    {
     "data": {
      "text/plain": [
       "'0b101'"
      ]
     },
     "execution_count": 88,
     "metadata": {},
     "output_type": "execute_result"
    }
   ],
   "source": [
    "bin(5)"
   ]
  },
  {
   "cell_type": "code",
   "execution_count": 89,
   "id": "dcc2da3f-b914-4949-a478-a88e56532fe8",
   "metadata": {},
   "outputs": [
    {
     "data": {
      "text/plain": [
       "'0b1010'"
      ]
     },
     "execution_count": 89,
     "metadata": {},
     "output_type": "execute_result"
    }
   ],
   "source": [
    "bin(10)"
   ]
  },
  {
   "cell_type": "code",
   "execution_count": 92,
   "id": "d04f0166-090a-4da4-a4e0-1d98794e7d7a",
   "metadata": {},
   "outputs": [],
   "source": [
    "# Right shift operator >> remove the number of elements in the binary"
   ]
  },
  {
   "cell_type": "code",
   "execution_count": 93,
   "id": "a859b52e-7529-455d-877d-0b33bf46d0cc",
   "metadata": {},
   "outputs": [
    {
     "data": {
      "text/plain": [
       "35"
      ]
     },
     "execution_count": 93,
     "metadata": {},
     "output_type": "execute_result"
    }
   ],
   "source": [
    "280 >> 3"
   ]
  },
  {
   "cell_type": "code",
   "execution_count": 94,
   "id": "e66443cf-3cbf-4127-a627-ea8e93674645",
   "metadata": {},
   "outputs": [
    {
     "data": {
      "text/plain": [
       "'0b100011000'"
      ]
     },
     "execution_count": 94,
     "metadata": {},
     "output_type": "execute_result"
    }
   ],
   "source": [
    "bin(280)"
   ]
  },
  {
   "cell_type": "code",
   "execution_count": 95,
   "id": "1f943319-346c-4f12-8425-4aee97175a76",
   "metadata": {},
   "outputs": [
    {
     "data": {
      "text/plain": [
       "2"
      ]
     },
     "execution_count": 95,
     "metadata": {},
     "output_type": "execute_result"
    }
   ],
   "source": [
    "10 >> 2"
   ]
  },
  {
   "cell_type": "code",
   "execution_count": 96,
   "id": "dc456236-3e3a-4680-a908-b1f732b2fc23",
   "metadata": {},
   "outputs": [
    {
     "data": {
      "text/plain": [
       "'0b1010'"
      ]
     },
     "execution_count": 96,
     "metadata": {},
     "output_type": "execute_result"
    }
   ],
   "source": [
    "bin(10)"
   ]
  },
  {
   "cell_type": "code",
   "execution_count": 97,
   "id": "538cb03e-a167-4239-ac4e-f522f73be21c",
   "metadata": {},
   "outputs": [
    {
     "data": {
      "text/plain": [
       "'0b10'"
      ]
     },
     "execution_count": 97,
     "metadata": {},
     "output_type": "execute_result"
    }
   ],
   "source": [
    "bin(2)"
   ]
  },
  {
   "cell_type": "code",
   "execution_count": 99,
   "id": "5d4bf733-38a2-4ce6-9811-602e216a7514",
   "metadata": {},
   "outputs": [],
   "source": [
    "# order of precedence\n",
    "# execution of python statement will  be from left to right"
   ]
  },
  {
   "cell_type": "code",
   "execution_count": 100,
   "id": "9bc61eab-1631-4506-8384-dc8d1fb1e298",
   "metadata": {},
   "outputs": [
    {
     "data": {
      "text/plain": [
       "13"
      ]
     },
     "execution_count": 100,
     "metadata": {},
     "output_type": "execute_result"
    }
   ],
   "source": [
    "b = 5\n",
    "b += 8\n",
    "b"
   ]
  },
  {
   "cell_type": "code",
   "execution_count": 101,
   "id": "9d26f0ab-3281-4b07-917b-a18a92857f69",
   "metadata": {},
   "outputs": [
    {
     "data": {
      "text/plain": [
       "-3"
      ]
     },
     "execution_count": 101,
     "metadata": {},
     "output_type": "execute_result"
    }
   ],
   "source": [
    "2+3-8"
   ]
  },
  {
   "cell_type": "code",
   "execution_count": 102,
   "id": "603f4563-f667-4e83-8bbf-c038c7be5825",
   "metadata": {},
   "outputs": [],
   "source": [
    "# always paranthesis execute first in python"
   ]
  },
  {
   "cell_type": "code",
   "execution_count": 103,
   "id": "74c7b8c5-818d-4b2e-9502-ece076e18402",
   "metadata": {},
   "outputs": [
    {
     "data": {
      "text/plain": [
       "6"
      ]
     },
     "execution_count": 103,
     "metadata": {},
     "output_type": "execute_result"
    }
   ],
   "source": [
    "(5-3)+4"
   ]
  },
  {
   "cell_type": "code",
   "execution_count": 104,
   "id": "080f120f-5d7b-4ab2-a636-1cfff0ce4039",
   "metadata": {},
   "outputs": [
    {
     "data": {
      "text/plain": [
       "6"
      ]
     },
     "execution_count": 104,
     "metadata": {},
     "output_type": "execute_result"
    }
   ],
   "source": [
    "4 -3 + 5"
   ]
  },
  {
   "cell_type": "code",
   "execution_count": 105,
   "id": "55a8b4d2-59f2-418f-9eb1-70f87fa17192",
   "metadata": {},
   "outputs": [
    {
     "data": {
      "text/plain": [
       "19.0"
      ]
     },
     "execution_count": 105,
     "metadata": {},
     "output_type": "execute_result"
    }
   ],
   "source": [
    "(10 + 5) + (8/2)"
   ]
  },
  {
   "cell_type": "code",
   "execution_count": null,
   "id": "43347906-817a-40bb-8826-ffa4bd767d6c",
   "metadata": {},
   "outputs": [],
   "source": []
  }
 ],
 "metadata": {
  "kernelspec": {
   "display_name": "Python 3 (ipykernel)",
   "language": "python",
   "name": "python3"
  },
  "language_info": {
   "codemirror_mode": {
    "name": "ipython",
    "version": 3
   },
   "file_extension": ".py",
   "mimetype": "text/x-python",
   "name": "python",
   "nbconvert_exporter": "python",
   "pygments_lexer": "ipython3",
   "version": "3.10.13"
  }
 },
 "nbformat": 4,
 "nbformat_minor": 5
}
