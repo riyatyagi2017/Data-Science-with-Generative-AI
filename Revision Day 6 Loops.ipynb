{
 "cells": [
  {
   "cell_type": "code",
   "execution_count": 1,
   "id": "6afb2672-4699-4629-ac83-9cc75bfd4e28",
   "metadata": {},
   "outputs": [],
   "source": [
    "# Loop statement >> It allows you to execute a block of code repeatedly\n",
    "# Loops >> while loop and for loop"
   ]
  },
  {
   "cell_type": "code",
   "execution_count": 2,
   "id": "58d81621-030e-4150-8b3f-c7020eb82936",
   "metadata": {},
   "outputs": [],
   "source": [
    "# while loop >> repeatedly executed a block of code until a condition is met"
   ]
  },
  {
   "cell_type": "code",
   "execution_count": 3,
   "id": "6cf2b824-5efe-4cf0-aaca-3efbbfc4267a",
   "metadata": {},
   "outputs": [],
   "source": [
    "# syntax\n",
    "#while condition:\n",
    "#    block of code\n",
    "#>> while is a key word used for a while loop"
   ]
  },
  {
   "cell_type": "code",
   "execution_count": 4,
   "id": "6e5aeb4b-468e-41eb-a8b7-47eb5459a4a0",
   "metadata": {},
   "outputs": [
    {
     "name": "stdout",
     "output_type": "stream",
     "text": [
      "1\n",
      "2\n",
      "3\n",
      "4\n",
      "5\n",
      "6\n"
     ]
    }
   ],
   "source": [
    "n = 7 \n",
    "i = 1\n",
    "while i < n:\n",
    "    print(i)\n",
    "    i = i + 1"
   ]
  },
  {
   "cell_type": "code",
   "execution_count": 5,
   "id": "33b89abf-b928-45da-9a83-e4f155a35ecd",
   "metadata": {},
   "outputs": [
    {
     "name": "stdout",
     "output_type": "stream",
     "text": [
      "5\n",
      "4\n",
      "3\n",
      "2\n",
      "1\n"
     ]
    }
   ],
   "source": [
    "count = 5\n",
    "while count > 0:\n",
    "    print(count)\n",
    "    count = count - 1"
   ]
  },
  {
   "cell_type": "code",
   "execution_count": 6,
   "id": "cd65881b",
   "metadata": {},
   "outputs": [
    {
     "name": "stdout",
     "output_type": "stream",
     "text": [
      "5\n",
      "4\n",
      "3\n",
      "2\n",
      "1\n",
      "Succesfully we are out of the while loop!\n"
     ]
    }
   ],
   "source": [
    "count = 5\n",
    "while count > 0:\n",
    "    print(count)\n",
    "    count = count - 1\n",
    "else:\n",
    "    print(\"Succesfully we are out of the while loop!\")"
   ]
  },
  {
   "cell_type": "code",
   "execution_count": 7,
   "id": "fc9ea6e9-1851-4326-8ba4-1de354cecea2",
   "metadata": {},
   "outputs": [
    {
     "name": "stdout",
     "output_type": "stream",
     "text": [
      "1\n",
      "2\n"
     ]
    }
   ],
   "source": [
    "# break terminates/exits the loop\n",
    "# The condition is met it will break the loop\n",
    "n = 7 \n",
    "i = 1\n",
    "while i < n:\n",
    "    print(i)\n",
    "    i = i + 1\n",
    "    if i == 3:\n",
    "        break"
   ]
  },
  {
   "cell_type": "code",
   "execution_count": 8,
   "id": "0e97804c-1c25-4ebe-b7c8-707e6ac44697",
   "metadata": {},
   "outputs": [
    {
     "name": "stdout",
     "output_type": "stream",
     "text": [
      "2\n",
      "4\n",
      "5\n",
      "6\n",
      "7\n",
      "This will be executed when the while is run successfuly without any break\n"
     ]
    }
   ],
   "source": [
    "# continue >> skips the iteration\n",
    "n = 7 \n",
    "i = 1\n",
    "while i < n:\n",
    "    i = i + 1\n",
    "    if i == 3:\n",
    "        continue\n",
    "    print(i)\n",
    "else:\n",
    "    print(\"This will be executed when the while is run successfuly without any break\")"
   ]
  },
  {
   "cell_type": "code",
   "execution_count": 9,
   "id": "5563efff-c960-4e1a-b296-e0e967a23e16",
   "metadata": {},
   "outputs": [
    {
     "name": "stdout",
     "output_type": "stream",
     "text": [
      "p w s k i l l s "
     ]
    }
   ],
   "source": [
    "# for loops >> iterate over a sequence of elements >> strings, lIst\n",
    "\n",
    "for i in \"pwskills\":\n",
    "    print(i, end = \" \")"
   ]
  },
  {
   "cell_type": "code",
   "execution_count": 10,
   "id": "ad0c4a27-75de-49b7-aa74-33b8adea894f",
   "metadata": {},
   "outputs": [
    {
     "name": "stdout",
     "output_type": "stream",
     "text": [
      "p w s k i l l s "
     ]
    }
   ],
   "source": [
    "a = \"pwskills\"\n",
    "for i in a:\n",
    "    print(i, end = \" \")"
   ]
  },
  {
   "cell_type": "code",
   "execution_count": 11,
   "id": "313f016a-3bf1-4226-b662-4d97f587160c",
   "metadata": {},
   "outputs": [
    {
     "name": "stdout",
     "output_type": "stream",
     "text": [
      "1\n",
      "2\n",
      "Ajay\n",
      "pwskills\n"
     ]
    }
   ],
   "source": [
    "l = [1,2,\"Ajay\",\"pwskills\"]\n",
    "for i in l:\n",
    "    print(i)"
   ]
  },
  {
   "cell_type": "code",
   "execution_count": 12,
   "id": "5bdfe357-65fa-4015-8229-c8251b069522",
   "metadata": {},
   "outputs": [
    {
     "name": "stdout",
     "output_type": "stream",
     "text": [
      "1\n",
      "2\n",
      "Ajay\n",
      "pwskills\n",
      "This will be executed when for loop ends without any break statement\n"
     ]
    }
   ],
   "source": [
    "for i in l:\n",
    "    print(i)\n",
    "else:\n",
    "    print(\"This will be executed when for loop ends without any break statement\")"
   ]
  },
  {
   "cell_type": "code",
   "execution_count": 13,
   "id": "fc0a87bc-36ec-46c7-ba17-4325fe4d61d6",
   "metadata": {},
   "outputs": [
    {
     "name": "stdout",
     "output_type": "stream",
     "text": [
      "1\n",
      "2\n"
     ]
    }
   ],
   "source": [
    "# break statement in for loop\n",
    "for i in l:\n",
    "    if i == \"Ajay\":\n",
    "        break\n",
    "    print(i)\n",
    "else:\n",
    "    print(\"This will be executed when for loop ends without any break statement\")"
   ]
  },
  {
   "cell_type": "code",
   "execution_count": 14,
   "id": "c797d289-7091-4d1a-843c-eb9667e1f320",
   "metadata": {},
   "outputs": [
    {
     "name": "stdout",
     "output_type": "stream",
     "text": [
      "1\n",
      "2\n",
      "pwskills\n",
      "This will be executed when for loop ends without a break statement\n"
     ]
    }
   ],
   "source": [
    "for i in l:\n",
    "    if i == \"Ajay\":\n",
    "        continue\n",
    "    print(i)\n",
    "else:\n",
    "    print(\"This will be executed when for loop ends without a break statement\")"
   ]
  },
  {
   "cell_type": "code",
   "execution_count": 15,
   "id": "a8ddc7ac-6cbc-4a8d-8168-e8f8f14ded8d",
   "metadata": {},
   "outputs": [
    {
     "data": {
      "text/plain": [
       "range(0, 10)"
      ]
     },
     "execution_count": 15,
     "metadata": {},
     "output_type": "execute_result"
    }
   ],
   "source": [
    "range(0, 10) # it will give value from 0 to 9"
   ]
  },
  {
   "cell_type": "code",
   "execution_count": 16,
   "id": "57f2f02f-dd5f-4f88-bcb3-b5531642d508",
   "metadata": {},
   "outputs": [
    {
     "data": {
      "text/plain": [
       "[0, 1, 2, 3, 4, 5, 6, 7, 8, 9]"
      ]
     },
     "execution_count": 16,
     "metadata": {},
     "output_type": "execute_result"
    }
   ],
   "source": [
    "list(range(0,10))"
   ]
  },
  {
   "cell_type": "code",
   "execution_count": 17,
   "id": "4da5a9df-d65a-4e60-8984-9f5df3912780",
   "metadata": {},
   "outputs": [
    {
     "name": "stdout",
     "output_type": "stream",
     "text": [
      "0  1  2  3  4  5  6  7  8  9  "
     ]
    }
   ],
   "source": [
    "for i in range(10):\n",
    "    print(i, end = \"  \")"
   ]
  },
  {
   "cell_type": "code",
   "execution_count": 18,
   "id": "0395718a-d7e0-4bcb-bbc3-b743b3ff557d",
   "metadata": {},
   "outputs": [
    {
     "data": {
      "text/plain": [
       "[0, 5, 10, 15, 20, 25, 30, 35, 40, 45, 50, 55, 60, 65, 70, 75, 80, 85, 90, 95]"
      ]
     },
     "execution_count": 18,
     "metadata": {},
     "output_type": "execute_result"
    }
   ],
   "source": [
    "# syntax of range(start,stop,step)\n",
    "list(range(0,100,5))"
   ]
  },
  {
   "cell_type": "code",
   "execution_count": 19,
   "id": "689c75dc-c4df-4fae-92e5-224fd01a1519",
   "metadata": {},
   "outputs": [],
   "source": [
    "# very important problem"
   ]
  },
  {
   "cell_type": "code",
   "execution_count": 20,
   "id": "15df1b66-bba3-46ef-a0d7-4533cd951dec",
   "metadata": {},
   "outputs": [],
   "source": [
    "# problem statement\n",
    "# print a right triangle with astrick (*)"
   ]
  },
  {
   "cell_type": "code",
   "execution_count": 24,
   "id": "427d744f-2bdc-4786-ab1e-fb7b8e515974",
   "metadata": {},
   "outputs": [
    {
     "name": "stdout",
     "output_type": "stream",
     "text": [
      "*\n",
      "**\n",
      "***\n",
      "****\n"
     ]
    }
   ],
   "source": [
    "# problem solution using while loop\n",
    "row = 1\n",
    "while row <= 4:\n",
    "    col = 1\n",
    "    while col <= row:\n",
    "        print(\"*\", end = \"\")\n",
    "        col = col + 1\n",
    "    print()\n",
    "    row = row + 1"
   ]
  },
  {
   "cell_type": "code",
   "execution_count": 26,
   "id": "d9dec496-e6a5-41ac-b174-481aba8e493a",
   "metadata": {},
   "outputs": [
    {
     "name": "stdout",
     "output_type": "stream",
     "text": [
      "*\n",
      "**\n",
      "***\n",
      "****\n"
     ]
    }
   ],
   "source": [
    "# problem solution using while loop\n",
    "for i in range(4):\n",
    "    for j in range(i+1):\n",
    "        print(\"*\", end = \"\")\n",
    "    print()"
   ]
  },
  {
   "cell_type": "code",
   "execution_count": 27,
   "id": "2d218544-728e-4be9-981a-962e666089cd",
   "metadata": {},
   "outputs": [],
   "source": [
    "# internal homework: >> squre of stars\n",
    "# * * *\n",
    "# * * *\n",
    "# * * *"
   ]
  },
  {
   "cell_type": "code",
   "execution_count": 31,
   "id": "c5d06d35-1769-4766-9d1e-7771d9b64365",
   "metadata": {},
   "outputs": [
    {
     "name": "stdout",
     "output_type": "stream",
     "text": [
      "1\n",
      "2\n",
      "4\n",
      "5\n",
      "6\n",
      "8\n",
      "9\n"
     ]
    }
   ],
   "source": [
    "# conditional with for loop\n",
    "num = [1,2,3,4,5,6,7,8,9]\n",
    "for i in num:\n",
    "    if (i == 3) or (i == 7):\n",
    "        continue\n",
    "    print(i)    "
   ]
  },
  {
   "cell_type": "code",
   "execution_count": 32,
   "id": "e48b8c83-8e4b-4131-80ae-d7a050b016b6",
   "metadata": {},
   "outputs": [
    {
     "name": "stdout",
     "output_type": "stream",
     "text": [
      "1\n",
      "2\n"
     ]
    }
   ],
   "source": [
    "num = [1,2,3,4,5,6,7,8,9]\n",
    "for i in num:\n",
    "    if (i == 3) or (i == 7):\n",
    "        break\n",
    "    print(i)  "
   ]
  },
  {
   "cell_type": "code",
   "execution_count": 33,
   "id": "e1209d73-4b0c-461e-8991-b0697079bee2",
   "metadata": {},
   "outputs": [
    {
     "name": "stdout",
     "output_type": "stream",
     "text": [
      "0\n",
      "2\n",
      "4\n",
      "6\n",
      "8\n"
     ]
    }
   ],
   "source": [
    "# print the even no.\n",
    "for i in range(10):\n",
    "    if i%2 != 0:\n",
    "        continue\n",
    "    print(i)\n",
    "        "
   ]
  },
  {
   "cell_type": "code",
   "execution_count": 34,
   "id": "8660334d-cba5-4de7-9a53-78bf091d8c45",
   "metadata": {},
   "outputs": [
    {
     "name": "stdout",
     "output_type": "stream",
     "text": [
      "1\n",
      "3\n",
      "5\n",
      "7\n",
      "9\n"
     ]
    }
   ],
   "source": [
    "# print the odd no.\n",
    "for i in range(10):\n",
    "    if i%2 == 0:\n",
    "        continue\n",
    "    print(i)\n",
    "        "
   ]
  },
  {
   "cell_type": "code",
   "execution_count": 37,
   "id": "8b9eef0f-1982-49fe-917f-d696d0de4cb7",
   "metadata": {},
   "outputs": [
    {
     "name": "stdout",
     "output_type": "stream",
     "text": [
      "1 * 1 = 1\n",
      "1 * 2 = 2\n",
      "1 * 3 = 3\n",
      "1 * 4 = 4\n",
      "1 * 5 = 5\n",
      "1 * 6 = 6\n",
      "1 * 7 = 7\n",
      "1 * 8 = 8\n",
      "1 * 9 = 9\n",
      "1 * 10 = 10\n",
      "\n",
      "2 * 1 = 2\n",
      "2 * 2 = 4\n",
      "2 * 3 = 6\n",
      "2 * 4 = 8\n",
      "2 * 5 = 10\n",
      "2 * 6 = 12\n",
      "2 * 7 = 14\n",
      "2 * 8 = 16\n",
      "2 * 9 = 18\n",
      "2 * 10 = 20\n",
      "\n",
      "3 * 1 = 3\n",
      "3 * 2 = 6\n",
      "3 * 3 = 9\n",
      "3 * 4 = 12\n",
      "3 * 5 = 15\n",
      "3 * 6 = 18\n",
      "3 * 7 = 21\n",
      "3 * 8 = 24\n",
      "3 * 9 = 27\n",
      "3 * 10 = 30\n",
      "\n",
      "4 * 1 = 4\n",
      "4 * 2 = 8\n",
      "4 * 3 = 12\n",
      "4 * 4 = 16\n",
      "4 * 5 = 20\n",
      "4 * 6 = 24\n",
      "4 * 7 = 28\n",
      "4 * 8 = 32\n",
      "4 * 9 = 36\n",
      "4 * 10 = 40\n",
      "\n",
      "5 * 1 = 5\n",
      "5 * 2 = 10\n",
      "5 * 3 = 15\n",
      "5 * 4 = 20\n",
      "5 * 5 = 25\n",
      "5 * 6 = 30\n",
      "5 * 7 = 35\n",
      "5 * 8 = 40\n",
      "5 * 9 = 45\n",
      "5 * 10 = 50\n",
      "\n"
     ]
    }
   ],
   "source": [
    "# multiplication table\n",
    "for i in range(1,6):\n",
    "    for j in range(1,11):\n",
    "        product = i * j\n",
    "        print(f\"{i} * {j} = {product}\")\n",
    "    print()"
   ]
  },
  {
   "cell_type": "code",
   "execution_count": 1,
   "id": "f78ba94e-9edd-405f-936f-635b627cb341",
   "metadata": {},
   "outputs": [
    {
     "data": {
      "text/plain": [
       "11"
      ]
     },
     "execution_count": 1,
     "metadata": {},
     "output_type": "execute_result"
    }
   ],
   "source": [
    "3 + 4 *2"
   ]
  },
  {
   "cell_type": "code",
   "execution_count": null,
   "id": "422f5336-7d59-4f3e-9ad0-c3ddbc8e1760",
   "metadata": {},
   "outputs": [],
   "source": []
  }
 ],
 "metadata": {
  "kernelspec": {
   "display_name": "Python 3 (ipykernel)",
   "language": "python",
   "name": "python3"
  },
  "language_info": {
   "codemirror_mode": {
    "name": "ipython",
    "version": 3
   },
   "file_extension": ".py",
   "mimetype": "text/x-python",
   "name": "python",
   "nbconvert_exporter": "python",
   "pygments_lexer": "ipython3",
   "version": "3.10.13"
  }
 },
 "nbformat": 4,
 "nbformat_minor": 5
}
